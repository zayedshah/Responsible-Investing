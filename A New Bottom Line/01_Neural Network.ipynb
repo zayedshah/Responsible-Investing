{
 "cells": [
  {
   "cell_type": "markdown",
   "metadata": {},
   "source": [
    "# Using Neural Network"
   ]
  },
  {
   "cell_type": "code",
   "execution_count": 1,
   "metadata": {
    "colab": {
     "base_uri": "https://localhost:8080/",
     "height": 36
    },
    "colab_type": "code",
    "executionInfo": {
     "elapsed": 2002,
     "status": "ok",
     "timestamp": 1536310411991,
     "user": {
      "displayName": "Zayed Shah",
      "photoUrl": "//lh6.googleusercontent.com/-mYvyylR9dn0/AAAAAAAAAAI/AAAAAAAAAQM/FR1Q5ai4Ipg/s50-c-k-no/photo.jpg",
      "userId": "103266496270214154227"
     },
     "user_tz": -60
    },
    "id": "w_mZk5zBJiEU",
    "outputId": "2ff5151e-2dc1-4e3f-94cd-3a96de9aaf0a"
   },
   "outputs": [
    {
     "name": "stderr",
     "output_type": "stream",
     "text": [
      "Using TensorFlow backend.\n"
     ]
    }
   ],
   "source": [
    "import pandas as pd\n",
    "import numpy as np\n",
    "\n",
    "from sklearn.model_selection import train_test_split\n",
    "\n",
    "from keras.preprocessing.text import Tokenizer\n",
    "from keras.utils import to_categorical\n",
    "from keras.models import Sequential\n",
    "from keras.layers import Dense, Dropout\n",
    "\n",
    "import matplotlib.pyplot as plt\n",
    "%matplotlib inline"
   ]
  },
  {
   "cell_type": "code",
   "execution_count": 2,
   "metadata": {
    "colab": {
     "base_uri": "https://localhost:8080/",
     "height": 206
    },
    "colab_type": "code",
    "executionInfo": {
     "elapsed": 2347,
     "status": "ok",
     "timestamp": 1536310414470,
     "user": {
      "displayName": "Zayed Shah",
      "photoUrl": "//lh6.googleusercontent.com/-mYvyylR9dn0/AAAAAAAAAAI/AAAAAAAAAQM/FR1Q5ai4Ipg/s50-c-k-no/photo.jpg",
      "userId": "103266496270214154227"
     },
     "user_tz": -60
    },
    "id": "-syxNOFkJo-V",
    "outputId": "fa661776-baa4-46cd-f0e4-58a466a52ed9"
   },
   "outputs": [
    {
     "data": {
      "text/html": [
       "<div>\n",
       "<style scoped>\n",
       "    .dataframe tbody tr th:only-of-type {\n",
       "        vertical-align: middle;\n",
       "    }\n",
       "\n",
       "    .dataframe tbody tr th {\n",
       "        vertical-align: top;\n",
       "    }\n",
       "\n",
       "    .dataframe thead th {\n",
       "        text-align: right;\n",
       "    }\n",
       "</style>\n",
       "<table border=\"1\" class=\"dataframe\">\n",
       "  <thead>\n",
       "    <tr style=\"text-align: right;\">\n",
       "      <th></th>\n",
       "      <th>Identifier</th>\n",
       "      <th>Company Name</th>\n",
       "      <th>Business Description</th>\n",
       "      <th>TRBC Economic Sector Name</th>\n",
       "    </tr>\n",
       "  </thead>\n",
       "  <tbody>\n",
       "    <tr>\n",
       "      <th>0</th>\n",
       "      <td>CMI.N</td>\n",
       "      <td>Cummins Inc</td>\n",
       "      <td>Cummins Inc. designs, manufactures, distribute...</td>\n",
       "      <td>Consumer Cyclicals</td>\n",
       "    </tr>\n",
       "    <tr>\n",
       "      <th>1</th>\n",
       "      <td>RIO.L</td>\n",
       "      <td>Rio Tinto PLC</td>\n",
       "      <td>Rio Tinto plc is a mining and metals company. ...</td>\n",
       "      <td>Basic Materials</td>\n",
       "    </tr>\n",
       "    <tr>\n",
       "      <th>2</th>\n",
       "      <td>RIO.AX</td>\n",
       "      <td>Rio Tinto Ltd</td>\n",
       "      <td>Rio Tinto Limited (Rio Tinto) is a mining comp...</td>\n",
       "      <td>Basic Materials</td>\n",
       "    </tr>\n",
       "    <tr>\n",
       "      <th>3</th>\n",
       "      <td>RDSa.AS</td>\n",
       "      <td>Royal Dutch Shell PLC</td>\n",
       "      <td>The Royal Dutch Shell plc explores for crude o...</td>\n",
       "      <td>Energy</td>\n",
       "    </tr>\n",
       "    <tr>\n",
       "      <th>4</th>\n",
       "      <td>BLT.L</td>\n",
       "      <td>BHP Billiton PLC</td>\n",
       "      <td>BHP Billiton Plc is a global resources company...</td>\n",
       "      <td>Basic Materials</td>\n",
       "    </tr>\n",
       "  </tbody>\n",
       "</table>\n",
       "</div>"
      ],
      "text/plain": [
       "  Identifier           Company Name  \\\n",
       "0      CMI.N            Cummins Inc   \n",
       "1      RIO.L          Rio Tinto PLC   \n",
       "2     RIO.AX          Rio Tinto Ltd   \n",
       "3    RDSa.AS  Royal Dutch Shell PLC   \n",
       "4      BLT.L       BHP Billiton PLC   \n",
       "\n",
       "                                Business Description TRBC Economic Sector Name  \n",
       "0  Cummins Inc. designs, manufactures, distribute...        Consumer Cyclicals  \n",
       "1  Rio Tinto plc is a mining and metals company. ...           Basic Materials  \n",
       "2  Rio Tinto Limited (Rio Tinto) is a mining comp...           Basic Materials  \n",
       "3  The Royal Dutch Shell plc explores for crude o...                    Energy  \n",
       "4  BHP Billiton Plc is a global resources company...           Basic Materials  "
      ]
     },
     "execution_count": 2,
     "metadata": {
      "tags": []
     },
     "output_type": "execute_result"
    }
   ],
   "source": [
    "df = pd.read_excel('/content/drive/Data/Data_ML.xlsx')\n",
    "df.head()"
   ]
  },
  {
   "cell_type": "code",
   "execution_count": 3,
   "metadata": {
    "colab": {
     "base_uri": "https://localhost:8080/",
     "height": 111
    },
    "colab_type": "code",
    "executionInfo": {
     "elapsed": 471,
     "status": "ok",
     "timestamp": 1536310415066,
     "user": {
      "displayName": "Zayed Shah",
      "photoUrl": "//lh6.googleusercontent.com/-mYvyylR9dn0/AAAAAAAAAAI/AAAAAAAAAQM/FR1Q5ai4Ipg/s50-c-k-no/photo.jpg",
      "userId": "103266496270214154227"
     },
     "user_tz": -60
    },
    "id": "cV5BdC4JJqp8",
    "outputId": "b7ed0df4-c133-4754-d787-3a7489aac049"
   },
   "outputs": [
    {
     "data": {
      "text/plain": [
       "Identifier                    0\n",
       "Company Name                  0\n",
       "Business Description         14\n",
       "TRBC Economic Sector Name     0\n",
       "dtype: int64"
      ]
     },
     "execution_count": 3,
     "metadata": {
      "tags": []
     },
     "output_type": "execute_result"
    }
   ],
   "source": [
    "df.isnull().sum()"
   ]
  },
  {
   "cell_type": "code",
   "execution_count": 4,
   "metadata": {
    "colab": {
     "base_uri": "https://localhost:8080/",
     "height": 36
    },
    "colab_type": "code",
    "executionInfo": {
     "elapsed": 450,
     "status": "ok",
     "timestamp": 1536310415748,
     "user": {
      "displayName": "Zayed Shah",
      "photoUrl": "//lh6.googleusercontent.com/-mYvyylR9dn0/AAAAAAAAAAI/AAAAAAAAAQM/FR1Q5ai4Ipg/s50-c-k-no/photo.jpg",
      "userId": "103266496270214154227"
     },
     "user_tz": -60
    },
    "id": "ZBegJAYgJsW1",
    "outputId": "976ba037-c4a9-4286-d040-eb989d120b8f"
   },
   "outputs": [
    {
     "data": {
      "text/plain": [
       "(23022, 4)"
      ]
     },
     "execution_count": 4,
     "metadata": {
      "tags": []
     },
     "output_type": "execute_result"
    }
   ],
   "source": [
    "df = df[pd.notnull(df['Business Description'])]\n",
    "df.shape"
   ]
  },
  {
   "cell_type": "code",
   "execution_count": 5,
   "metadata": {
    "colab": {
     "base_uri": "https://localhost:8080/",
     "height": 206
    },
    "colab_type": "code",
    "executionInfo": {
     "elapsed": 670,
     "status": "ok",
     "timestamp": 1536310416590,
     "user": {
      "displayName": "Zayed Shah",
      "photoUrl": "//lh6.googleusercontent.com/-mYvyylR9dn0/AAAAAAAAAAI/AAAAAAAAAQM/FR1Q5ai4Ipg/s50-c-k-no/photo.jpg",
      "userId": "103266496270214154227"
     },
     "user_tz": -60
    },
    "id": "5CP8ClSrJtpB",
    "outputId": "a732bd51-96cf-4c0f-a031-5f19df9224b5"
   },
   "outputs": [
    {
     "data": {
      "text/html": [
       "<div>\n",
       "<style scoped>\n",
       "    .dataframe tbody tr th:only-of-type {\n",
       "        vertical-align: middle;\n",
       "    }\n",
       "\n",
       "    .dataframe tbody tr th {\n",
       "        vertical-align: top;\n",
       "    }\n",
       "\n",
       "    .dataframe thead th {\n",
       "        text-align: right;\n",
       "    }\n",
       "</style>\n",
       "<table border=\"1\" class=\"dataframe\">\n",
       "  <thead>\n",
       "    <tr style=\"text-align: right;\">\n",
       "      <th></th>\n",
       "      <th>Identifier</th>\n",
       "      <th>Company Name</th>\n",
       "      <th>Business Description</th>\n",
       "      <th>TRBC Economic Sector Name</th>\n",
       "      <th>Sector ID</th>\n",
       "    </tr>\n",
       "  </thead>\n",
       "  <tbody>\n",
       "    <tr>\n",
       "      <th>0</th>\n",
       "      <td>CMI.N</td>\n",
       "      <td>Cummins Inc</td>\n",
       "      <td>Cummins Inc. designs, manufactures, distribute...</td>\n",
       "      <td>Consumer Cyclicals</td>\n",
       "      <td>1</td>\n",
       "    </tr>\n",
       "    <tr>\n",
       "      <th>1</th>\n",
       "      <td>RIO.L</td>\n",
       "      <td>Rio Tinto PLC</td>\n",
       "      <td>Rio Tinto plc is a mining and metals company. ...</td>\n",
       "      <td>Basic Materials</td>\n",
       "      <td>0</td>\n",
       "    </tr>\n",
       "    <tr>\n",
       "      <th>2</th>\n",
       "      <td>RIO.AX</td>\n",
       "      <td>Rio Tinto Ltd</td>\n",
       "      <td>Rio Tinto Limited (Rio Tinto) is a mining comp...</td>\n",
       "      <td>Basic Materials</td>\n",
       "      <td>0</td>\n",
       "    </tr>\n",
       "    <tr>\n",
       "      <th>3</th>\n",
       "      <td>RDSa.AS</td>\n",
       "      <td>Royal Dutch Shell PLC</td>\n",
       "      <td>The Royal Dutch Shell plc explores for crude o...</td>\n",
       "      <td>Energy</td>\n",
       "      <td>3</td>\n",
       "    </tr>\n",
       "    <tr>\n",
       "      <th>4</th>\n",
       "      <td>BLT.L</td>\n",
       "      <td>BHP Billiton PLC</td>\n",
       "      <td>BHP Billiton Plc is a global resources company...</td>\n",
       "      <td>Basic Materials</td>\n",
       "      <td>0</td>\n",
       "    </tr>\n",
       "  </tbody>\n",
       "</table>\n",
       "</div>"
      ],
      "text/plain": [
       "  Identifier           Company Name  \\\n",
       "0      CMI.N            Cummins Inc   \n",
       "1      RIO.L          Rio Tinto PLC   \n",
       "2     RIO.AX          Rio Tinto Ltd   \n",
       "3    RDSa.AS  Royal Dutch Shell PLC   \n",
       "4      BLT.L       BHP Billiton PLC   \n",
       "\n",
       "                                Business Description  \\\n",
       "0  Cummins Inc. designs, manufactures, distribute...   \n",
       "1  Rio Tinto plc is a mining and metals company. ...   \n",
       "2  Rio Tinto Limited (Rio Tinto) is a mining comp...   \n",
       "3  The Royal Dutch Shell plc explores for crude o...   \n",
       "4  BHP Billiton Plc is a global resources company...   \n",
       "\n",
       "  TRBC Economic Sector Name  Sector ID  \n",
       "0        Consumer Cyclicals          1  \n",
       "1           Basic Materials          0  \n",
       "2           Basic Materials          0  \n",
       "3                    Energy          3  \n",
       "4           Basic Materials          0  "
      ]
     },
     "execution_count": 5,
     "metadata": {
      "tags": []
     },
     "output_type": "execute_result"
    }
   ],
   "source": [
    "df['Sector ID'] = df['TRBC Economic Sector Name'].factorize(sort=True)[0]\n",
    "df.head()"
   ]
  },
  {
   "cell_type": "code",
   "execution_count": 6,
   "metadata": {
    "colab": {
     "base_uri": "https://localhost:8080/",
     "height": 36
    },
    "colab_type": "code",
    "executionInfo": {
     "elapsed": 415,
     "status": "ok",
     "timestamp": 1536310417345,
     "user": {
      "displayName": "Zayed Shah",
      "photoUrl": "//lh6.googleusercontent.com/-mYvyylR9dn0/AAAAAAAAAAI/AAAAAAAAAQM/FR1Q5ai4Ipg/s50-c-k-no/photo.jpg",
      "userId": "103266496270214154227"
     },
     "user_tz": -60
    },
    "id": "6i1OavmnJvL1",
    "outputId": "6b98de1a-0c7d-4495-f35c-66903345c79c"
   },
   "outputs": [
    {
     "data": {
      "text/plain": [
       "((23022,), (23022,))"
      ]
     },
     "execution_count": 6,
     "metadata": {
      "tags": []
     },
     "output_type": "execute_result"
    }
   ],
   "source": [
    "X = df['Business Description']\n",
    "y = df['Sector ID']\n",
    "X.shape, y.shape"
   ]
  },
  {
   "cell_type": "code",
   "execution_count": 7,
   "metadata": {
    "colab": {
     "base_uri": "https://localhost:8080/",
     "height": 130
    },
    "colab_type": "code",
    "executionInfo": {
     "elapsed": 395,
     "status": "ok",
     "timestamp": 1536310418031,
     "user": {
      "displayName": "Zayed Shah",
      "photoUrl": "//lh6.googleusercontent.com/-mYvyylR9dn0/AAAAAAAAAAI/AAAAAAAAAQM/FR1Q5ai4Ipg/s50-c-k-no/photo.jpg",
      "userId": "103266496270214154227"
     },
     "user_tz": -60
    },
    "id": "4hKoDEXbJwSz",
    "outputId": "f2a3119a-0813-4662-bd90-f7cf6769696f"
   },
   "outputs": [
    {
     "data": {
      "text/plain": [
       "0    Cummins Inc. designs, manufactures, distribute...\n",
       "1    Rio Tinto plc is a mining and metals company. ...\n",
       "2    Rio Tinto Limited (Rio Tinto) is a mining comp...\n",
       "3    The Royal Dutch Shell plc explores for crude o...\n",
       "4    BHP Billiton Plc is a global resources company...\n",
       "Name: Business Description, dtype: object"
      ]
     },
     "execution_count": 7,
     "metadata": {
      "tags": []
     },
     "output_type": "execute_result"
    }
   ],
   "source": [
    "X.head()"
   ]
  },
  {
   "cell_type": "code",
   "execution_count": 8,
   "metadata": {
    "colab": {
     "base_uri": "https://localhost:8080/",
     "height": 130
    },
    "colab_type": "code",
    "executionInfo": {
     "elapsed": 456,
     "status": "ok",
     "timestamp": 1536310418791,
     "user": {
      "displayName": "Zayed Shah",
      "photoUrl": "//lh6.googleusercontent.com/-mYvyylR9dn0/AAAAAAAAAAI/AAAAAAAAAQM/FR1Q5ai4Ipg/s50-c-k-no/photo.jpg",
      "userId": "103266496270214154227"
     },
     "user_tz": -60
    },
    "id": "A_UUU2NAJxRt",
    "outputId": "d050b6c5-3011-4c5d-adbd-0a2efbddacc1"
   },
   "outputs": [
    {
     "data": {
      "text/plain": [
       "0    1\n",
       "1    0\n",
       "2    0\n",
       "3    3\n",
       "4    0\n",
       "Name: Sector ID, dtype: int64"
      ]
     },
     "execution_count": 8,
     "metadata": {
      "tags": []
     },
     "output_type": "execute_result"
    }
   ],
   "source": [
    "y.head()"
   ]
  },
  {
   "cell_type": "code",
   "execution_count": 9,
   "metadata": {
    "colab": {
     "base_uri": "https://localhost:8080/",
     "height": 92
    },
    "colab_type": "code",
    "executionInfo": {
     "elapsed": 459,
     "status": "ok",
     "timestamp": 1536310419445,
     "user": {
      "displayName": "Zayed Shah",
      "photoUrl": "//lh6.googleusercontent.com/-mYvyylR9dn0/AAAAAAAAAAI/AAAAAAAAAQM/FR1Q5ai4Ipg/s50-c-k-no/photo.jpg",
      "userId": "103266496270214154227"
     },
     "user_tz": -60
    },
    "id": "twwjmCUeJy0j",
    "outputId": "04b65ab5-4960-412d-9cdd-97634d34bacc"
   },
   "outputs": [
    {
     "name": "stdout",
     "output_type": "stream",
     "text": [
      "(18417,)\n",
      "(4605,)\n",
      "(18417,)\n",
      "(4605,)\n"
     ]
    }
   ],
   "source": [
    "X_train, X_test, y_train, y_test = train_test_split(X, y, test_size=0.2, random_state=0)\n",
    "\n",
    "splits = [X_train, X_test, y_train, y_test]\n",
    "for _ in splits:\n",
    "    print(_.shape)"
   ]
  },
  {
   "cell_type": "code",
   "execution_count": 10,
   "metadata": {
    "colab": {
     "base_uri": "https://localhost:8080/",
     "height": 36
    },
    "colab_type": "code",
    "executionInfo": {
     "elapsed": 3119,
     "status": "ok",
     "timestamp": 1536310423074,
     "user": {
      "displayName": "Zayed Shah",
      "photoUrl": "//lh6.googleusercontent.com/-mYvyylR9dn0/AAAAAAAAAAI/AAAAAAAAAQM/FR1Q5ai4Ipg/s50-c-k-no/photo.jpg",
      "userId": "103266496270214154227"
     },
     "user_tz": -60
    },
    "id": "A_-o6kpZJ7er",
    "outputId": "51c19bda-3714-4a2a-e5bf-aedfc4067b27"
   },
   "outputs": [
    {
     "data": {
      "text/plain": [
       "70673"
      ]
     },
     "execution_count": 10,
     "metadata": {
      "tags": []
     },
     "output_type": "execute_result"
    }
   ],
   "source": [
    "max_words = 10000\n",
    "tokenizer = Tokenizer(num_words=max_words)\n",
    "tokenizer.fit_on_texts(X_train)\n",
    "w2i = tokenizer.word_index\n",
    "len(w2i)"
   ]
  },
  {
   "cell_type": "code",
   "execution_count": 11,
   "metadata": {
    "colab": {
     "base_uri": "https://localhost:8080/",
     "height": 55
    },
    "colab_type": "code",
    "executionInfo": {
     "elapsed": 748,
     "status": "ok",
     "timestamp": 1536310423902,
     "user": {
      "displayName": "Zayed Shah",
      "photoUrl": "//lh6.googleusercontent.com/-mYvyylR9dn0/AAAAAAAAAAI/AAAAAAAAAQM/FR1Q5ai4Ipg/s50-c-k-no/photo.jpg",
      "userId": "103266496270214154227"
     },
     "user_tz": -60
    },
    "id": "vpp68CxqKACa",
    "outputId": "19b6be0b-8202-4400-abc3-1430cb004679"
   },
   "outputs": [
    {
     "name": "stdout",
     "output_type": "stream",
     "text": [
      "['and', 'the', 'of', 'in', 'company', 'is', 'a', 'as', 'products', 'its']\n",
      "[1, 2, 3, 4, 5, 6, 7, 8, 9, 10]\n"
     ]
    }
   ],
   "source": [
    "i2w = dict((v,k) for (k,v) in w2i.items())\n",
    "\n",
    "print(list(w2i)[:10])\n",
    "print(list(i2w)[:10])"
   ]
  },
  {
   "cell_type": "code",
   "execution_count": 12,
   "metadata": {
    "colab": {
     "base_uri": "https://localhost:8080/",
     "height": 36
    },
    "colab_type": "code",
    "executionInfo": {
     "elapsed": 2528,
     "status": "ok",
     "timestamp": 1536310426730,
     "user": {
      "displayName": "Zayed Shah",
      "photoUrl": "//lh6.googleusercontent.com/-mYvyylR9dn0/AAAAAAAAAAI/AAAAAAAAAQM/FR1Q5ai4Ipg/s50-c-k-no/photo.jpg",
      "userId": "103266496270214154227"
     },
     "user_tz": -60
    },
    "id": "vdnTRYdxKDbM",
    "outputId": "475087dc-2c95-4020-8448-a27e77b90d99"
   },
   "outputs": [
    {
     "data": {
      "text/plain": [
       "(18417, 4605)"
      ]
     },
     "execution_count": 12,
     "metadata": {
      "tags": []
     },
     "output_type": "execute_result"
    }
   ],
   "source": [
    "X_train_sequences = tokenizer.texts_to_sequences(X_train)\n",
    "X_test_sequences = tokenizer.texts_to_sequences(X_test)\n",
    "\n",
    "len(X_train_sequences), len(X_test_sequences)"
   ]
  },
  {
   "cell_type": "code",
   "execution_count": 13,
   "metadata": {
    "colab": {
     "base_uri": "https://localhost:8080/",
     "height": 187
    },
    "colab_type": "code",
    "executionInfo": {
     "elapsed": 449,
     "status": "ok",
     "timestamp": 1536310427328,
     "user": {
      "displayName": "Zayed Shah",
      "photoUrl": "//lh6.googleusercontent.com/-mYvyylR9dn0/AAAAAAAAAAI/AAAAAAAAAQM/FR1Q5ai4Ipg/s50-c-k-no/photo.jpg",
      "userId": "103266496270214154227"
     },
     "user_tz": -60
    },
    "id": "ngTPtAnDKJXl",
    "outputId": "b2867c7e-14c0-45bc-9cc8-ae8e31accf12"
   },
   "outputs": [
    {
     "data": {
      "text/plain": [
       "array([ 127,    6,    7,  364,    1, 1035,    3,  184,    9,    1, 6067,\n",
       "          2,    5,   19,   22,   89,   27, 5631, 3377,    9,    1, 2586,\n",
       "          1,    2, 5631, 3377,    9,    1,   13,  137,    1,  140, 3617,\n",
       "          1, 2312, 1459, 1976,    1, 1746, 1038, 4439, 2741, 1038, 1038,\n",
       "        676,    1, 1038, 4688,  586, 2099,    9,    1, 2560, 5084,    2,\n",
       "       2586,   13,  235,    1,  140,    7,   81,    3, 2586,   85,   32,\n",
       "       1038,  367, 2586,  962,    1, 1747,    9,   38,    8, 8754, 2586,\n",
       "        962,    1, 1262,    2,   13,  235,    1,  140, 2409, 6067,  143,\n",
       "        229,  963, 6067,    1,  143,    1,   71, 4934])"
      ]
     },
     "execution_count": 13,
     "metadata": {
      "tags": []
     },
     "output_type": "execute_result"
    }
   ],
   "source": [
    "np.array(X_train_sequences[0])"
   ]
  },
  {
   "cell_type": "code",
   "execution_count": 14,
   "metadata": {
    "colab": {
     "base_uri": "https://localhost:8080/",
     "height": 36
    },
    "colab_type": "code",
    "executionInfo": {
     "elapsed": 405,
     "status": "ok",
     "timestamp": 1536310428010,
     "user": {
      "displayName": "Zayed Shah",
      "photoUrl": "//lh6.googleusercontent.com/-mYvyylR9dn0/AAAAAAAAAAI/AAAAAAAAAQM/FR1Q5ai4Ipg/s50-c-k-no/photo.jpg",
      "userId": "103266496270214154227"
     },
     "user_tz": -60
    },
    "id": "Z9-hKMr0KOmD",
    "outputId": "1aabfb09-6fa2-42a3-86e8-a933a5173976"
   },
   "outputs": [
    {
     "data": {
      "text/plain": [
       "(96, 95)"
      ]
     },
     "execution_count": 14,
     "metadata": {
      "tags": []
     },
     "output_type": "execute_result"
    }
   ],
   "source": [
    "len(X_train_sequences[0]), len(X_train_sequences[1])"
   ]
  },
  {
   "cell_type": "code",
   "execution_count": 15,
   "metadata": {
    "colab": {
     "base_uri": "https://localhost:8080/",
     "height": 36
    },
    "colab_type": "code",
    "executionInfo": {
     "elapsed": 6818,
     "status": "ok",
     "timestamp": 1536310435101,
     "user": {
      "displayName": "Zayed Shah",
      "photoUrl": "//lh6.googleusercontent.com/-mYvyylR9dn0/AAAAAAAAAAI/AAAAAAAAAQM/FR1Q5ai4Ipg/s50-c-k-no/photo.jpg",
      "userId": "103266496270214154227"
     },
     "user_tz": -60
    },
    "id": "GZSIMHoFKX4U",
    "outputId": "2d849d9f-fbc9-4c27-dcb7-1be3c61e3400"
   },
   "outputs": [
    {
     "data": {
      "text/plain": [
       "((18417, 10000), (4605, 10000))"
      ]
     },
     "execution_count": 15,
     "metadata": {
      "tags": []
     },
     "output_type": "execute_result"
    }
   ],
   "source": [
    "X_train_matrix = tokenizer.sequences_to_matrix(X_train_sequences, mode='tfidf')\n",
    "X_test_matrix = tokenizer.sequences_to_matrix(X_test_sequences, mode='tfidf')\n",
    "\n",
    "X_train_matrix.shape, X_test_matrix.shape"
   ]
  },
  {
   "cell_type": "code",
   "execution_count": 16,
   "metadata": {
    "colab": {
     "base_uri": "https://localhost:8080/",
     "height": 55
    },
    "colab_type": "code",
    "executionInfo": {
     "elapsed": 439,
     "status": "ok",
     "timestamp": 1536310435790,
     "user": {
      "displayName": "Zayed Shah",
      "photoUrl": "//lh6.googleusercontent.com/-mYvyylR9dn0/AAAAAAAAAAI/AAAAAAAAAQM/FR1Q5ai4Ipg/s50-c-k-no/photo.jpg",
      "userId": "103266496270214154227"
     },
     "user_tz": -60
    },
    "id": "HuzVkTszLPro",
    "outputId": "81be2bbb-8e2e-431f-b4a1-1bb5eb7f5891"
   },
   "outputs": [
    {
     "data": {
      "text/plain": [
       "array([0.        , 2.6216343 , 1.65938339, ..., 0.        , 0.        ,\n",
       "       0.        ])"
      ]
     },
     "execution_count": 16,
     "metadata": {
      "tags": []
     },
     "output_type": "execute_result"
    }
   ],
   "source": [
    "X_train_matrix[0]"
   ]
  },
  {
   "cell_type": "code",
   "execution_count": 17,
   "metadata": {
    "colab": {
     "base_uri": "https://localhost:8080/",
     "height": 36
    },
    "colab_type": "code",
    "executionInfo": {
     "elapsed": 497,
     "status": "ok",
     "timestamp": 1536310436739,
     "user": {
      "displayName": "Zayed Shah",
      "photoUrl": "//lh6.googleusercontent.com/-mYvyylR9dn0/AAAAAAAAAAI/AAAAAAAAAQM/FR1Q5ai4Ipg/s50-c-k-no/photo.jpg",
      "userId": "103266496270214154227"
     },
     "user_tz": -60
    },
    "id": "Kt0MPvF4LT9P",
    "outputId": "80f1ddd6-a9a7-44a5-efa5-2edb4d93caee"
   },
   "outputs": [
    {
     "data": {
      "text/plain": [
       "((18417, 10), (4605, 10))"
      ]
     },
     "execution_count": 17,
     "metadata": {
      "tags": []
     },
     "output_type": "execute_result"
    }
   ],
   "source": [
    "y_train_categorical = to_categorical(y_train)\n",
    "y_test_categorical = to_categorical(y_test)\n",
    "\n",
    "y_train_categorical.shape, y_test_categorical.shape"
   ]
  },
  {
   "cell_type": "code",
   "execution_count": 18,
   "metadata": {
    "colab": {
     "base_uri": "https://localhost:8080/",
     "height": 36
    },
    "colab_type": "code",
    "executionInfo": {
     "elapsed": 418,
     "status": "ok",
     "timestamp": 1536310437350,
     "user": {
      "displayName": "Zayed Shah",
      "photoUrl": "//lh6.googleusercontent.com/-mYvyylR9dn0/AAAAAAAAAAI/AAAAAAAAAQM/FR1Q5ai4Ipg/s50-c-k-no/photo.jpg",
      "userId": "103266496270214154227"
     },
     "user_tz": -60
    },
    "id": "7sFDR1KBLsgY",
    "outputId": "a66e86b2-6dbb-4a64-b4a7-80c3ea54123a"
   },
   "outputs": [
    {
     "data": {
      "text/plain": [
       "array([1., 0., 0., 0., 0., 0., 0., 0., 0., 0.], dtype=float32)"
      ]
     },
     "execution_count": 18,
     "metadata": {
      "tags": []
     },
     "output_type": "execute_result"
    }
   ],
   "source": [
    "y_train_categorical[0]"
   ]
  },
  {
   "cell_type": "code",
   "execution_count": 19,
   "metadata": {
    "colab": {
     "base_uri": "https://localhost:8080/",
     "height": 413
    },
    "colab_type": "code",
    "executionInfo": {
     "elapsed": 20771,
     "status": "ok",
     "timestamp": 1536310458275,
     "user": {
      "displayName": "Zayed Shah",
      "photoUrl": "//lh6.googleusercontent.com/-mYvyylR9dn0/AAAAAAAAAAI/AAAAAAAAAQM/FR1Q5ai4Ipg/s50-c-k-no/photo.jpg",
      "userId": "103266496270214154227"
     },
     "user_tz": -60
    },
    "id": "xEVmzqboMHpv",
    "outputId": "1a917e34-a458-4bc9-c257-125654f7cfd8"
   },
   "outputs": [
    {
     "name": "stdout",
     "output_type": "stream",
     "text": [
      "Train on 14733 samples, validate on 3684 samples\n",
      "Epoch 1/10\n",
      "14733/14733 [==============================] - 3s 186us/step - loss: 0.8963 - acc: 0.7189 - val_loss: 0.5969 - val_acc: 0.8203\n",
      "Epoch 2/10\n",
      "14733/14733 [==============================] - 2s 130us/step - loss: 0.2140 - acc: 0.9377 - val_loss: 0.6070 - val_acc: 0.8127\n",
      "Epoch 3/10\n",
      "14733/14733 [==============================] - 2s 131us/step - loss: 0.0884 - acc: 0.9804 - val_loss: 0.6603 - val_acc: 0.8149\n",
      "Epoch 4/10\n",
      "14733/14733 [==============================] - 2s 128us/step - loss: 0.0413 - acc: 0.9935 - val_loss: 0.7083 - val_acc: 0.8135\n",
      "Epoch 5/10\n",
      "14733/14733 [==============================] - 2s 130us/step - loss: 0.0241 - acc: 0.9977 - val_loss: 0.7499 - val_acc: 0.8122\n",
      "Epoch 6/10\n",
      "14733/14733 [==============================] - 2s 131us/step - loss: 0.0158 - acc: 0.9989 - val_loss: 0.7875 - val_acc: 0.8103\n",
      "Epoch 7/10\n",
      "14733/14733 [==============================] - 2s 129us/step - loss: 0.0113 - acc: 0.9996 - val_loss: 0.8157 - val_acc: 0.8094\n",
      "Epoch 8/10\n",
      "14733/14733 [==============================] - 2s 129us/step - loss: 0.0089 - acc: 0.9997 - val_loss: 0.8424 - val_acc: 0.8094\n",
      "Epoch 9/10\n",
      "14733/14733 [==============================] - 2s 127us/step - loss: 0.0077 - acc: 0.9997 - val_loss: 0.8654 - val_acc: 0.8073\n",
      "Epoch 10/10\n",
      "14733/14733 [==============================] - 2s 128us/step - loss: 0.0065 - acc: 0.9998 - val_loss: 0.8851 - val_acc: 0.8094\n"
     ]
    }
   ],
   "source": [
    "model = Sequential()\n",
    "model.add(Dense(1024, input_shape=(max_words,), activation='relu'))\n",
    "model.add(Dropout(0.5))\n",
    "model.add(Dense(10, activation='softmax'))\n",
    "\n",
    "model.compile(loss='categorical_crossentropy', optimizer='adam', metrics=['accuracy'])\n",
    "\n",
    "history = model.fit(X_train_matrix, y_train_categorical, batch_size=512, epochs=10, validation_split=0.2)"
   ]
  },
  {
   "cell_type": "code",
   "execution_count": 20,
   "metadata": {
    "colab": {
     "base_uri": "https://localhost:8080/",
     "height": 36
    },
    "colab_type": "code",
    "executionInfo": {
     "elapsed": 467,
     "status": "ok",
     "timestamp": 1536310458900,
     "user": {
      "displayName": "Zayed Shah",
      "photoUrl": "//lh6.googleusercontent.com/-mYvyylR9dn0/AAAAAAAAAAI/AAAAAAAAAQM/FR1Q5ai4Ipg/s50-c-k-no/photo.jpg",
      "userId": "103266496270214154227"
     },
     "user_tz": -60
    },
    "id": "xafhxeOGM4b7",
    "outputId": "29e1fdec-f3c7-43e6-e575-72a67c7d1709"
   },
   "outputs": [
    {
     "data": {
      "text/plain": [
       "dict_keys(['val_loss', 'val_acc', 'loss', 'acc'])"
      ]
     },
     "execution_count": 20,
     "metadata": {
      "tags": []
     },
     "output_type": "execute_result"
    }
   ],
   "source": [
    "history_dict = history.history\n",
    "history_dict.keys()"
   ]
  },
  {
   "cell_type": "code",
   "execution_count": 21,
   "metadata": {
    "colab": {
     "base_uri": "https://localhost:8080/",
     "height": 313
    },
    "colab_type": "code",
    "executionInfo": {
     "elapsed": 773,
     "status": "ok",
     "timestamp": 1536310459866,
     "user": {
      "displayName": "Zayed Shah",
      "photoUrl": "//lh6.googleusercontent.com/-mYvyylR9dn0/AAAAAAAAAAI/AAAAAAAAAQM/FR1Q5ai4Ipg/s50-c-k-no/photo.jpg",
      "userId": "103266496270214154227"
     },
     "user_tz": -60
    },
    "id": "UfQw5VijM-Xk",
    "outputId": "bbc34b3a-5ffc-4a20-ddd7-4e01513c25ed"
   },
   "outputs": [
    {
     "data": {
      "text/plain": [
       "<matplotlib.legend.Legend at 0x7f387d789e48>"
      ]
     },
     "execution_count": 21,
     "metadata": {
      "tags": []
     },
     "output_type": "execute_result"
    },
    {
     "data": {
      "image/png": "[encoded data removed]",
      "text/plain": [
       "<matplotlib.figure.Figure at 0x7f38825ddd68>"
      ]
     },
     "metadata": {
      "tags": []
     },
     "output_type": "display_data"
    }
   ],
   "source": [
    "acc = history.history['acc']\n",
    "val_acc = history.history['val_acc']\n",
    "loss = history.history['loss']\n",
    "val_loss = history.history['val_loss']\n",
    "\n",
    "epochs = range(1, len(acc) + 1)\n",
    "\n",
    "plt.plot(epochs, loss, 'bo', label='Training loss')\n",
    "plt.plot(epochs, val_loss, 'b', label='Validation loss')\n",
    "plt.title('Training and validation loss')\n",
    "plt.xlabel('Epochs')\n",
    "plt.ylabel('Loss')\n",
    "plt.legend()"
   ]
  },
  {
   "cell_type": "code",
   "execution_count": 22,
   "metadata": {
    "colab": {
     "base_uri": "https://localhost:8080/",
     "height": 313
    },
    "colab_type": "code",
    "executionInfo": {
     "elapsed": 696,
     "status": "ok",
     "timestamp": 1536310460803,
     "user": {
      "displayName": "Zayed Shah",
      "photoUrl": "//lh6.googleusercontent.com/-mYvyylR9dn0/AAAAAAAAAAI/AAAAAAAAAQM/FR1Q5ai4Ipg/s50-c-k-no/photo.jpg",
      "userId": "103266496270214154227"
     },
     "user_tz": -60
    },
    "id": "fE7Q_ydHM_mS",
    "outputId": "8eaaad19-008d-445b-9651-d4dae7431e8a"
   },
   "outputs": [
    {
     "data": {
      "text/plain": [
       "<matplotlib.legend.Legend at 0x7f387d759ac8>"
      ]
     },
     "execution_count": 22,
     "metadata": {
      "tags": []
     },
     "output_type": "execute_result"
    },
    {
     "data": {
      "image/png": "[encoded data removed]",
      "text/plain": [
       "<matplotlib.figure.Figure at 0x7f38825dd748>"
      ]
     },
     "metadata": {
      "tags": []
     },
     "output_type": "display_data"
    }
   ],
   "source": [
    "plt.clf()\n",
    "acc_values = history_dict['acc']\n",
    "val_acc_values = history_dict['val_acc']\n",
    "\n",
    "plt.plot(epochs, acc, 'bo', label='Training acc')\n",
    "plt.plot(epochs, val_acc, 'b', label='Validation acc')\n",
    "plt.title('Training and validation accuracy')\n",
    "plt.xlabel('Epochs')\n",
    "plt.ylabel('Accuracy')\n",
    "plt.legend()"
   ]
  }
 ],
 "metadata": {
  "accelerator": "GPU",
  "colab": {
   "collapsed_sections": [],
   "name": "0907_0929_Neural Network.ipynb",
   "provenance": [],
   "version": "0.3.2"
  },
  "kernelspec": {
   "display_name": "Python [default]",
   "language": "python",
   "name": "python3"
  },
  "language_info": {
   "codemirror_mode": {
    "name": "ipython",
    "version": 3
   },
   "file_extension": ".py",
   "mimetype": "text/x-python",
   "name": "python",
   "nbconvert_exporter": "python",
   "pygments_lexer": "ipython3",
   "version": "3.6.6"
  }
 },
 "nbformat": 4,
 "nbformat_minor": 1
}
