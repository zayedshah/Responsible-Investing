{
 "cells": [
  {
   "cell_type": "markdown",
   "metadata": {},
   "source": [
    "# Using Gensim - Part 1"
   ]
  },
  {
   "cell_type": "code",
   "execution_count": 1,
   "metadata": {},
   "outputs": [
    {
     "name": "stderr",
     "output_type": "stream",
     "text": [
      "Using TensorFlow backend.\n"
     ]
    }
   ],
   "source": [
    "import pandas as pd\n",
    "import numpy as np\n",
    "\n",
    "from sklearn.model_selection import train_test_split\n",
    "from keras.preprocessing.text import Tokenizer\n",
    "\n",
    "import pickle\n",
    "\n",
    "import warnings\n",
    "warnings.filterwarnings(action='ignore', category=UserWarning, module='gensim')\n",
    "\n",
    "from gensim.models.keyedvectors import KeyedVectors"
   ]
  },
  {
   "cell_type": "code",
   "execution_count": 2,
   "metadata": {},
   "outputs": [
    {
     "data": {
      "text/plain": [
       "((23022,), (23022,))"
      ]
     },
     "execution_count": 2,
     "metadata": {},
     "output_type": "execute_result"
    }
   ],
   "source": [
    "df = pd.read_excel('../ML/Data_ML.xlsx')\n",
    "df = df[pd.notnull(df['Business Description'])]\n",
    "df['Sector ID'] = df['TRBC Economic Sector Name'].factorize(sort=True)[0]\n",
    "X = df['Business Description']\n",
    "y = df['Sector ID']\n",
    "X.shape, y.shape"
   ]
  },
  {
   "cell_type": "code",
   "execution_count": 3,
   "metadata": {},
   "outputs": [
    {
     "data": {
      "text/plain": [
       "0    Cummins Inc. designs, manufactures, distribute...\n",
       "1    Rio Tinto plc is a mining and metals company. ...\n",
       "2    Rio Tinto Limited (Rio Tinto) is a mining comp...\n",
       "3    The Royal Dutch Shell plc explores for crude o...\n",
       "4    BHP Billiton Plc is a global resources company...\n",
       "Name: Business Description, dtype: object"
      ]
     },
     "execution_count": 3,
     "metadata": {},
     "output_type": "execute_result"
    }
   ],
   "source": [
    "X.head()"
   ]
  },
  {
   "cell_type": "code",
   "execution_count": 4,
   "metadata": {},
   "outputs": [
    {
     "data": {
      "text/plain": [
       "0    1\n",
       "1    0\n",
       "2    0\n",
       "3    3\n",
       "4    0\n",
       "Name: Sector ID, dtype: int64"
      ]
     },
     "execution_count": 4,
     "metadata": {},
     "output_type": "execute_result"
    }
   ],
   "source": [
    "y.head()"
   ]
  },
  {
   "cell_type": "code",
   "execution_count": 5,
   "metadata": {},
   "outputs": [
    {
     "name": "stdout",
     "output_type": "stream",
     "text": [
      "(18417,)\n",
      "(4605,)\n",
      "(18417,)\n",
      "(4605,)\n"
     ]
    }
   ],
   "source": [
    "X_train, X_test, y_train, y_test = train_test_split(X, y, test_size=0.2, random_state=0)\n",
    "\n",
    "splits = [X_train, X_test, y_train, y_test]\n",
    "for _ in splits:\n",
    "    print(_.shape)"
   ]
  },
  {
   "cell_type": "code",
   "execution_count": 6,
   "metadata": {},
   "outputs": [
    {
     "data": {
      "text/plain": [
       "70673"
      ]
     },
     "execution_count": 6,
     "metadata": {},
     "output_type": "execute_result"
    }
   ],
   "source": [
    "max_words = 10000\n",
    "tokenizer = Tokenizer(num_words=max_words)\n",
    "tokenizer.fit_on_texts(X_train)\n",
    "w2i = tokenizer.word_index\n",
    "len(w2i)"
   ]
  },
  {
   "cell_type": "code",
   "execution_count": 7,
   "metadata": {},
   "outputs": [
    {
     "name": "stdout",
     "output_type": "stream",
     "text": [
      "['and', 'the', 'of', 'in', 'company', 'is', 'a', 'as', 'products', 'its']\n",
      "[1, 2, 3, 4, 5, 6, 7, 8, 9, 10]\n"
     ]
    }
   ],
   "source": [
    "i2w = dict((v,k) for (k,v) in w2i.items())\n",
    "\n",
    "print(list(w2i)[:10])\n",
    "print(list(i2w)[:10])"
   ]
  },
  {
   "cell_type": "code",
   "execution_count": 8,
   "metadata": {},
   "outputs": [
    {
     "name": "stdout",
     "output_type": "stream",
     "text": [
      "Loading word2vec\n",
      "Wall time: 10min 51s\n"
     ]
    }
   ],
   "source": [
    "%%time\n",
    "\n",
    "word2vec_path = '../GoogleNews-vectors-negative300.bin'\n",
    "print('Loading word2vec')\n",
    "word2vec = KeyedVectors.load_word2vec_format(word2vec_path, binary=True)"
   ]
  },
  {
   "cell_type": "code",
   "execution_count": 9,
   "metadata": {},
   "outputs": [
    {
     "name": "stdout",
     "output_type": "stream",
     "text": [
      "embed_matrix.shape (10000, 300)\n"
     ]
    },
    {
     "name": "stderr",
     "output_type": "stream",
     "text": [
      "C:\\ProgramData\\Anaconda3\\lib\\site-packages\\ipykernel\\__main__.py:7: DeprecationWarning: Call to deprecated `wv` (Attribute will be removed in 4.0.0, use self instead).\n",
      "C:\\ProgramData\\Anaconda3\\lib\\site-packages\\ipykernel\\__main__.py:8: DeprecationWarning: Call to deprecated `wv` (Attribute will be removed in 4.0.0, use self instead).\n"
     ]
    },
    {
     "name": "stdout",
     "output_type": "stream",
     "text": [
      "8837 words are found with embeddings.\n"
     ]
    }
   ],
   "source": [
    "embedding_matrix = np.zeros((10000, 300))\n",
    "print('embed_matrix.shape', embedding_matrix.shape)\n",
    "found_counter = 0\n",
    "for word, idx in w2i.items():    \n",
    "    if idx >= max_words:\n",
    "        break\n",
    "    if word in word2vec.wv:\n",
    "        embedding_matrix[idx] = word2vec.wv[word]\n",
    "        found_counter += 1\n",
    "print(found_counter, 'words are found with embeddings.')"
   ]
  },
  {
   "cell_type": "code",
   "execution_count": 10,
   "metadata": {
    "scrolled": true
   },
   "outputs": [
    {
     "data": {
      "text/plain": [
       "array([-2.94921875e-01,  8.44726562e-02,  1.03149414e-02,  3.45703125e-01,\n",
       "       -9.37500000e-02,  5.54199219e-02,  1.31835938e-01, -2.73437500e-01,\n",
       "       -1.18164062e-01,  3.12500000e-01, -2.96875000e-01, -3.69140625e-01,\n",
       "        1.00585938e-01, -1.79687500e-01, -1.68945312e-01,  1.12792969e-01,\n",
       "       -1.22558594e-01,  2.75390625e-01, -2.15820312e-01, -4.53125000e-01,\n",
       "        9.47265625e-02, -1.61132812e-01,  3.20312500e-01, -3.28125000e-01,\n",
       "        1.73828125e-01,  5.97656250e-01, -2.20703125e-01,  1.93359375e-01,\n",
       "       -4.46777344e-02, -6.25000000e-02, -1.34765625e-01, -1.07910156e-01,\n",
       "       -3.14453125e-01, -5.15136719e-02, -9.61914062e-02, -1.56250000e-01,\n",
       "       -2.38281250e-01,  1.61132812e-02,  6.13403320e-03,  8.20312500e-02,\n",
       "       -6.78710938e-02,  1.63085938e-01,  2.04101562e-01, -8.83789062e-02,\n",
       "        2.05078125e-01,  1.46484375e-01, -4.29687500e-02,  2.07031250e-01,\n",
       "       -2.34375000e-01, -1.04980469e-01,  1.11328125e-01,  2.00195312e-01,\n",
       "       -4.73632812e-02,  7.27539062e-02, -2.91015625e-01,  1.56250000e-01,\n",
       "       -1.96289062e-01, -7.61718750e-02,  1.66992188e-01, -2.65625000e-01,\n",
       "       -7.86132812e-02,  1.44531250e-01, -2.45117188e-01, -1.17187500e-01,\n",
       "       -2.55859375e-01,  2.19726562e-01, -2.12890625e-01, -1.63085938e-01,\n",
       "       -4.08935547e-03,  1.28906250e-01,  4.37500000e-01,  9.61914062e-02,\n",
       "        2.83203125e-02, -4.78515625e-02, -1.18652344e-01, -9.17968750e-02,\n",
       "       -2.12890625e-01,  2.19726562e-01, -9.52148438e-02, -1.78710938e-01,\n",
       "        1.41906738e-03, -2.67578125e-01,  7.66601562e-02, -2.01171875e-01,\n",
       "        1.32812500e-01,  1.58203125e-01, -2.29492188e-01, -4.10156250e-02,\n",
       "        2.50244141e-02,  7.81250000e-02, -2.06298828e-02, -5.34667969e-02,\n",
       "       -9.57031250e-02,  1.44531250e-01, -2.23388672e-02, -5.78613281e-02,\n",
       "        7.81250000e-02, -2.51953125e-01,  2.11914062e-01, -2.69775391e-02,\n",
       "       -2.57812500e-01, -3.22265625e-02,  1.67968750e-01, -1.61132812e-02,\n",
       "       -5.20019531e-02,  7.03125000e-02,  8.25195312e-02,  2.09960938e-01,\n",
       "        4.15039062e-02, -5.12695312e-02, -3.51562500e-01,  8.39843750e-02,\n",
       "       -1.60156250e-01, -1.59179688e-01,  1.75781250e-01, -1.39160156e-02,\n",
       "        1.69921875e-01, -1.00097656e-01, -9.71679688e-02, -2.29492188e-02,\n",
       "        1.19628906e-02,  1.85546875e-01,  5.27343750e-01,  2.14843750e-01,\n",
       "       -5.90820312e-02,  1.39648438e-01,  7.37304688e-02, -1.53320312e-01,\n",
       "        1.16210938e-01, -6.25000000e-02,  4.17480469e-02,  2.01416016e-02,\n",
       "        2.36816406e-02,  5.27343750e-01, -4.41894531e-02,  3.80859375e-02,\n",
       "       -6.40625000e-01,  5.20019531e-02, -2.10571289e-03, -8.66699219e-03,\n",
       "        1.57226562e-01, -2.05078125e-01,  7.42187500e-02,  3.05175781e-02,\n",
       "        7.56835938e-02,  1.82617188e-01,  1.19140625e-01, -6.05468750e-02,\n",
       "       -1.55273438e-01, -6.93359375e-02,  2.81250000e-01, -2.34375000e-01,\n",
       "       -1.77001953e-02, -8.69750977e-04, -6.34765625e-02, -3.20312500e-01,\n",
       "       -2.43164062e-01,  1.66015625e-01, -2.06054688e-01,  9.37500000e-02,\n",
       "       -2.83203125e-01, -2.74658203e-03,  4.44335938e-02, -7.66601562e-02,\n",
       "       -1.48437500e-01, -1.17675781e-01,  2.01171875e-01, -3.68652344e-02,\n",
       "       -2.46093750e-01,  2.29492188e-01, -3.28125000e-01,  1.41601562e-01,\n",
       "        1.63085938e-01,  4.78515625e-02,  3.36914062e-02, -6.59179688e-02,\n",
       "        3.94531250e-01, -9.91210938e-02,  3.47656250e-01, -1.55273438e-01,\n",
       "       -2.04101562e-01,  3.60107422e-03, -6.59179688e-02,  1.05957031e-01,\n",
       "        2.69531250e-01, -5.29785156e-02,  2.17773438e-01,  5.17578125e-02,\n",
       "       -7.95898438e-02,  1.03515625e-01,  1.20605469e-01,  1.41601562e-01,\n",
       "       -1.12792969e-01,  2.04101562e-01,  4.88281250e-02,  1.36718750e-01,\n",
       "       -4.68750000e-02, -4.53125000e-01,  3.90625000e-02, -2.19726562e-01,\n",
       "       -4.47265625e-01,  3.39355469e-02, -6.68945312e-02, -1.37695312e-01,\n",
       "       -2.77343750e-01,  1.75781250e-01,  8.83789062e-02,  3.06396484e-02,\n",
       "       -2.49023438e-02, -3.84521484e-03, -2.19726562e-01, -5.45501709e-04,\n",
       "       -1.66992188e-01,  1.23046875e-01,  3.98437500e-01,  2.86865234e-02,\n",
       "       -1.10351562e-01,  4.27246094e-03,  1.37695312e-01,  2.61718750e-01,\n",
       "       -4.39453125e-02,  4.63867188e-02, -9.42382812e-02,  2.85156250e-01,\n",
       "        9.52148438e-02, -3.59375000e-01, -7.86132812e-02,  5.02929688e-02,\n",
       "        5.66406250e-02, -5.63964844e-02,  9.15527344e-03, -1.58203125e-01,\n",
       "       -4.53125000e-01,  1.64794922e-02, -2.51953125e-01, -4.31640625e-01,\n",
       "       -1.52343750e-01,  3.00292969e-02, -1.23046875e-01,  1.26953125e-01,\n",
       "        2.00195312e-01,  3.03955078e-02,  3.06640625e-01,  9.66796875e-02,\n",
       "       -2.71484375e-01,  1.63085938e-01, -1.20605469e-01,  4.63867188e-02,\n",
       "        1.14257812e-01, -2.94921875e-01, -1.46484375e-01,  2.92968750e-01,\n",
       "        2.22656250e-01, -2.29492188e-02, -4.45312500e-01, -4.39453125e-02,\n",
       "       -1.98242188e-01,  3.73535156e-02,  2.17285156e-02, -7.37304688e-02,\n",
       "        2.01171875e-01,  6.44531250e-02,  7.27539062e-02, -4.10156250e-01,\n",
       "       -1.66992188e-01,  1.78710938e-01, -3.43750000e-01, -9.27734375e-02,\n",
       "        1.81640625e-01,  2.21679688e-01, -2.85156250e-01,  1.88476562e-01,\n",
       "        2.01171875e-01,  2.46093750e-01,  3.43750000e-01, -5.10253906e-02,\n",
       "        3.94531250e-01, -1.55273438e-01, -4.32128906e-02, -1.22558594e-01,\n",
       "        1.80664062e-02,  1.73828125e-01,  3.08593750e-01, -1.76757812e-01,\n",
       "       -3.41796875e-02,  1.06933594e-01,  2.85644531e-02,  1.30859375e-01,\n",
       "       -3.41415405e-04,  3.04687500e-01, -1.47460938e-01, -6.59179688e-02,\n",
       "       -1.56250000e-01,  2.46093750e-01,  2.44140625e-01, -1.01562500e-01,\n",
       "        1.11816406e-01,  1.14746094e-01,  2.21679688e-01, -5.83496094e-02])"
      ]
     },
     "execution_count": 10,
     "metadata": {},
     "output_type": "execute_result"
    }
   ],
   "source": [
    "embedding_matrix[50]"
   ]
  },
  {
   "cell_type": "code",
   "execution_count": 11,
   "metadata": {},
   "outputs": [
    {
     "data": {
      "text/plain": [
       "(300,)"
      ]
     },
     "execution_count": 11,
     "metadata": {},
     "output_type": "execute_result"
    }
   ],
   "source": [
    "embedding_matrix[50].shape"
   ]
  },
  {
   "cell_type": "code",
   "execution_count": 12,
   "metadata": {},
   "outputs": [
    {
     "data": {
      "text/plain": [
       "'china'"
      ]
     },
     "execution_count": 12,
     "metadata": {},
     "output_type": "execute_result"
    }
   ],
   "source": [
    "i2w[50]"
   ]
  },
  {
   "cell_type": "code",
   "execution_count": 13,
   "metadata": {},
   "outputs": [
    {
     "name": "stdout",
     "output_type": "stream",
     "text": [
      "Embeddings pickled, ready to be uploaded to Google Drive\n"
     ]
    }
   ],
   "source": [
    "with open('embeddings_gensim.pkl','wb') as f:\n",
    "    pickle.dump(embedding_matrix, f)\n",
    "print('Embeddings pickled, ready to be uploaded to Google Drive')"
   ]
  }
 ],
 "metadata": {
  "kernelspec": {
   "display_name": "Python [conda root]",
   "language": "python",
   "name": "conda-root-py"
  },
  "language_info": {
   "codemirror_mode": {
    "name": "ipython",
    "version": 3
   },
   "file_extension": ".py",
   "mimetype": "text/x-python",
   "name": "python",
   "nbconvert_exporter": "python",
   "pygments_lexer": "ipython3",
   "version": "3.6.6"
  }
 },
 "nbformat": 4,
 "nbformat_minor": 2
}
