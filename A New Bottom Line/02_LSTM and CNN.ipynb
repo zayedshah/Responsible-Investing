{
 "cells": [
  {
   "cell_type": "markdown",
   "metadata": {},
   "source": [
    "# Using LSTM and CNN"
   ]
  },
  {
   "cell_type": "code",
   "execution_count": 1,
   "metadata": {
    "colab": {
     "base_uri": "https://localhost:8080/",
     "height": 36
    },
    "colab_type": "code",
    "executionInfo": {
     "elapsed": 1988,
     "status": "ok",
     "timestamp": 1536315717832,
     "user": {
      "displayName": "Zayed Shah",
      "photoUrl": "//lh6.googleusercontent.com/-mYvyylR9dn0/AAAAAAAAAAI/AAAAAAAAAQM/FR1Q5ai4Ipg/s50-c-k-no/photo.jpg",
      "userId": "103266496270214154227"
     },
     "user_tz": -60
    },
    "id": "v0CdNaYTQBD2",
    "outputId": "55e557ab-bbff-4d09-bc82-0dd90d1ef58e"
   },
   "outputs": [
    {
     "name": "stderr",
     "output_type": "stream",
     "text": [
      "Using TensorFlow backend.\n"
     ]
    }
   ],
   "source": [
    "import pandas as pd\n",
    "import numpy as np\n",
    "\n",
    "from sklearn.model_selection import train_test_split\n",
    "\n",
    "from keras.preprocessing.text import Tokenizer\n",
    "from keras.preprocessing.sequence import pad_sequences\n",
    "from keras.utils import to_categorical\n",
    "from keras.models import Sequential\n",
    "from keras.layers import LSTM, Dense, Dropout, Conv1D, MaxPooling1D\n",
    "from keras.layers.embeddings import Embedding\n",
    "\n",
    "import matplotlib.pyplot as plt\n",
    "%matplotlib inline"
   ]
  },
  {
   "cell_type": "code",
   "execution_count": 2,
   "metadata": {
    "colab": {
     "base_uri": "https://localhost:8080/",
     "height": 36
    },
    "colab_type": "code",
    "executionInfo": {
     "elapsed": 2437,
     "status": "ok",
     "timestamp": 1536315720456,
     "user": {
      "displayName": "Zayed Shah",
      "photoUrl": "//lh6.googleusercontent.com/-mYvyylR9dn0/AAAAAAAAAAI/AAAAAAAAAQM/FR1Q5ai4Ipg/s50-c-k-no/photo.jpg",
      "userId": "103266496270214154227"
     },
     "user_tz": -60
    },
    "id": "amFsNCKNSApb",
    "outputId": "9e3ad1a1-6a7b-428b-b386-47f089da7e2c"
   },
   "outputs": [
    {
     "data": {
      "text/plain": [
       "((23022,), (23022,))"
      ]
     },
     "execution_count": 2,
     "metadata": {
      "tags": []
     },
     "output_type": "execute_result"
    }
   ],
   "source": [
    "df = pd.read_excel('/content/drive/Data/Data_ML.xlsx')\n",
    "df = df[pd.notnull(df['Business Description'])]\n",
    "df['Sector ID'] = df['TRBC Economic Sector Name'].factorize(sort=True)[0]\n",
    "X = df['Business Description']\n",
    "y = df['Sector ID']\n",
    "X.shape, y.shape"
   ]
  },
  {
   "cell_type": "code",
   "execution_count": 3,
   "metadata": {
    "colab": {
     "base_uri": "https://localhost:8080/",
     "height": 130
    },
    "colab_type": "code",
    "executionInfo": {
     "elapsed": 599,
     "status": "ok",
     "timestamp": 1536315721157,
     "user": {
      "displayName": "Zayed Shah",
      "photoUrl": "//lh6.googleusercontent.com/-mYvyylR9dn0/AAAAAAAAAAI/AAAAAAAAAQM/FR1Q5ai4Ipg/s50-c-k-no/photo.jpg",
      "userId": "103266496270214154227"
     },
     "user_tz": -60
    },
    "id": "ODi9i8B2SI0b",
    "outputId": "5c6a1429-e11a-4e82-dc0d-f5de62809d3a"
   },
   "outputs": [
    {
     "data": {
      "text/plain": [
       "0    Cummins Inc. designs, manufactures, distribute...\n",
       "1    Rio Tinto plc is a mining and metals company. ...\n",
       "2    Rio Tinto Limited (Rio Tinto) is a mining comp...\n",
       "3    The Royal Dutch Shell plc explores for crude o...\n",
       "4    BHP Billiton Plc is a global resources company...\n",
       "Name: Business Description, dtype: object"
      ]
     },
     "execution_count": 3,
     "metadata": {
      "tags": []
     },
     "output_type": "execute_result"
    }
   ],
   "source": [
    "X.head()"
   ]
  },
  {
   "cell_type": "code",
   "execution_count": 4,
   "metadata": {
    "colab": {
     "base_uri": "https://localhost:8080/",
     "height": 130
    },
    "colab_type": "code",
    "executionInfo": {
     "elapsed": 574,
     "status": "ok",
     "timestamp": 1536315721941,
     "user": {
      "displayName": "Zayed Shah",
      "photoUrl": "//lh6.googleusercontent.com/-mYvyylR9dn0/AAAAAAAAAAI/AAAAAAAAAQM/FR1Q5ai4Ipg/s50-c-k-no/photo.jpg",
      "userId": "103266496270214154227"
     },
     "user_tz": -60
    },
    "id": "YjKhsdQVSK2G",
    "outputId": "975002f0-6369-4928-bddb-c5b24ae31ffa"
   },
   "outputs": [
    {
     "data": {
      "text/plain": [
       "0    1\n",
       "1    0\n",
       "2    0\n",
       "3    3\n",
       "4    0\n",
       "Name: Sector ID, dtype: int64"
      ]
     },
     "execution_count": 4,
     "metadata": {
      "tags": []
     },
     "output_type": "execute_result"
    }
   ],
   "source": [
    "y.head()"
   ]
  },
  {
   "cell_type": "code",
   "execution_count": 5,
   "metadata": {
    "colab": {
     "base_uri": "https://localhost:8080/",
     "height": 92
    },
    "colab_type": "code",
    "executionInfo": {
     "elapsed": 433,
     "status": "ok",
     "timestamp": 1536315722674,
     "user": {
      "displayName": "Zayed Shah",
      "photoUrl": "//lh6.googleusercontent.com/-mYvyylR9dn0/AAAAAAAAAAI/AAAAAAAAAQM/FR1Q5ai4Ipg/s50-c-k-no/photo.jpg",
      "userId": "103266496270214154227"
     },
     "user_tz": -60
    },
    "id": "i1cvHUIsSL8x",
    "outputId": "02c5d03f-d419-45c8-e742-e303faa3b6e3"
   },
   "outputs": [
    {
     "name": "stdout",
     "output_type": "stream",
     "text": [
      "(18417,)\n",
      "(4605,)\n",
      "(18417,)\n",
      "(4605,)\n"
     ]
    }
   ],
   "source": [
    "X_train, X_test, y_train, y_test = train_test_split(X, y, test_size=0.2, random_state=0)\n",
    "\n",
    "splits = [X_train, X_test, y_train, y_test]\n",
    "for _ in splits:\n",
    "    print(_.shape)"
   ]
  },
  {
   "cell_type": "code",
   "execution_count": 6,
   "metadata": {
    "colab": {
     "base_uri": "https://localhost:8080/",
     "height": 36
    },
    "colab_type": "code",
    "executionInfo": {
     "elapsed": 2568,
     "status": "ok",
     "timestamp": 1536315725611,
     "user": {
      "displayName": "Zayed Shah",
      "photoUrl": "//lh6.googleusercontent.com/-mYvyylR9dn0/AAAAAAAAAAI/AAAAAAAAAQM/FR1Q5ai4Ipg/s50-c-k-no/photo.jpg",
      "userId": "103266496270214154227"
     },
     "user_tz": -60
    },
    "id": "71N3i6QjSOER",
    "outputId": "7d00dcf0-9386-4f64-eb83-6464e3b19b83"
   },
   "outputs": [
    {
     "data": {
      "text/plain": [
       "70673"
      ]
     },
     "execution_count": 6,
     "metadata": {
      "tags": []
     },
     "output_type": "execute_result"
    }
   ],
   "source": [
    "max_words = 10000\n",
    "tokenizer = Tokenizer(num_words=max_words)\n",
    "tokenizer.fit_on_texts(X_train)\n",
    "w2i = tokenizer.word_index\n",
    "len(w2i)"
   ]
  },
  {
   "cell_type": "code",
   "execution_count": 7,
   "metadata": {
    "colab": {
     "base_uri": "https://localhost:8080/",
     "height": 55
    },
    "colab_type": "code",
    "executionInfo": {
     "elapsed": 427,
     "status": "ok",
     "timestamp": 1536315726222,
     "user": {
      "displayName": "Zayed Shah",
      "photoUrl": "//lh6.googleusercontent.com/-mYvyylR9dn0/AAAAAAAAAAI/AAAAAAAAAQM/FR1Q5ai4Ipg/s50-c-k-no/photo.jpg",
      "userId": "103266496270214154227"
     },
     "user_tz": -60
    },
    "id": "hXJijlEzSYc3",
    "outputId": "f186582c-66d4-4f4a-fa42-d8f46923320c"
   },
   "outputs": [
    {
     "name": "stdout",
     "output_type": "stream",
     "text": [
      "['and', 'the', 'of', 'in', 'company', 'is', 'a', 'as', 'products', 'its']\n",
      "[1, 2, 3, 4, 5, 6, 7, 8, 9, 10]\n"
     ]
    }
   ],
   "source": [
    "i2w = dict((v,k) for (k,v) in w2i.items())\n",
    "\n",
    "print(list(w2i)[:10])\n",
    "print(list(i2w)[:10])"
   ]
  },
  {
   "cell_type": "code",
   "execution_count": 8,
   "metadata": {
    "colab": {
     "base_uri": "https://localhost:8080/",
     "height": 36
    },
    "colab_type": "code",
    "executionInfo": {
     "elapsed": 2655,
     "status": "ok",
     "timestamp": 1536315729091,
     "user": {
      "displayName": "Zayed Shah",
      "photoUrl": "//lh6.googleusercontent.com/-mYvyylR9dn0/AAAAAAAAAAI/AAAAAAAAAQM/FR1Q5ai4Ipg/s50-c-k-no/photo.jpg",
      "userId": "103266496270214154227"
     },
     "user_tz": -60
    },
    "id": "Tuwpi9-NSaSe",
    "outputId": "742fcada-2b36-475c-849e-4efe15de76bb"
   },
   "outputs": [
    {
     "data": {
      "text/plain": [
       "(18417, 4605)"
      ]
     },
     "execution_count": 8,
     "metadata": {
      "tags": []
     },
     "output_type": "execute_result"
    }
   ],
   "source": [
    "X_train_sequences = tokenizer.texts_to_sequences(X_train)\n",
    "X_test_sequences = tokenizer.texts_to_sequences(X_test)\n",
    "\n",
    "len(X_train_sequences), len(X_test_sequences)"
   ]
  },
  {
   "cell_type": "code",
   "execution_count": 9,
   "metadata": {
    "colab": {
     "base_uri": "https://localhost:8080/",
     "height": 187
    },
    "colab_type": "code",
    "executionInfo": {
     "elapsed": 420,
     "status": "ok",
     "timestamp": 1536315729699,
     "user": {
      "displayName": "Zayed Shah",
      "photoUrl": "//lh6.googleusercontent.com/-mYvyylR9dn0/AAAAAAAAAAI/AAAAAAAAAQM/FR1Q5ai4Ipg/s50-c-k-no/photo.jpg",
      "userId": "103266496270214154227"
     },
     "user_tz": -60
    },
    "id": "Oz2L7LQBScMy",
    "outputId": "c874f9c2-fbd0-4ab4-cbe4-1540f5848bd4"
   },
   "outputs": [
    {
     "data": {
      "text/plain": [
       "array([ 127,    6,    7,  364,    1, 1035,    3,  184,    9,    1, 6067,\n",
       "          2,    5,   19,   22,   89,   27, 5631, 3377,    9,    1, 2586,\n",
       "          1,    2, 5631, 3377,    9,    1,   13,  137,    1,  140, 3617,\n",
       "          1, 2312, 1459, 1976,    1, 1746, 1038, 4439, 2741, 1038, 1038,\n",
       "        676,    1, 1038, 4688,  586, 2099,    9,    1, 2560, 5084,    2,\n",
       "       2586,   13,  235,    1,  140,    7,   81,    3, 2586,   85,   32,\n",
       "       1038,  367, 2586,  962,    1, 1747,    9,   38,    8, 8754, 2586,\n",
       "        962,    1, 1262,    2,   13,  235,    1,  140, 2409, 6067,  143,\n",
       "        229,  963, 6067,    1,  143,    1,   71, 4934])"
      ]
     },
     "execution_count": 9,
     "metadata": {
      "tags": []
     },
     "output_type": "execute_result"
    }
   ],
   "source": [
    "np.array(X_train_sequences[0])"
   ]
  },
  {
   "cell_type": "code",
   "execution_count": 10,
   "metadata": {
    "colab": {
     "base_uri": "https://localhost:8080/",
     "height": 36
    },
    "colab_type": "code",
    "executionInfo": {
     "elapsed": 757,
     "status": "ok",
     "timestamp": 1536315730730,
     "user": {
      "displayName": "Zayed Shah",
      "photoUrl": "//lh6.googleusercontent.com/-mYvyylR9dn0/AAAAAAAAAAI/AAAAAAAAAQM/FR1Q5ai4Ipg/s50-c-k-no/photo.jpg",
      "userId": "103266496270214154227"
     },
     "user_tz": -60
    },
    "id": "b_an_cVDSd4s",
    "outputId": "1d09ca7c-b70f-49da-b67f-864c9b3e8826"
   },
   "outputs": [
    {
     "data": {
      "text/plain": [
       "(96, 128)"
      ]
     },
     "execution_count": 10,
     "metadata": {
      "tags": []
     },
     "output_type": "execute_result"
    }
   ],
   "source": [
    "len(X_train_sequences[0]), len(X_train_sequences[10])"
   ]
  },
  {
   "cell_type": "code",
   "execution_count": 11,
   "metadata": {
    "colab": {
     "base_uri": "https://localhost:8080/",
     "height": 36
    },
    "colab_type": "code",
    "executionInfo": {
     "elapsed": 843,
     "status": "ok",
     "timestamp": 1536315731856,
     "user": {
      "displayName": "Zayed Shah",
      "photoUrl": "//lh6.googleusercontent.com/-mYvyylR9dn0/AAAAAAAAAAI/AAAAAAAAAQM/FR1Q5ai4Ipg/s50-c-k-no/photo.jpg",
      "userId": "103266496270214154227"
     },
     "user_tz": -60
    },
    "id": "SJgL1rZ3Sf42",
    "outputId": "da79f269-c01b-47b6-d11e-32a8d42276a5"
   },
   "outputs": [
    {
     "data": {
      "text/plain": [
       "((18417, 200), (4605, 200))"
      ]
     },
     "execution_count": 11,
     "metadata": {
      "tags": []
     },
     "output_type": "execute_result"
    }
   ],
   "source": [
    "max_padding = 200\n",
    "\n",
    "X_train_padded = pad_sequences(X_train_sequences, padding='post', maxlen=max_padding)\n",
    "X_test_padded = pad_sequences(X_test_sequences, padding='post', maxlen=max_padding)\n",
    "\n",
    "X_train_padded.shape, X_test_padded.shape"
   ]
  },
  {
   "cell_type": "code",
   "execution_count": 12,
   "metadata": {
    "colab": {
     "base_uri": "https://localhost:8080/",
     "height": 375
    },
    "colab_type": "code",
    "executionInfo": {
     "elapsed": 408,
     "status": "ok",
     "timestamp": 1536315732520,
     "user": {
      "displayName": "Zayed Shah",
      "photoUrl": "//lh6.googleusercontent.com/-mYvyylR9dn0/AAAAAAAAAAI/AAAAAAAAAQM/FR1Q5ai4Ipg/s50-c-k-no/photo.jpg",
      "userId": "103266496270214154227"
     },
     "user_tz": -60
    },
    "id": "8bd5_1qbS0i3",
    "outputId": "3c1877ca-088f-4952-e349-b12467ceae18"
   },
   "outputs": [
    {
     "data": {
      "text/plain": [
       "array([9448,  470,    6,    7,   53,   59,   25,  165,    2,    5,    6,\n",
       "         12,    4,    2,  371,    3,    1,   25,    4,   63,   87,   92,\n",
       "          4,  454,   10,  101,  151,    3,  107,  466,   87,   32,   63,\n",
       "        174,    1,   71,  239,   10,   63,  239,   18, 9448,  177,  297,\n",
       "        297, 9448,  177,  780,  426, 9448,  177,  426, 8186, 9448,  177,\n",
       "        605, 3687, 1295, 9448,  177,  646, 5844, 5430,  177, 1930,    1,\n",
       "       6936, 2532,   10,  174,  177,   45, 8758,   10,   71,  177,   45,\n",
       "       9448,  177, 1217,   10,   87,   34,  111,    4, 8759, 6328, 3126,\n",
       "       3981, 3982,    1, 6329,   10, 2314, 1410,   45,   86,    1,   72,\n",
       "         82,  346, 1790,  174,  169,   65,   74,  119,   77,  293,  209,\n",
       "         73,   56,  347,   11,   80,    1, 1422, 1490,  126,  240, 9448,\n",
       "         28,  493,  473,    6,    2,  482,    3,    0,    0,    0,    0,\n",
       "          0,    0,    0,    0,    0,    0,    0,    0,    0,    0,    0,\n",
       "          0,    0,    0,    0,    0,    0,    0,    0,    0,    0,    0,\n",
       "          0,    0,    0,    0,    0,    0,    0,    0,    0,    0,    0,\n",
       "          0,    0,    0,    0,    0,    0,    0,    0,    0,    0,    0,\n",
       "          0,    0,    0,    0,    0,    0,    0,    0,    0,    0,    0,\n",
       "          0,    0,    0,    0,    0,    0,    0,    0,    0,    0,    0,\n",
       "          0,    0], dtype=int32)"
      ]
     },
     "execution_count": 12,
     "metadata": {
      "tags": []
     },
     "output_type": "execute_result"
    }
   ],
   "source": [
    "X_train_padded[10]"
   ]
  },
  {
   "cell_type": "code",
   "execution_count": 13,
   "metadata": {
    "colab": {
     "base_uri": "https://localhost:8080/",
     "height": 36
    },
    "colab_type": "code",
    "executionInfo": {
     "elapsed": 633,
     "status": "ok",
     "timestamp": 1536315733666,
     "user": {
      "displayName": "Zayed Shah",
      "photoUrl": "//lh6.googleusercontent.com/-mYvyylR9dn0/AAAAAAAAAAI/AAAAAAAAAQM/FR1Q5ai4Ipg/s50-c-k-no/photo.jpg",
      "userId": "103266496270214154227"
     },
     "user_tz": -60
    },
    "id": "R3Inc2ClTPDo",
    "outputId": "97064681-286a-4feb-f7f1-ff72e21196b8"
   },
   "outputs": [
    {
     "data": {
      "text/plain": [
       "((18417, 10), (4605, 10))"
      ]
     },
     "execution_count": 13,
     "metadata": {
      "tags": []
     },
     "output_type": "execute_result"
    }
   ],
   "source": [
    "y_train_categorical = to_categorical(y_train)\n",
    "y_test_categorical = to_categorical(y_test)\n",
    "\n",
    "y_train_categorical.shape, y_test_categorical.shape"
   ]
  },
  {
   "cell_type": "code",
   "execution_count": 14,
   "metadata": {
    "colab": {
     "base_uri": "https://localhost:8080/",
     "height": 36
    },
    "colab_type": "code",
    "executionInfo": {
     "elapsed": 434,
     "status": "ok",
     "timestamp": 1536315734403,
     "user": {
      "displayName": "Zayed Shah",
      "photoUrl": "//lh6.googleusercontent.com/-mYvyylR9dn0/AAAAAAAAAAI/AAAAAAAAAQM/FR1Q5ai4Ipg/s50-c-k-no/photo.jpg",
      "userId": "103266496270214154227"
     },
     "user_tz": -60
    },
    "id": "3TOQNINhTZOT",
    "outputId": "7272659b-e254-4712-9d56-d4f16c6a8345"
   },
   "outputs": [
    {
     "data": {
      "text/plain": [
       "array([0., 0., 0., 0., 1., 0., 0., 0., 0., 0.], dtype=float32)"
      ]
     },
     "execution_count": 14,
     "metadata": {
      "tags": []
     },
     "output_type": "execute_result"
    }
   ],
   "source": [
    "y_train_categorical[10]"
   ]
  },
  {
   "cell_type": "code",
   "execution_count": 16,
   "metadata": {
    "colab": {
     "base_uri": "https://localhost:8080/",
     "height": 413
    },
    "colab_type": "code",
    "executionInfo": {
     "elapsed": 601200,
     "status": "ok",
     "timestamp": 1536316356727,
     "user": {
      "displayName": "Zayed Shah",
      "photoUrl": "//lh6.googleusercontent.com/-mYvyylR9dn0/AAAAAAAAAAI/AAAAAAAAAQM/FR1Q5ai4Ipg/s50-c-k-no/photo.jpg",
      "userId": "103266496270214154227"
     },
     "user_tz": -60
    },
    "id": "-UhdbPK3Tanf",
    "outputId": "c0db6740-e9ef-4c9e-8dd3-faad485d9ed6"
   },
   "outputs": [
    {
     "name": "stdout",
     "output_type": "stream",
     "text": [
      "Train on 14733 samples, validate on 3684 samples\n",
      "Epoch 1/10\n",
      "14733/14733 [==============================] - 61s 4ms/step - loss: 1.7437 - acc: 0.3212 - val_loss: 1.4454 - val_acc: 0.4175\n",
      "Epoch 2/10\n",
      "14733/14733 [==============================] - 59s 4ms/step - loss: 1.4025 - acc: 0.4349 - val_loss: 1.3985 - val_acc: 0.4734\n",
      "Epoch 3/10\n",
      "14733/14733 [==============================] - 59s 4ms/step - loss: 1.3741 - acc: 0.4787 - val_loss: 1.3663 - val_acc: 0.4639\n",
      "Epoch 4/10\n",
      "14733/14733 [==============================] - 59s 4ms/step - loss: 1.1194 - acc: 0.5672 - val_loss: 1.0822 - val_acc: 0.6183\n",
      "Epoch 5/10\n",
      "14733/14733 [==============================] - 61s 4ms/step - loss: 0.9123 - acc: 0.6692 - val_loss: 1.0019 - val_acc: 0.6683\n",
      "Epoch 6/10\n",
      "14733/14733 [==============================] - 59s 4ms/step - loss: 0.7130 - acc: 0.7707 - val_loss: 0.9171 - val_acc: 0.6952\n",
      "Epoch 7/10\n",
      "14733/14733 [==============================] - 59s 4ms/step - loss: 0.5673 - acc: 0.8254 - val_loss: 0.8888 - val_acc: 0.7275\n",
      "Epoch 8/10\n",
      "14733/14733 [==============================] - 60s 4ms/step - loss: 0.4368 - acc: 0.8705 - val_loss: 0.9152 - val_acc: 0.7364\n",
      "Epoch 9/10\n",
      "14733/14733 [==============================] - 60s 4ms/step - loss: 0.3520 - acc: 0.9008 - val_loss: 0.8506 - val_acc: 0.7695\n",
      "Epoch 10/10\n",
      "14733/14733 [==============================] - 61s 4ms/step - loss: 0.2862 - acc: 0.9224 - val_loss: 0.8743 - val_acc: 0.7714\n"
     ]
    }
   ],
   "source": [
    "embedding_vector_length = 32\n",
    "\n",
    "model = Sequential()\n",
    "model.add(Embedding(max_words, embedding_vector_length, input_length=max_padding))\n",
    "model.add(Conv1D(64, 5, activation='relu'))\n",
    "model.add(MaxPooling1D(pool_size=4))\n",
    "model.add(LSTM(100))\n",
    "model.add(Dense(10, activation='softmax'))\n",
    "\n",
    "model.compile(loss='categorical_crossentropy', optimizer='adam', metrics=['accuracy'])\n",
    "\n",
    "history = model.fit(X_train_padded, y_train_categorical, batch_size=32, epochs=10, validation_split=0.2)"
   ]
  },
  {
   "cell_type": "code",
   "execution_count": 17,
   "metadata": {
    "colab": {
     "base_uri": "https://localhost:8080/",
     "height": 313
    },
    "colab_type": "code",
    "executionInfo": {
     "elapsed": 631,
     "status": "ok",
     "timestamp": 1536316364842,
     "user": {
      "displayName": "Zayed Shah",
      "photoUrl": "//lh6.googleusercontent.com/-mYvyylR9dn0/AAAAAAAAAAI/AAAAAAAAAQM/FR1Q5ai4Ipg/s50-c-k-no/photo.jpg",
      "userId": "103266496270214154227"
     },
     "user_tz": -60
    },
    "id": "YNapazv-hyCR",
    "outputId": "3482e8ce-d545-4f28-df88-bb79d9210c9f"
   },
   "outputs": [
    {
     "data": {
      "text/plain": [
       "<matplotlib.legend.Legend at 0x7f569d6e2668>"
      ]
     },
     "execution_count": 17,
     "metadata": {
      "tags": []
     },
     "output_type": "execute_result"
    },
    {
     "data": {
      "image/png": "[encoded data removed]",
      "text/plain": [
       "<matplotlib.figure.Figure at 0x7f569d6ba048>"
      ]
     },
     "metadata": {
      "tags": []
     },
     "output_type": "display_data"
    }
   ],
   "source": [
    "history_dict = history.history\n",
    "\n",
    "acc = history.history['acc']\n",
    "val_acc = history.history['val_acc']\n",
    "loss = history.history['loss']\n",
    "val_loss = history.history['val_loss']\n",
    "\n",
    "epochs = range(1, len(acc) + 1)\n",
    "\n",
    "plt.plot(epochs, loss, 'bo', label='Training loss')\n",
    "plt.plot(epochs, val_loss, 'b', label='Validation loss')\n",
    "plt.title('Training and validation loss')\n",
    "plt.xlabel('Epochs')\n",
    "plt.ylabel('Loss')\n",
    "plt.legend()"
   ]
  },
  {
   "cell_type": "code",
   "execution_count": 18,
   "metadata": {
    "colab": {
     "base_uri": "https://localhost:8080/",
     "height": 313
    },
    "colab_type": "code",
    "executionInfo": {
     "elapsed": 683,
     "status": "ok",
     "timestamp": 1536316372100,
     "user": {
      "displayName": "Zayed Shah",
      "photoUrl": "//lh6.googleusercontent.com/-mYvyylR9dn0/AAAAAAAAAAI/AAAAAAAAAQM/FR1Q5ai4Ipg/s50-c-k-no/photo.jpg",
      "userId": "103266496270214154227"
     },
     "user_tz": -60
    },
    "id": "Xnv6PgtpjLd4",
    "outputId": "ea2ea9f9-df43-44a3-9339-944a6e71bd76"
   },
   "outputs": [
    {
     "data": {
      "text/plain": [
       "<matplotlib.legend.Legend at 0x7f567c8d6588>"
      ]
     },
     "execution_count": 18,
     "metadata": {
      "tags": []
     },
     "output_type": "execute_result"
    },
    {
     "data": {
      "image/png": "[encoded data removed]",
      "text/plain": [
       "<matplotlib.figure.Figure at 0x7f56a4b8d978>"
      ]
     },
     "metadata": {
      "tags": []
     },
     "output_type": "display_data"
    }
   ],
   "source": [
    "plt.clf()\n",
    "acc_values = history_dict['acc']\n",
    "val_acc_values = history_dict['val_acc']\n",
    "\n",
    "plt.plot(epochs, acc, 'bo', label='Training acc')\n",
    "plt.plot(epochs, val_acc, 'b', label='Validation acc')\n",
    "plt.title('Training and validation accuracy')\n",
    "plt.xlabel('Epochs')\n",
    "plt.ylabel('Accuracy')\n",
    "plt.legend()"
   ]
  }
 ],
 "metadata": {
  "accelerator": "GPU",
  "colab": {
   "collapsed_sections": [],
   "name": "0907_0957_LSTM.ipynb",
   "provenance": [],
   "version": "0.3.2"
  },
  "kernelspec": {
   "display_name": "Python [default]",
   "language": "python",
   "name": "python3"
  },
  "language_info": {
   "codemirror_mode": {
    "name": "ipython",
    "version": 3
   },
   "file_extension": ".py",
   "mimetype": "text/x-python",
   "name": "python",
   "nbconvert_exporter": "python",
   "pygments_lexer": "ipython3",
   "version": "3.6.6"
  }
 },
 "nbformat": 4,
 "nbformat_minor": 1
}
