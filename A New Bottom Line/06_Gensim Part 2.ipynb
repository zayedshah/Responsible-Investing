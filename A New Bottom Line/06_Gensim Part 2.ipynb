{
 "cells": [
  {
   "cell_type": "markdown",
   "metadata": {},
   "source": [
    "# Using Gensim - Part 2"
   ]
  },
  {
   "cell_type": "code",
   "execution_count": 1,
   "metadata": {
    "colab": {
     "base_uri": "https://localhost:8080/",
     "height": 36
    },
    "colab_type": "code",
    "executionInfo": {
     "elapsed": 2016,
     "status": "ok",
     "timestamp": 1536328646830,
     "user": {
      "displayName": "Zayed Shah",
      "photoUrl": "//lh6.googleusercontent.com/-mYvyylR9dn0/AAAAAAAAAAI/AAAAAAAAAQM/FR1Q5ai4Ipg/s50-c-k-no/photo.jpg",
      "userId": "103266496270214154227"
     },
     "user_tz": -60
    },
    "id": "Rj-sJgt8FQ7S",
    "outputId": "a9a217c6-ad14-405d-a994-2bdce4dc1d22"
   },
   "outputs": [
    {
     "name": "stderr",
     "output_type": "stream",
     "text": [
      "Using TensorFlow backend.\n"
     ]
    }
   ],
   "source": [
    "import pandas as pd\n",
    "import numpy as np\n",
    "\n",
    "from sklearn.model_selection import train_test_split\n",
    "\n",
    "from keras.preprocessing.text import Tokenizer\n",
    "from keras.preprocessing.sequence import pad_sequences\n",
    "from keras.utils import to_categorical\n",
    "from keras.layers import Dense, Input, GlobalMaxPooling1D\n",
    "from keras.layers import Conv1D, MaxPooling1D, Embedding\n",
    "from keras.models import Model\n",
    "from keras.initializers import Constant\n",
    "\n",
    "import pickle\n",
    "\n",
    "import matplotlib.pyplot as plt\n",
    "%matplotlib inline"
   ]
  },
  {
   "cell_type": "code",
   "execution_count": 2,
   "metadata": {
    "colab": {
     "base_uri": "https://localhost:8080/",
     "height": 36
    },
    "colab_type": "code",
    "executionInfo": {
     "elapsed": 2446,
     "status": "ok",
     "timestamp": 1536328649394,
     "user": {
      "displayName": "Zayed Shah",
      "photoUrl": "//lh6.googleusercontent.com/-mYvyylR9dn0/AAAAAAAAAAI/AAAAAAAAAQM/FR1Q5ai4Ipg/s50-c-k-no/photo.jpg",
      "userId": "103266496270214154227"
     },
     "user_tz": -60
    },
    "id": "l7JIQ1AQSNPU",
    "outputId": "8aa1b3c4-61a6-4325-c822-c4992fd2bc6b"
   },
   "outputs": [
    {
     "data": {
      "text/plain": [
       "((23022,), (23022,))"
      ]
     },
     "execution_count": 2,
     "metadata": {
      "tags": []
     },
     "output_type": "execute_result"
    }
   ],
   "source": [
    "df = pd.read_excel('/content/drive/Data/Data_ML.xlsx')\n",
    "df = df[pd.notnull(df['Business Description'])]\n",
    "df['Sector ID'] = df['TRBC Economic Sector Name'].factorize(sort=True)[0]\n",
    "X = df['Business Description']\n",
    "y = df['Sector ID']\n",
    "X.shape, y.shape"
   ]
  },
  {
   "cell_type": "code",
   "execution_count": 3,
   "metadata": {
    "colab": {
     "base_uri": "https://localhost:8080/",
     "height": 130
    },
    "colab_type": "code",
    "executionInfo": {
     "elapsed": 538,
     "status": "ok",
     "timestamp": 1536328650091,
     "user": {
      "displayName": "Zayed Shah",
      "photoUrl": "//lh6.googleusercontent.com/-mYvyylR9dn0/AAAAAAAAAAI/AAAAAAAAAQM/FR1Q5ai4Ipg/s50-c-k-no/photo.jpg",
      "userId": "103266496270214154227"
     },
     "user_tz": -60
    },
    "id": "iF4gjCpuSQu1",
    "outputId": "72378438-580f-483d-e38d-c8cc45268ecc"
   },
   "outputs": [
    {
     "data": {
      "text/plain": [
       "0    Cummins Inc. designs, manufactures, distribute...\n",
       "1    Rio Tinto plc is a mining and metals company. ...\n",
       "2    Rio Tinto Limited (Rio Tinto) is a mining comp...\n",
       "3    The Royal Dutch Shell plc explores for crude o...\n",
       "4    BHP Billiton Plc is a global resources company...\n",
       "Name: Business Description, dtype: object"
      ]
     },
     "execution_count": 3,
     "metadata": {
      "tags": []
     },
     "output_type": "execute_result"
    }
   ],
   "source": [
    "X.head()"
   ]
  },
  {
   "cell_type": "code",
   "execution_count": 4,
   "metadata": {
    "colab": {
     "base_uri": "https://localhost:8080/",
     "height": 130
    },
    "colab_type": "code",
    "executionInfo": {
     "elapsed": 473,
     "status": "ok",
     "timestamp": 1536328650759,
     "user": {
      "displayName": "Zayed Shah",
      "photoUrl": "//lh6.googleusercontent.com/-mYvyylR9dn0/AAAAAAAAAAI/AAAAAAAAAQM/FR1Q5ai4Ipg/s50-c-k-no/photo.jpg",
      "userId": "103266496270214154227"
     },
     "user_tz": -60
    },
    "id": "eWvxfiw8TBm1",
    "outputId": "d49a53ba-7b47-4526-dc06-13fb31f184dc"
   },
   "outputs": [
    {
     "data": {
      "text/plain": [
       "0    1\n",
       "1    0\n",
       "2    0\n",
       "3    3\n",
       "4    0\n",
       "Name: Sector ID, dtype: int64"
      ]
     },
     "execution_count": 4,
     "metadata": {
      "tags": []
     },
     "output_type": "execute_result"
    }
   ],
   "source": [
    "y.head()"
   ]
  },
  {
   "cell_type": "code",
   "execution_count": 5,
   "metadata": {
    "colab": {
     "base_uri": "https://localhost:8080/",
     "height": 92
    },
    "colab_type": "code",
    "executionInfo": {
     "elapsed": 410,
     "status": "ok",
     "timestamp": 1536328651492,
     "user": {
      "displayName": "Zayed Shah",
      "photoUrl": "//lh6.googleusercontent.com/-mYvyylR9dn0/AAAAAAAAAAI/AAAAAAAAAQM/FR1Q5ai4Ipg/s50-c-k-no/photo.jpg",
      "userId": "103266496270214154227"
     },
     "user_tz": -60
    },
    "id": "mjLeXW90TChG",
    "outputId": "d2fca667-3fd2-4dc8-ddcb-2766d0fb740b"
   },
   "outputs": [
    {
     "name": "stdout",
     "output_type": "stream",
     "text": [
      "(18417,)\n",
      "(4605,)\n",
      "(18417,)\n",
      "(4605,)\n"
     ]
    }
   ],
   "source": [
    "X_train, X_test, y_train, y_test = train_test_split(X, y, test_size=0.2, random_state=0)\n",
    "\n",
    "splits = [X_train, X_test, y_train, y_test]\n",
    "for _ in splits:\n",
    "    print(_.shape)"
   ]
  },
  {
   "cell_type": "code",
   "execution_count": 6,
   "metadata": {
    "colab": {
     "base_uri": "https://localhost:8080/",
     "height": 36
    },
    "colab_type": "code",
    "executionInfo": {
     "elapsed": 2757,
     "status": "ok",
     "timestamp": 1536328654474,
     "user": {
      "displayName": "Zayed Shah",
      "photoUrl": "//lh6.googleusercontent.com/-mYvyylR9dn0/AAAAAAAAAAI/AAAAAAAAAQM/FR1Q5ai4Ipg/s50-c-k-no/photo.jpg",
      "userId": "103266496270214154227"
     },
     "user_tz": -60
    },
    "id": "Y-ruHUOtTDm1",
    "outputId": "bd96b5ee-e0d4-4ca8-bcc8-524916fa4635"
   },
   "outputs": [
    {
     "data": {
      "text/plain": [
       "70673"
      ]
     },
     "execution_count": 6,
     "metadata": {
      "tags": []
     },
     "output_type": "execute_result"
    }
   ],
   "source": [
    "max_words = 10000\n",
    "tokenizer = Tokenizer(num_words=max_words)\n",
    "tokenizer.fit_on_texts(X_train)\n",
    "w2i = tokenizer.word_index\n",
    "len(w2i)"
   ]
  },
  {
   "cell_type": "code",
   "execution_count": 7,
   "metadata": {
    "colab": {
     "base_uri": "https://localhost:8080/",
     "height": 55
    },
    "colab_type": "code",
    "executionInfo": {
     "elapsed": 728,
     "status": "ok",
     "timestamp": 1536328655272,
     "user": {
      "displayName": "Zayed Shah",
      "photoUrl": "//lh6.googleusercontent.com/-mYvyylR9dn0/AAAAAAAAAAI/AAAAAAAAAQM/FR1Q5ai4Ipg/s50-c-k-no/photo.jpg",
      "userId": "103266496270214154227"
     },
     "user_tz": -60
    },
    "id": "8krv7lf_TFmf",
    "outputId": "b36f4063-ae3e-4cd0-a727-a3f2b70af1a9"
   },
   "outputs": [
    {
     "name": "stdout",
     "output_type": "stream",
     "text": [
      "['and', 'the', 'of', 'in', 'company', 'is', 'a', 'as', 'products', 'its']\n",
      "[1, 2, 3, 4, 5, 6, 7, 8, 9, 10]\n"
     ]
    }
   ],
   "source": [
    "i2w = dict((v,k) for (k,v) in w2i.items())\n",
    "\n",
    "print(list(w2i)[:10])\n",
    "print(list(i2w)[:10])"
   ]
  },
  {
   "cell_type": "code",
   "execution_count": 0,
   "metadata": {
    "colab": {},
    "colab_type": "code",
    "collapsed": true,
    "id": "YZTxmrj-THl8"
   },
   "outputs": [],
   "source": [
    "with open('/content/drive/Data/embeddings_gensim.pkl','rb') as f:\n",
    "  embedding_matrix = pickle.load(f)"
   ]
  },
  {
   "cell_type": "code",
   "execution_count": 9,
   "metadata": {
    "colab": {
     "base_uri": "https://localhost:8080/",
     "height": 36
    },
    "colab_type": "code",
    "executionInfo": {
     "elapsed": 440,
     "status": "ok",
     "timestamp": 1536328657606,
     "user": {
      "displayName": "Zayed Shah",
      "photoUrl": "//lh6.googleusercontent.com/-mYvyylR9dn0/AAAAAAAAAAI/AAAAAAAAAQM/FR1Q5ai4Ipg/s50-c-k-no/photo.jpg",
      "userId": "103266496270214154227"
     },
     "user_tz": -60
    },
    "id": "fs_YIvv8TNEk",
    "outputId": "e48a70d3-60f5-418a-c232-840fbe06b606"
   },
   "outputs": [
    {
     "data": {
      "text/plain": [
       "(10000, 300)"
      ]
     },
     "execution_count": 9,
     "metadata": {
      "tags": []
     },
     "output_type": "execute_result"
    }
   ],
   "source": [
    "embedding_matrix.shape"
   ]
  },
  {
   "cell_type": "code",
   "execution_count": 10,
   "metadata": {
    "colab": {
     "base_uri": "https://localhost:8080/",
     "height": 583
    },
    "colab_type": "code",
    "executionInfo": {
     "elapsed": 489,
     "status": "ok",
     "timestamp": 1536328658254,
     "user": {
      "displayName": "Zayed Shah",
      "photoUrl": "//lh6.googleusercontent.com/-mYvyylR9dn0/AAAAAAAAAAI/AAAAAAAAAQM/FR1Q5ai4Ipg/s50-c-k-no/photo.jpg",
      "userId": "103266496270214154227"
     },
     "user_tz": -60
    },
    "id": "qhHEFqzsTPzW",
    "outputId": "520d71cf-9d2b-48ba-c4e4-98131cc4de37"
   },
   "outputs": [
    {
     "data": {
      "text/plain": [
       "array([-0.29492188,  0.08447266,  0.01031494,  0.34570312, -0.09375   ,\n",
       "        0.05541992,  0.13183594, -0.2734375 , -0.11816406,  0.3125    ,\n",
       "       -0.296875  , -0.36914062,  0.10058594, -0.1796875 , -0.16894531,\n",
       "        0.11279297, -0.12255859,  0.27539062, -0.21582031, -0.453125  ,\n",
       "        0.09472656, -0.16113281,  0.3203125 , -0.328125  ,  0.17382812,\n",
       "        0.59765625, -0.22070312,  0.19335938, -0.04467773, -0.0625    ,\n",
       "       -0.13476562, -0.10791016, -0.31445312, -0.05151367, -0.09619141,\n",
       "       -0.15625   , -0.23828125,  0.01611328,  0.00613403,  0.08203125,\n",
       "       -0.06787109,  0.16308594,  0.20410156, -0.08837891,  0.20507812,\n",
       "        0.14648438, -0.04296875,  0.20703125, -0.234375  , -0.10498047,\n",
       "        0.11132812,  0.20019531, -0.04736328,  0.07275391, -0.29101562,\n",
       "        0.15625   , -0.19628906, -0.07617188,  0.16699219, -0.265625  ,\n",
       "       -0.07861328,  0.14453125, -0.24511719, -0.1171875 , -0.25585938,\n",
       "        0.21972656, -0.21289062, -0.16308594, -0.00408936,  0.12890625,\n",
       "        0.4375    ,  0.09619141,  0.02832031, -0.04785156, -0.11865234,\n",
       "       -0.09179688, -0.21289062,  0.21972656, -0.09521484, -0.17871094,\n",
       "        0.00141907, -0.26757812,  0.07666016, -0.20117188,  0.1328125 ,\n",
       "        0.15820312, -0.22949219, -0.04101562,  0.02502441,  0.078125  ,\n",
       "       -0.02062988, -0.0534668 , -0.09570312,  0.14453125, -0.02233887,\n",
       "       -0.05786133,  0.078125  , -0.25195312,  0.21191406, -0.02697754,\n",
       "       -0.2578125 , -0.03222656,  0.16796875, -0.01611328, -0.05200195,\n",
       "        0.0703125 ,  0.08251953,  0.20996094,  0.04150391, -0.05126953,\n",
       "       -0.3515625 ,  0.08398438, -0.16015625, -0.15917969,  0.17578125,\n",
       "       -0.01391602,  0.16992188, -0.10009766, -0.09716797, -0.02294922,\n",
       "        0.01196289,  0.18554688,  0.52734375,  0.21484375, -0.05908203,\n",
       "        0.13964844,  0.07373047, -0.15332031,  0.11621094, -0.0625    ,\n",
       "        0.04174805,  0.0201416 ,  0.02368164,  0.52734375, -0.04418945,\n",
       "        0.03808594, -0.640625  ,  0.05200195, -0.00210571, -0.00866699,\n",
       "        0.15722656, -0.20507812,  0.07421875,  0.03051758,  0.07568359,\n",
       "        0.18261719,  0.11914062, -0.06054688, -0.15527344, -0.06933594])"
      ]
     },
     "execution_count": 10,
     "metadata": {
      "tags": []
     },
     "output_type": "execute_result"
    }
   ],
   "source": [
    "embedding_matrix[50][:150]"
   ]
  },
  {
   "cell_type": "code",
   "execution_count": 11,
   "metadata": {
    "colab": {
     "base_uri": "https://localhost:8080/",
     "height": 36
    },
    "colab_type": "code",
    "executionInfo": {
     "elapsed": 562,
     "status": "ok",
     "timestamp": 1536328658998,
     "user": {
      "displayName": "Zayed Shah",
      "photoUrl": "//lh6.googleusercontent.com/-mYvyylR9dn0/AAAAAAAAAAI/AAAAAAAAAQM/FR1Q5ai4Ipg/s50-c-k-no/photo.jpg",
      "userId": "103266496270214154227"
     },
     "user_tz": -60
    },
    "id": "lPqRlhPBTQ3t",
    "outputId": "a32ea9d4-daed-42c1-9124-cd5ed6369b50"
   },
   "outputs": [
    {
     "data": {
      "text/plain": [
       "'china'"
      ]
     },
     "execution_count": 11,
     "metadata": {
      "tags": []
     },
     "output_type": "execute_result"
    }
   ],
   "source": [
    "i2w[50]"
   ]
  },
  {
   "cell_type": "code",
   "execution_count": 12,
   "metadata": {
    "colab": {
     "base_uri": "https://localhost:8080/",
     "height": 36
    },
    "colab_type": "code",
    "executionInfo": {
     "elapsed": 2565,
     "status": "ok",
     "timestamp": 1536328661877,
     "user": {
      "displayName": "Zayed Shah",
      "photoUrl": "//lh6.googleusercontent.com/-mYvyylR9dn0/AAAAAAAAAAI/AAAAAAAAAQM/FR1Q5ai4Ipg/s50-c-k-no/photo.jpg",
      "userId": "103266496270214154227"
     },
     "user_tz": -60
    },
    "id": "nbFWM-M9TT-q",
    "outputId": "a0564eef-183c-422a-e9be-470c98a7aec4"
   },
   "outputs": [
    {
     "data": {
      "text/plain": [
       "(18417, 4605)"
      ]
     },
     "execution_count": 12,
     "metadata": {
      "tags": []
     },
     "output_type": "execute_result"
    }
   ],
   "source": [
    "X_train_sequences = tokenizer.texts_to_sequences(X_train)\n",
    "X_test_sequences = tokenizer.texts_to_sequences(X_test)\n",
    "\n",
    "len(X_train_sequences), len(X_test_sequences)"
   ]
  },
  {
   "cell_type": "code",
   "execution_count": 13,
   "metadata": {
    "colab": {
     "base_uri": "https://localhost:8080/",
     "height": 187
    },
    "colab_type": "code",
    "executionInfo": {
     "elapsed": 602,
     "status": "ok",
     "timestamp": 1536328662603,
     "user": {
      "displayName": "Zayed Shah",
      "photoUrl": "//lh6.googleusercontent.com/-mYvyylR9dn0/AAAAAAAAAAI/AAAAAAAAAQM/FR1Q5ai4Ipg/s50-c-k-no/photo.jpg",
      "userId": "103266496270214154227"
     },
     "user_tz": -60
    },
    "id": "CQ2am64NTVJm",
    "outputId": "641ed7af-f70e-4206-db4e-125aab07941a"
   },
   "outputs": [
    {
     "data": {
      "text/plain": [
       "array([ 127,    6,    7,  364,    1, 1035,    3,  184,    9,    1, 6067,\n",
       "          2,    5,   19,   22,   89,   27, 5631, 3377,    9,    1, 2586,\n",
       "          1,    2, 5631, 3377,    9,    1,   13,  137,    1,  140, 3617,\n",
       "          1, 2312, 1459, 1976,    1, 1746, 1038, 4439, 2741, 1038, 1038,\n",
       "        676,    1, 1038, 4688,  586, 2099,    9,    1, 2560, 5084,    2,\n",
       "       2586,   13,  235,    1,  140,    7,   81,    3, 2586,   85,   32,\n",
       "       1038,  367, 2586,  962,    1, 1747,    9,   38,    8, 8754, 2586,\n",
       "        962,    1, 1262,    2,   13,  235,    1,  140, 2409, 6067,  143,\n",
       "        229,  963, 6067,    1,  143,    1,   71, 4934])"
      ]
     },
     "execution_count": 13,
     "metadata": {
      "tags": []
     },
     "output_type": "execute_result"
    }
   ],
   "source": [
    "np.array(X_train_sequences[0])"
   ]
  },
  {
   "cell_type": "code",
   "execution_count": 14,
   "metadata": {
    "colab": {
     "base_uri": "https://localhost:8080/",
     "height": 36
    },
    "colab_type": "code",
    "executionInfo": {
     "elapsed": 574,
     "status": "ok",
     "timestamp": 1536328663343,
     "user": {
      "displayName": "Zayed Shah",
      "photoUrl": "//lh6.googleusercontent.com/-mYvyylR9dn0/AAAAAAAAAAI/AAAAAAAAAQM/FR1Q5ai4Ipg/s50-c-k-no/photo.jpg",
      "userId": "103266496270214154227"
     },
     "user_tz": -60
    },
    "id": "WerUal22TkwN",
    "outputId": "95ff5e47-97c6-4284-9e90-64b105a9a9a4"
   },
   "outputs": [
    {
     "data": {
      "text/plain": [
       "(96, 128)"
      ]
     },
     "execution_count": 14,
     "metadata": {
      "tags": []
     },
     "output_type": "execute_result"
    }
   ],
   "source": [
    "len(X_train_sequences[0]), len(X_train_sequences[10])"
   ]
  },
  {
   "cell_type": "code",
   "execution_count": 15,
   "metadata": {
    "colab": {
     "base_uri": "https://localhost:8080/",
     "height": 36
    },
    "colab_type": "code",
    "executionInfo": {
     "elapsed": 1015,
     "status": "ok",
     "timestamp": 1536328664509,
     "user": {
      "displayName": "Zayed Shah",
      "photoUrl": "//lh6.googleusercontent.com/-mYvyylR9dn0/AAAAAAAAAAI/AAAAAAAAAQM/FR1Q5ai4Ipg/s50-c-k-no/photo.jpg",
      "userId": "103266496270214154227"
     },
     "user_tz": -60
    },
    "id": "XpSfa--ITmEm",
    "outputId": "374a35f4-8c28-4a45-849b-bdc2485ece01"
   },
   "outputs": [
    {
     "data": {
      "text/plain": [
       "((18417, 200), (4605, 200))"
      ]
     },
     "execution_count": 15,
     "metadata": {
      "tags": []
     },
     "output_type": "execute_result"
    }
   ],
   "source": [
    "max_padding = 200\n",
    "\n",
    "X_train_padded = pad_sequences(X_train_sequences, padding='post', maxlen=max_padding)\n",
    "X_test_padded = pad_sequences(X_test_sequences, padding='post', maxlen=max_padding)\n",
    "\n",
    "X_train_padded.shape, X_test_padded.shape"
   ]
  },
  {
   "cell_type": "code",
   "execution_count": 16,
   "metadata": {
    "colab": {
     "base_uri": "https://localhost:8080/",
     "height": 375
    },
    "colab_type": "code",
    "executionInfo": {
     "elapsed": 428,
     "status": "ok",
     "timestamp": 1536328665190,
     "user": {
      "displayName": "Zayed Shah",
      "photoUrl": "//lh6.googleusercontent.com/-mYvyylR9dn0/AAAAAAAAAAI/AAAAAAAAAQM/FR1Q5ai4Ipg/s50-c-k-no/photo.jpg",
      "userId": "103266496270214154227"
     },
     "user_tz": -60
    },
    "id": "If-gAIO0TnTJ",
    "outputId": "75ce72aa-2067-489d-9ad1-c4379fb5019b"
   },
   "outputs": [
    {
     "data": {
      "text/plain": [
       "array([9448,  470,    6,    7,   53,   59,   25,  165,    2,    5,    6,\n",
       "         12,    4,    2,  371,    3,    1,   25,    4,   63,   87,   92,\n",
       "          4,  454,   10,  101,  151,    3,  107,  466,   87,   32,   63,\n",
       "        174,    1,   71,  239,   10,   63,  239,   18, 9448,  177,  297,\n",
       "        297, 9448,  177,  780,  426, 9448,  177,  426, 8186, 9448,  177,\n",
       "        605, 3687, 1295, 9448,  177,  646, 5844, 5430,  177, 1930,    1,\n",
       "       6936, 2532,   10,  174,  177,   45, 8758,   10,   71,  177,   45,\n",
       "       9448,  177, 1217,   10,   87,   34,  111,    4, 8759, 6328, 3126,\n",
       "       3981, 3982,    1, 6329,   10, 2314, 1410,   45,   86,    1,   72,\n",
       "         82,  346, 1790,  174,  169,   65,   74,  119,   77,  293,  209,\n",
       "         73,   56,  347,   11,   80,    1, 1422, 1490,  126,  240, 9448,\n",
       "         28,  493,  473,    6,    2,  482,    3,    0,    0,    0,    0,\n",
       "          0,    0,    0,    0,    0,    0,    0,    0,    0,    0,    0,\n",
       "          0,    0,    0,    0,    0,    0,    0,    0,    0,    0,    0,\n",
       "          0,    0,    0,    0,    0,    0,    0,    0,    0,    0,    0,\n",
       "          0,    0,    0,    0,    0,    0,    0,    0,    0,    0,    0,\n",
       "          0,    0,    0,    0,    0,    0,    0,    0,    0,    0,    0,\n",
       "          0,    0,    0,    0,    0,    0,    0,    0,    0,    0,    0,\n",
       "          0,    0], dtype=int32)"
      ]
     },
     "execution_count": 16,
     "metadata": {
      "tags": []
     },
     "output_type": "execute_result"
    }
   ],
   "source": [
    "X_train_padded[10]"
   ]
  },
  {
   "cell_type": "code",
   "execution_count": 17,
   "metadata": {
    "colab": {
     "base_uri": "https://localhost:8080/",
     "height": 36
    },
    "colab_type": "code",
    "executionInfo": {
     "elapsed": 610,
     "status": "ok",
     "timestamp": 1536328666474,
     "user": {
      "displayName": "Zayed Shah",
      "photoUrl": "//lh6.googleusercontent.com/-mYvyylR9dn0/AAAAAAAAAAI/AAAAAAAAAQM/FR1Q5ai4Ipg/s50-c-k-no/photo.jpg",
      "userId": "103266496270214154227"
     },
     "user_tz": -60
    },
    "id": "keLu4G52TpTA",
    "outputId": "42749b45-90b9-485d-b92f-fcc02bfec61b"
   },
   "outputs": [
    {
     "data": {
      "text/plain": [
       "((18417, 10), (4605, 10))"
      ]
     },
     "execution_count": 17,
     "metadata": {
      "tags": []
     },
     "output_type": "execute_result"
    }
   ],
   "source": [
    "y_train_categorical = to_categorical(y_train)\n",
    "y_test_categorical = to_categorical(y_test)\n",
    "\n",
    "y_train_categorical.shape, y_test_categorical.shape"
   ]
  },
  {
   "cell_type": "code",
   "execution_count": 18,
   "metadata": {
    "colab": {
     "base_uri": "https://localhost:8080/",
     "height": 36
    },
    "colab_type": "code",
    "executionInfo": {
     "elapsed": 508,
     "status": "ok",
     "timestamp": 1536328667220,
     "user": {
      "displayName": "Zayed Shah",
      "photoUrl": "//lh6.googleusercontent.com/-mYvyylR9dn0/AAAAAAAAAAI/AAAAAAAAAQM/FR1Q5ai4Ipg/s50-c-k-no/photo.jpg",
      "userId": "103266496270214154227"
     },
     "user_tz": -60
    },
    "id": "HP35MNw1TqsX",
    "outputId": "b3e6b066-4c36-49ed-b856-1378ee08b8e5"
   },
   "outputs": [
    {
     "data": {
      "text/plain": [
       "array([0., 0., 0., 0., 1., 0., 0., 0., 0., 0.], dtype=float32)"
      ]
     },
     "execution_count": 18,
     "metadata": {
      "tags": []
     },
     "output_type": "execute_result"
    }
   ],
   "source": [
    "y_train_categorical[10]"
   ]
  },
  {
   "cell_type": "code",
   "execution_count": 19,
   "metadata": {
    "colab": {
     "base_uri": "https://localhost:8080/",
     "height": 413
    },
    "colab_type": "code",
    "executionInfo": {
     "elapsed": 35446,
     "status": "ok",
     "timestamp": 1536328702910,
     "user": {
      "displayName": "Zayed Shah",
      "photoUrl": "//lh6.googleusercontent.com/-mYvyylR9dn0/AAAAAAAAAAI/AAAAAAAAAQM/FR1Q5ai4Ipg/s50-c-k-no/photo.jpg",
      "userId": "103266496270214154227"
     },
     "user_tz": -60
    },
    "id": "wMt-mzbLTsD6",
    "outputId": "75b13682-d1e0-4ae2-aca2-f7787b2ec7a4"
   },
   "outputs": [
    {
     "name": "stdout",
     "output_type": "stream",
     "text": [
      "Train on 14733 samples, validate on 3684 samples\n",
      "Epoch 1/10\n",
      "14733/14733 [==============================] - 5s 330us/step - loss: 1.1953 - acc: 0.5892 - val_loss: 0.7979 - val_acc: 0.7286\n",
      "Epoch 2/10\n",
      "14733/14733 [==============================] - 3s 221us/step - loss: 0.6223 - acc: 0.7961 - val_loss: 0.6016 - val_acc: 0.8032\n",
      "Epoch 3/10\n",
      "14733/14733 [==============================] - 3s 222us/step - loss: 0.4837 - acc: 0.8397 - val_loss: 0.5741 - val_acc: 0.8151\n",
      "Epoch 4/10\n",
      "14733/14733 [==============================] - 3s 221us/step - loss: 0.3954 - acc: 0.8699 - val_loss: 0.5923 - val_acc: 0.8056\n",
      "Epoch 5/10\n",
      "14733/14733 [==============================] - 3s 221us/step - loss: 0.3150 - acc: 0.8978 - val_loss: 0.6619 - val_acc: 0.8005\n",
      "Epoch 6/10\n",
      "14733/14733 [==============================] - 3s 221us/step - loss: 0.2254 - acc: 0.9280 - val_loss: 0.6948 - val_acc: 0.7980\n",
      "Epoch 7/10\n",
      "14733/14733 [==============================] - 3s 221us/step - loss: 0.1421 - acc: 0.9559 - val_loss: 0.7528 - val_acc: 0.8029\n",
      "Epoch 8/10\n",
      "14733/14733 [==============================] - 3s 220us/step - loss: 0.1018 - acc: 0.9686 - val_loss: 0.7699 - val_acc: 0.8211\n",
      "Epoch 9/10\n",
      "14733/14733 [==============================] - 3s 220us/step - loss: 0.0401 - acc: 0.9904 - val_loss: 0.8575 - val_acc: 0.8154\n",
      "Epoch 10/10\n",
      "14733/14733 [==============================] - 3s 220us/step - loss: 0.0150 - acc: 0.9970 - val_loss: 0.8878 - val_acc: 0.8214\n"
     ]
    }
   ],
   "source": [
    "embedding_dim = 300\n",
    "\n",
    "embedding_layer = Embedding(max_words,\n",
    "                            embedding_dim,\n",
    "                            embeddings_initializer=Constant(embedding_matrix),\n",
    "                            input_length=max_padding,\n",
    "                            trainable=False)\n",
    "\n",
    "sequence_input = Input(shape=(max_padding,), dtype='int32')\n",
    "embedded_sequences = embedding_layer(sequence_input)\n",
    "x = Conv1D(128, 5, activation='relu')(embedded_sequences)\n",
    "x = MaxPooling1D(5)(x)\n",
    "x = Conv1D(128, 5, activation='relu')(x)\n",
    "x = MaxPooling1D(5)(x)\n",
    "x = Conv1D(128, 5, activation='relu')(x)\n",
    "x = GlobalMaxPooling1D()(x)\n",
    "x = Dense(128, activation='relu')(x)\n",
    "preds = Dense(10, activation='softmax')(x)\n",
    "\n",
    "model = Model(sequence_input, preds)\n",
    "\n",
    "model.compile(loss='categorical_crossentropy', optimizer='adam', metrics=['accuracy'])\n",
    "\n",
    "history = model.fit(X_train_padded, y_train_categorical, batch_size=128, epochs=10, validation_split=0.2)"
   ]
  },
  {
   "cell_type": "code",
   "execution_count": 20,
   "metadata": {
    "colab": {
     "base_uri": "https://localhost:8080/",
     "height": 55
    },
    "colab_type": "code",
    "executionInfo": {
     "elapsed": 1201,
     "status": "ok",
     "timestamp": 1536328704235,
     "user": {
      "displayName": "Zayed Shah",
      "photoUrl": "//lh6.googleusercontent.com/-mYvyylR9dn0/AAAAAAAAAAI/AAAAAAAAAQM/FR1Q5ai4Ipg/s50-c-k-no/photo.jpg",
      "userId": "103266496270214154227"
     },
     "user_tz": -60
    },
    "id": "duSm4ZbnT_xl",
    "outputId": "9bf83e52-6139-41b8-81a9-450f77661f6c"
   },
   "outputs": [
    {
     "name": "stdout",
     "output_type": "stream",
     "text": [
      "4605/4605 [==============================] - 1s 152us/step\n"
     ]
    },
    {
     "data": {
      "text/plain": [
       "[0.9107638877067193, 0.8236699240215438]"
      ]
     },
     "execution_count": 20,
     "metadata": {
      "tags": []
     },
     "output_type": "execute_result"
    }
   ],
   "source": [
    "model.evaluate(X_test_padded, y_test_categorical)"
   ]
  },
  {
   "cell_type": "code",
   "execution_count": 21,
   "metadata": {
    "colab": {
     "base_uri": "https://localhost:8080/",
     "height": 313
    },
    "colab_type": "code",
    "executionInfo": {
     "elapsed": 764,
     "status": "ok",
     "timestamp": 1536328705108,
     "user": {
      "displayName": "Zayed Shah",
      "photoUrl": "//lh6.googleusercontent.com/-mYvyylR9dn0/AAAAAAAAAAI/AAAAAAAAAQM/FR1Q5ai4Ipg/s50-c-k-no/photo.jpg",
      "userId": "103266496270214154227"
     },
     "user_tz": -60
    },
    "id": "uoN2m_w2UbB1",
    "outputId": "48098c1f-0bc3-4bcb-c62c-3a4657b9f1f4"
   },
   "outputs": [
    {
     "data": {
      "text/plain": [
       "<matplotlib.legend.Legend at 0x7f1a43bd4080>"
      ]
     },
     "execution_count": 21,
     "metadata": {
      "tags": []
     },
     "output_type": "execute_result"
    },
    {
     "data": {
      "image/png": "[encoded data removed]",
      "text/plain": [
       "<matplotlib.figure.Figure at 0x7f1a6230a748>"
      ]
     },
     "metadata": {
      "tags": []
     },
     "output_type": "display_data"
    }
   ],
   "source": [
    "history_dict = history.history\n",
    "\n",
    "acc = history.history['acc']\n",
    "val_acc = history.history['val_acc']\n",
    "loss = history.history['loss']\n",
    "val_loss = history.history['val_loss']\n",
    "\n",
    "epochs = range(1, len(acc) + 1)\n",
    "\n",
    "plt.plot(epochs, loss, 'bo', label='Training loss')\n",
    "plt.plot(epochs, val_loss, 'b', label='Validation loss')\n",
    "plt.title('Training and validation loss')\n",
    "plt.xlabel('Epochs')\n",
    "plt.ylabel('Loss')\n",
    "plt.legend()"
   ]
  },
  {
   "cell_type": "code",
   "execution_count": 22,
   "metadata": {
    "colab": {
     "base_uri": "https://localhost:8080/",
     "height": 313
    },
    "colab_type": "code",
    "executionInfo": {
     "elapsed": 822,
     "status": "ok",
     "timestamp": 1536328706129,
     "user": {
      "displayName": "Zayed Shah",
      "photoUrl": "//lh6.googleusercontent.com/-mYvyylR9dn0/AAAAAAAAAAI/AAAAAAAAAQM/FR1Q5ai4Ipg/s50-c-k-no/photo.jpg",
      "userId": "103266496270214154227"
     },
     "user_tz": -60
    },
    "id": "7Gsvoqo6UfC5",
    "outputId": "c66a0fc2-efe1-4023-b3a2-8cf1edf03e4b"
   },
   "outputs": [
    {
     "data": {
      "text/plain": [
       "<matplotlib.legend.Legend at 0x7f1a41a44f98>"
      ]
     },
     "execution_count": 22,
     "metadata": {
      "tags": []
     },
     "output_type": "execute_result"
    },
    {
     "data": {
      "image/png": "[encoded data removed]",
      "text/plain": [
       "<matplotlib.figure.Figure at 0x7f1a622ff400>"
      ]
     },
     "metadata": {
      "tags": []
     },
     "output_type": "display_data"
    }
   ],
   "source": [
    "plt.clf()\n",
    "acc_values = history_dict['acc']\n",
    "val_acc_values = history_dict['val_acc']\n",
    "\n",
    "plt.plot(epochs, acc, 'bo', label='Training acc')\n",
    "plt.plot(epochs, val_acc, 'b', label='Validation acc')\n",
    "plt.title('Training and validation accuracy')\n",
    "plt.xlabel('Epochs')\n",
    "plt.ylabel('Accuracy')\n",
    "plt.legend()"
   ]
  }
 ],
 "metadata": {
  "accelerator": "GPU",
  "colab": {
   "collapsed_sections": [],
   "name": "0907_1405_Gensim Part2.ipynb",
   "provenance": [],
   "version": "0.3.2"
  },
  "kernelspec": {
   "display_name": "Python [default]",
   "language": "python",
   "name": "python3"
  },
  "language_info": {
   "codemirror_mode": {
    "name": "ipython",
    "version": 3
   },
   "file_extension": ".py",
   "mimetype": "text/x-python",
   "name": "python",
   "nbconvert_exporter": "python",
   "pygments_lexer": "ipython3",
   "version": "3.6.6"
  }
 },
 "nbformat": 4,
 "nbformat_minor": 1
}
