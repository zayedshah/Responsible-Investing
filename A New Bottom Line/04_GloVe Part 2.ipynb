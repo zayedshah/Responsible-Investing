{
 "cells": [
  {
   "cell_type": "markdown",
   "metadata": {},
   "source": [
    "# Using GloVe - Part 2"
   ]
  },
  {
   "cell_type": "code",
   "execution_count": 1,
   "metadata": {
    "colab": {
     "base_uri": "https://localhost:8080/",
     "height": 36
    },
    "colab_type": "code",
    "executionInfo": {
     "elapsed": 1423,
     "status": "ok",
     "timestamp": 1536325105392,
     "user": {
      "displayName": "Zayed Shah",
      "photoUrl": "//lh6.googleusercontent.com/-mYvyylR9dn0/AAAAAAAAAAI/AAAAAAAAAQM/FR1Q5ai4Ipg/s50-c-k-no/photo.jpg",
      "userId": "103266496270214154227"
     },
     "user_tz": -60
    },
    "id": "pbi2qdiTBVue",
    "outputId": "e1146236-34a0-4d1e-9bce-809c80921500"
   },
   "outputs": [
    {
     "name": "stderr",
     "output_type": "stream",
     "text": [
      "Using TensorFlow backend.\n"
     ]
    }
   ],
   "source": [
    "import pandas as pd\n",
    "import numpy as np\n",
    "\n",
    "from sklearn.model_selection import train_test_split\n",
    "\n",
    "from keras.preprocessing.text import Tokenizer\n",
    "from keras.preprocessing.sequence import pad_sequences\n",
    "from keras.utils import to_categorical\n",
    "from keras.layers import Dense, Input, GlobalMaxPooling1D\n",
    "from keras.layers import Conv1D, MaxPooling1D, Embedding\n",
    "from keras.models import Model\n",
    "from keras.initializers import Constant\n",
    "\n",
    "import pickle\n",
    "\n",
    "import matplotlib.pyplot as plt\n",
    "%matplotlib inline"
   ]
  },
  {
   "cell_type": "code",
   "execution_count": 2,
   "metadata": {
    "colab": {
     "base_uri": "https://localhost:8080/",
     "height": 36
    },
    "colab_type": "code",
    "executionInfo": {
     "elapsed": 2922,
     "status": "ok",
     "timestamp": 1536325108513,
     "user": {
      "displayName": "Zayed Shah",
      "photoUrl": "//lh6.googleusercontent.com/-mYvyylR9dn0/AAAAAAAAAAI/AAAAAAAAAQM/FR1Q5ai4Ipg/s50-c-k-no/photo.jpg",
      "userId": "103266496270214154227"
     },
     "user_tz": -60
    },
    "id": "4Vkh8YffBt2E",
    "outputId": "cc46a8ce-4b52-4062-9c84-6bd4327e70a7"
   },
   "outputs": [
    {
     "data": {
      "text/plain": [
       "((23022,), (23022,))"
      ]
     },
     "execution_count": 2,
     "metadata": {
      "tags": []
     },
     "output_type": "execute_result"
    }
   ],
   "source": [
    "df = pd.read_excel('/content/drive/Data/Data_ML.xlsx')\n",
    "df = df[pd.notnull(df['Business Description'])]\n",
    "df['Sector ID'] = df['TRBC Economic Sector Name'].factorize(sort=True)[0]\n",
    "X = df['Business Description']\n",
    "y = df['Sector ID']\n",
    "X.shape, y.shape"
   ]
  },
  {
   "cell_type": "code",
   "execution_count": 3,
   "metadata": {
    "colab": {
     "base_uri": "https://localhost:8080/",
     "height": 130
    },
    "colab_type": "code",
    "executionInfo": {
     "elapsed": 603,
     "status": "ok",
     "timestamp": 1536325109205,
     "user": {
      "displayName": "Zayed Shah",
      "photoUrl": "//lh6.googleusercontent.com/-mYvyylR9dn0/AAAAAAAAAAI/AAAAAAAAAQM/FR1Q5ai4Ipg/s50-c-k-no/photo.jpg",
      "userId": "103266496270214154227"
     },
     "user_tz": -60
    },
    "id": "fwCE5tozBvQH",
    "outputId": "e7c21261-a448-43f0-8721-31f97bc34d3f"
   },
   "outputs": [
    {
     "data": {
      "text/plain": [
       "0    Cummins Inc. designs, manufactures, distribute...\n",
       "1    Rio Tinto plc is a mining and metals company. ...\n",
       "2    Rio Tinto Limited (Rio Tinto) is a mining comp...\n",
       "3    The Royal Dutch Shell plc explores for crude o...\n",
       "4    BHP Billiton Plc is a global resources company...\n",
       "Name: Business Description, dtype: object"
      ]
     },
     "execution_count": 3,
     "metadata": {
      "tags": []
     },
     "output_type": "execute_result"
    }
   ],
   "source": [
    "X.head()"
   ]
  },
  {
   "cell_type": "code",
   "execution_count": 4,
   "metadata": {
    "colab": {
     "base_uri": "https://localhost:8080/",
     "height": 130
    },
    "colab_type": "code",
    "executionInfo": {
     "elapsed": 578,
     "status": "ok",
     "timestamp": 1536325110055,
     "user": {
      "displayName": "Zayed Shah",
      "photoUrl": "//lh6.googleusercontent.com/-mYvyylR9dn0/AAAAAAAAAAI/AAAAAAAAAQM/FR1Q5ai4Ipg/s50-c-k-no/photo.jpg",
      "userId": "103266496270214154227"
     },
     "user_tz": -60
    },
    "id": "xFqlVDg7CKEd",
    "outputId": "5a3a6722-cef3-460b-d988-36d136d9d2a8"
   },
   "outputs": [
    {
     "data": {
      "text/plain": [
       "0    1\n",
       "1    0\n",
       "2    0\n",
       "3    3\n",
       "4    0\n",
       "Name: Sector ID, dtype: int64"
      ]
     },
     "execution_count": 4,
     "metadata": {
      "tags": []
     },
     "output_type": "execute_result"
    }
   ],
   "source": [
    "y.head()"
   ]
  },
  {
   "cell_type": "code",
   "execution_count": 5,
   "metadata": {
    "colab": {
     "base_uri": "https://localhost:8080/",
     "height": 92
    },
    "colab_type": "code",
    "executionInfo": {
     "elapsed": 478,
     "status": "ok",
     "timestamp": 1536325110983,
     "user": {
      "displayName": "Zayed Shah",
      "photoUrl": "//lh6.googleusercontent.com/-mYvyylR9dn0/AAAAAAAAAAI/AAAAAAAAAQM/FR1Q5ai4Ipg/s50-c-k-no/photo.jpg",
      "userId": "103266496270214154227"
     },
     "user_tz": -60
    },
    "id": "eJ_0G1nBCgZx",
    "outputId": "ae35e3ae-b62a-4065-b807-fc00657a3df1"
   },
   "outputs": [
    {
     "name": "stdout",
     "output_type": "stream",
     "text": [
      "(18417,)\n",
      "(4605,)\n",
      "(18417,)\n",
      "(4605,)\n"
     ]
    }
   ],
   "source": [
    "X_train, X_test, y_train, y_test = train_test_split(X, y, test_size=0.2, random_state=0)\n",
    "\n",
    "splits = [X_train, X_test, y_train, y_test]\n",
    "for _ in splits:\n",
    "    print(_.shape)"
   ]
  },
  {
   "cell_type": "code",
   "execution_count": 6,
   "metadata": {
    "colab": {
     "base_uri": "https://localhost:8080/",
     "height": 36
    },
    "colab_type": "code",
    "executionInfo": {
     "elapsed": 2613,
     "status": "ok",
     "timestamp": 1536325114082,
     "user": {
      "displayName": "Zayed Shah",
      "photoUrl": "//lh6.googleusercontent.com/-mYvyylR9dn0/AAAAAAAAAAI/AAAAAAAAAQM/FR1Q5ai4Ipg/s50-c-k-no/photo.jpg",
      "userId": "103266496270214154227"
     },
     "user_tz": -60
    },
    "id": "2YbFawu_Cwyu",
    "outputId": "1e8593b8-9876-4575-8fc4-f2e91487f432"
   },
   "outputs": [
    {
     "data": {
      "text/plain": [
       "70673"
      ]
     },
     "execution_count": 6,
     "metadata": {
      "tags": []
     },
     "output_type": "execute_result"
    }
   ],
   "source": [
    "max_words = 10000\n",
    "tokenizer = Tokenizer(num_words=max_words)\n",
    "tokenizer.fit_on_texts(X_train)\n",
    "w2i = tokenizer.word_index\n",
    "len(w2i)"
   ]
  },
  {
   "cell_type": "code",
   "execution_count": 7,
   "metadata": {
    "colab": {
     "base_uri": "https://localhost:8080/",
     "height": 55
    },
    "colab_type": "code",
    "executionInfo": {
     "elapsed": 589,
     "status": "ok",
     "timestamp": 1536325114832,
     "user": {
      "displayName": "Zayed Shah",
      "photoUrl": "//lh6.googleusercontent.com/-mYvyylR9dn0/AAAAAAAAAAI/AAAAAAAAAQM/FR1Q5ai4Ipg/s50-c-k-no/photo.jpg",
      "userId": "103266496270214154227"
     },
     "user_tz": -60
    },
    "id": "MWgKAPG0Cyfx",
    "outputId": "c7b55ac3-8b0a-4d10-c3a5-7484cc7fd7a9"
   },
   "outputs": [
    {
     "name": "stdout",
     "output_type": "stream",
     "text": [
      "['and', 'the', 'of', 'in', 'company', 'is', 'a', 'as', 'products', 'its']\n",
      "[1, 2, 3, 4, 5, 6, 7, 8, 9, 10]\n"
     ]
    }
   ],
   "source": [
    "i2w = dict((v,k) for (k,v) in w2i.items())\n",
    "\n",
    "print(list(w2i)[:10])\n",
    "print(list(i2w)[:10])"
   ]
  },
  {
   "cell_type": "code",
   "execution_count": 0,
   "metadata": {
    "colab": {},
    "colab_type": "code",
    "collapsed": true,
    "id": "otbrHGSOCLCW"
   },
   "outputs": [],
   "source": [
    "with open('/content/drive/Data/embeddings_glove.pkl','rb') as f:\n",
    "  embedding_matrix = pickle.load(f)"
   ]
  },
  {
   "cell_type": "code",
   "execution_count": 9,
   "metadata": {
    "colab": {
     "base_uri": "https://localhost:8080/",
     "height": 36
    },
    "colab_type": "code",
    "executionInfo": {
     "elapsed": 482,
     "status": "ok",
     "timestamp": 1536325117646,
     "user": {
      "displayName": "Zayed Shah",
      "photoUrl": "//lh6.googleusercontent.com/-mYvyylR9dn0/AAAAAAAAAAI/AAAAAAAAAQM/FR1Q5ai4Ipg/s50-c-k-no/photo.jpg",
      "userId": "103266496270214154227"
     },
     "user_tz": -60
    },
    "id": "w-1LrnUpCar8",
    "outputId": "ac076a9a-bda5-4795-df02-8d68f3862bc1"
   },
   "outputs": [
    {
     "data": {
      "text/plain": [
       "(10000, 100)"
      ]
     },
     "execution_count": 9,
     "metadata": {
      "tags": []
     },
     "output_type": "execute_result"
    }
   ],
   "source": [
    "embedding_matrix.shape"
   ]
  },
  {
   "cell_type": "code",
   "execution_count": 10,
   "metadata": {
    "colab": {
     "base_uri": "https://localhost:8080/",
     "height": 394
    },
    "colab_type": "code",
    "executionInfo": {
     "elapsed": 774,
     "status": "ok",
     "timestamp": 1536325118795,
     "user": {
      "displayName": "Zayed Shah",
      "photoUrl": "//lh6.googleusercontent.com/-mYvyylR9dn0/AAAAAAAAAAI/AAAAAAAAAQM/FR1Q5ai4Ipg/s50-c-k-no/photo.jpg",
      "userId": "103266496270214154227"
     },
     "user_tz": -60
    },
    "id": "Sd3qKuKzCc31",
    "outputId": "a570c64f-9581-42bd-e05d-0800cac94926"
   },
   "outputs": [
    {
     "data": {
      "text/plain": [
       "array([ 0.35995999,  0.45570999,  1.14170003,  0.45611   ,  0.9601    ,\n",
       "       -0.95994997, -0.92540002,  0.127     ,  0.51292002, -0.039701  ,\n",
       "       -0.26548001, -0.013654  ,  1.08679998,  0.30419001, -0.77057999,\n",
       "       -0.054124  ,  0.4386    , -0.51727003, -0.61157   , -0.78044999,\n",
       "        1.10800004,  0.17912   ,  0.13787   ,  1.05019999, -0.10599   ,\n",
       "        0.28804001,  0.084783  ,  0.74449998, -0.072019  , -0.30362001,\n",
       "       -1.19029999,  1.33949995,  0.80093002, -0.11032   ,  0.0036099 ,\n",
       "        0.075959  ,  0.38789001, -0.19721   , -1.27600002, -0.59604001,\n",
       "       -1.42470002, -0.61493999,  0.26129001, -0.46810001,  0.4763    ,\n",
       "       -0.12842999,  0.24786   ,  0.1086    ,  0.36115   , -1.41849995,\n",
       "        0.27347001,  0.050184  , -0.21788   ,  0.90376002, -0.29337999,\n",
       "       -1.96060002,  0.16602001, -0.10826   ,  2.15840006, -0.024248  ,\n",
       "       -0.82154   , -0.01291   , -0.33662   ,  0.47957   ,  0.054286  ,\n",
       "        0.54413003, -0.31564999,  0.79236001,  0.579     ,  0.06817   ,\n",
       "        0.27004001, -0.097153  , -0.043945  ,  0.26236001,  0.18506999,\n",
       "        0.38865   , -0.24258   , -0.063185  , -1.11430001,  0.034371  ,\n",
       "        1.37030005,  0.35007   , -0.46678999,  0.26666999, -1.17040002,\n",
       "        0.25955001, -0.73628002,  0.04368   ,  0.36357999, -0.27023   ,\n",
       "        1.20319998,  0.091401  ,  0.028696  , -0.54619002, -0.56014001,\n",
       "        0.26146999, -1.32439995, -1.44599998,  0.54944003, -0.49465001])"
      ]
     },
     "execution_count": 10,
     "metadata": {
      "tags": []
     },
     "output_type": "execute_result"
    }
   ],
   "source": [
    "embedding_matrix[50]"
   ]
  },
  {
   "cell_type": "code",
   "execution_count": 11,
   "metadata": {
    "colab": {
     "base_uri": "https://localhost:8080/",
     "height": 36
    },
    "colab_type": "code",
    "executionInfo": {
     "elapsed": 564,
     "status": "ok",
     "timestamp": 1536325119597,
     "user": {
      "displayName": "Zayed Shah",
      "photoUrl": "//lh6.googleusercontent.com/-mYvyylR9dn0/AAAAAAAAAAI/AAAAAAAAAQM/FR1Q5ai4Ipg/s50-c-k-no/photo.jpg",
      "userId": "103266496270214154227"
     },
     "user_tz": -60
    },
    "id": "xu0zJHSfDFZ1",
    "outputId": "5726cbf5-eaed-40d6-ec3a-4e60195dd383"
   },
   "outputs": [
    {
     "data": {
      "text/plain": [
       "'china'"
      ]
     },
     "execution_count": 11,
     "metadata": {
      "tags": []
     },
     "output_type": "execute_result"
    }
   ],
   "source": [
    "i2w[50]"
   ]
  },
  {
   "cell_type": "code",
   "execution_count": 12,
   "metadata": {
    "colab": {
     "base_uri": "https://localhost:8080/",
     "height": 36
    },
    "colab_type": "code",
    "executionInfo": {
     "elapsed": 2491,
     "status": "ok",
     "timestamp": 1536325122253,
     "user": {
      "displayName": "Zayed Shah",
      "photoUrl": "//lh6.googleusercontent.com/-mYvyylR9dn0/AAAAAAAAAAI/AAAAAAAAAQM/FR1Q5ai4Ipg/s50-c-k-no/photo.jpg",
      "userId": "103266496270214154227"
     },
     "user_tz": -60
    },
    "id": "MBuBkWCtDIuj",
    "outputId": "19d70f2d-f252-4eb0-d349-292a260ce885"
   },
   "outputs": [
    {
     "data": {
      "text/plain": [
       "(18417, 4605)"
      ]
     },
     "execution_count": 12,
     "metadata": {
      "tags": []
     },
     "output_type": "execute_result"
    }
   ],
   "source": [
    "X_train_sequences = tokenizer.texts_to_sequences(X_train)\n",
    "X_test_sequences = tokenizer.texts_to_sequences(X_test)\n",
    "\n",
    "len(X_train_sequences), len(X_test_sequences)"
   ]
  },
  {
   "cell_type": "code",
   "execution_count": 13,
   "metadata": {
    "colab": {
     "base_uri": "https://localhost:8080/",
     "height": 187
    },
    "colab_type": "code",
    "executionInfo": {
     "elapsed": 522,
     "status": "ok",
     "timestamp": 1536325122855,
     "user": {
      "displayName": "Zayed Shah",
      "photoUrl": "//lh6.googleusercontent.com/-mYvyylR9dn0/AAAAAAAAAAI/AAAAAAAAAQM/FR1Q5ai4Ipg/s50-c-k-no/photo.jpg",
      "userId": "103266496270214154227"
     },
     "user_tz": -60
    },
    "id": "t0036q61DN37",
    "outputId": "0ae186d8-2937-4652-aa40-bf5516b19660"
   },
   "outputs": [
    {
     "data": {
      "text/plain": [
       "array([ 127,    6,    7,  364,    1, 1035,    3,  184,    9,    1, 6067,\n",
       "          2,    5,   19,   22,   89,   27, 5631, 3377,    9,    1, 2586,\n",
       "          1,    2, 5631, 3377,    9,    1,   13,  137,    1,  140, 3617,\n",
       "          1, 2312, 1459, 1976,    1, 1746, 1038, 4439, 2741, 1038, 1038,\n",
       "        676,    1, 1038, 4688,  586, 2099,    9,    1, 2560, 5084,    2,\n",
       "       2586,   13,  235,    1,  140,    7,   81,    3, 2586,   85,   32,\n",
       "       1038,  367, 2586,  962,    1, 1747,    9,   38,    8, 8754, 2586,\n",
       "        962,    1, 1262,    2,   13,  235,    1,  140, 2409, 6067,  143,\n",
       "        229,  963, 6067,    1,  143,    1,   71, 4934])"
      ]
     },
     "execution_count": 13,
     "metadata": {
      "tags": []
     },
     "output_type": "execute_result"
    }
   ],
   "source": [
    "np.array(X_train_sequences[0])"
   ]
  },
  {
   "cell_type": "code",
   "execution_count": 14,
   "metadata": {
    "colab": {
     "base_uri": "https://localhost:8080/",
     "height": 36
    },
    "colab_type": "code",
    "executionInfo": {
     "elapsed": 417,
     "status": "ok",
     "timestamp": 1536325123512,
     "user": {
      "displayName": "Zayed Shah",
      "photoUrl": "//lh6.googleusercontent.com/-mYvyylR9dn0/AAAAAAAAAAI/AAAAAAAAAQM/FR1Q5ai4Ipg/s50-c-k-no/photo.jpg",
      "userId": "103266496270214154227"
     },
     "user_tz": -60
    },
    "id": "xtwzujDlDPrM",
    "outputId": "2740c867-6a34-40f4-b0a9-36521c8e82bb"
   },
   "outputs": [
    {
     "data": {
      "text/plain": [
       "(96, 128)"
      ]
     },
     "execution_count": 14,
     "metadata": {
      "tags": []
     },
     "output_type": "execute_result"
    }
   ],
   "source": [
    "len(X_train_sequences[0]), len(X_train_sequences[10])"
   ]
  },
  {
   "cell_type": "code",
   "execution_count": 15,
   "metadata": {
    "colab": {
     "base_uri": "https://localhost:8080/",
     "height": 36
    },
    "colab_type": "code",
    "executionInfo": {
     "elapsed": 906,
     "status": "ok",
     "timestamp": 1536325124554,
     "user": {
      "displayName": "Zayed Shah",
      "photoUrl": "//lh6.googleusercontent.com/-mYvyylR9dn0/AAAAAAAAAAI/AAAAAAAAAQM/FR1Q5ai4Ipg/s50-c-k-no/photo.jpg",
      "userId": "103266496270214154227"
     },
     "user_tz": -60
    },
    "id": "tyrVIZZVDQzN",
    "outputId": "8947bcb3-d2d4-4391-fb4d-2805ffba56db"
   },
   "outputs": [
    {
     "data": {
      "text/plain": [
       "((18417, 200), (4605, 200))"
      ]
     },
     "execution_count": 15,
     "metadata": {
      "tags": []
     },
     "output_type": "execute_result"
    }
   ],
   "source": [
    "max_padding = 200\n",
    "\n",
    "X_train_padded = pad_sequences(X_train_sequences, padding='post', maxlen=max_padding)\n",
    "X_test_padded = pad_sequences(X_test_sequences, padding='post', maxlen=max_padding)\n",
    "\n",
    "X_train_padded.shape, X_test_padded.shape"
   ]
  },
  {
   "cell_type": "code",
   "execution_count": 16,
   "metadata": {
    "colab": {
     "base_uri": "https://localhost:8080/",
     "height": 375
    },
    "colab_type": "code",
    "executionInfo": {
     "elapsed": 585,
     "status": "ok",
     "timestamp": 1536325125274,
     "user": {
      "displayName": "Zayed Shah",
      "photoUrl": "//lh6.googleusercontent.com/-mYvyylR9dn0/AAAAAAAAAAI/AAAAAAAAAQM/FR1Q5ai4Ipg/s50-c-k-no/photo.jpg",
      "userId": "103266496270214154227"
     },
     "user_tz": -60
    },
    "id": "S8PzCJIJDR7T",
    "outputId": "d6b7a18f-5257-4529-fbb5-7518b324f4e7"
   },
   "outputs": [
    {
     "data": {
      "text/plain": [
       "array([9448,  470,    6,    7,   53,   59,   25,  165,    2,    5,    6,\n",
       "         12,    4,    2,  371,    3,    1,   25,    4,   63,   87,   92,\n",
       "          4,  454,   10,  101,  151,    3,  107,  466,   87,   32,   63,\n",
       "        174,    1,   71,  239,   10,   63,  239,   18, 9448,  177,  297,\n",
       "        297, 9448,  177,  780,  426, 9448,  177,  426, 8186, 9448,  177,\n",
       "        605, 3687, 1295, 9448,  177,  646, 5844, 5430,  177, 1930,    1,\n",
       "       6936, 2532,   10,  174,  177,   45, 8758,   10,   71,  177,   45,\n",
       "       9448,  177, 1217,   10,   87,   34,  111,    4, 8759, 6328, 3126,\n",
       "       3981, 3982,    1, 6329,   10, 2314, 1410,   45,   86,    1,   72,\n",
       "         82,  346, 1790,  174,  169,   65,   74,  119,   77,  293,  209,\n",
       "         73,   56,  347,   11,   80,    1, 1422, 1490,  126,  240, 9448,\n",
       "         28,  493,  473,    6,    2,  482,    3,    0,    0,    0,    0,\n",
       "          0,    0,    0,    0,    0,    0,    0,    0,    0,    0,    0,\n",
       "          0,    0,    0,    0,    0,    0,    0,    0,    0,    0,    0,\n",
       "          0,    0,    0,    0,    0,    0,    0,    0,    0,    0,    0,\n",
       "          0,    0,    0,    0,    0,    0,    0,    0,    0,    0,    0,\n",
       "          0,    0,    0,    0,    0,    0,    0,    0,    0,    0,    0,\n",
       "          0,    0,    0,    0,    0,    0,    0,    0,    0,    0,    0,\n",
       "          0,    0], dtype=int32)"
      ]
     },
     "execution_count": 16,
     "metadata": {
      "tags": []
     },
     "output_type": "execute_result"
    }
   ],
   "source": [
    "X_train_padded[10]"
   ]
  },
  {
   "cell_type": "code",
   "execution_count": 17,
   "metadata": {
    "colab": {
     "base_uri": "https://localhost:8080/",
     "height": 36
    },
    "colab_type": "code",
    "executionInfo": {
     "elapsed": 434,
     "status": "ok",
     "timestamp": 1536325125848,
     "user": {
      "displayName": "Zayed Shah",
      "photoUrl": "//lh6.googleusercontent.com/-mYvyylR9dn0/AAAAAAAAAAI/AAAAAAAAAQM/FR1Q5ai4Ipg/s50-c-k-no/photo.jpg",
      "userId": "103266496270214154227"
     },
     "user_tz": -60
    },
    "id": "djLoMZ1zDTWu",
    "outputId": "e7d7be5c-b91e-4fcc-849d-5318812ceac7"
   },
   "outputs": [
    {
     "data": {
      "text/plain": [
       "((18417, 10), (4605, 10))"
      ]
     },
     "execution_count": 17,
     "metadata": {
      "tags": []
     },
     "output_type": "execute_result"
    }
   ],
   "source": [
    "y_train_categorical = to_categorical(y_train)\n",
    "y_test_categorical = to_categorical(y_test)\n",
    "\n",
    "y_train_categorical.shape, y_test_categorical.shape"
   ]
  },
  {
   "cell_type": "code",
   "execution_count": 18,
   "metadata": {
    "colab": {
     "base_uri": "https://localhost:8080/",
     "height": 36
    },
    "colab_type": "code",
    "executionInfo": {
     "elapsed": 464,
     "status": "ok",
     "timestamp": 1536325126459,
     "user": {
      "displayName": "Zayed Shah",
      "photoUrl": "//lh6.googleusercontent.com/-mYvyylR9dn0/AAAAAAAAAAI/AAAAAAAAAQM/FR1Q5ai4Ipg/s50-c-k-no/photo.jpg",
      "userId": "103266496270214154227"
     },
     "user_tz": -60
    },
    "id": "YIwCwd1yDUnV",
    "outputId": "bb345165-1ac0-4eb0-a34f-73f95b7f86fc"
   },
   "outputs": [
    {
     "data": {
      "text/plain": [
       "array([0., 0., 0., 0., 1., 0., 0., 0., 0., 0.], dtype=float32)"
      ]
     },
     "execution_count": 18,
     "metadata": {
      "tags": []
     },
     "output_type": "execute_result"
    }
   ],
   "source": [
    "y_train_categorical[10]"
   ]
  },
  {
   "cell_type": "code",
   "execution_count": 19,
   "metadata": {
    "colab": {
     "base_uri": "https://localhost:8080/",
     "height": 413
    },
    "colab_type": "code",
    "executionInfo": {
     "elapsed": 330779,
     "status": "ok",
     "timestamp": 1536325457384,
     "user": {
      "displayName": "Zayed Shah",
      "photoUrl": "//lh6.googleusercontent.com/-mYvyylR9dn0/AAAAAAAAAAI/AAAAAAAAAQM/FR1Q5ai4Ipg/s50-c-k-no/photo.jpg",
      "userId": "103266496270214154227"
     },
     "user_tz": -60
    },
    "id": "9BAVMYVVDVx8",
    "outputId": "e87e4380-af8e-4bbe-9aaf-63b4543c76ef"
   },
   "outputs": [
    {
     "name": "stdout",
     "output_type": "stream",
     "text": [
      "Train on 14733 samples, validate on 3684 samples\n",
      "Epoch 1/10\n",
      "14733/14733 [==============================] - 33s 2ms/step - loss: 1.4347 - acc: 0.4994 - val_loss: 1.3807 - val_acc: 0.5399\n",
      "Epoch 2/10\n",
      "14733/14733 [==============================] - 33s 2ms/step - loss: 0.8627 - acc: 0.7092 - val_loss: 1.1872 - val_acc: 0.6170\n",
      "Epoch 3/10\n",
      "14733/14733 [==============================] - 33s 2ms/step - loss: 0.7117 - acc: 0.7639 - val_loss: 0.9105 - val_acc: 0.7112\n",
      "Epoch 4/10\n",
      "14733/14733 [==============================] - 33s 2ms/step - loss: 0.6159 - acc: 0.7967 - val_loss: 1.2082 - val_acc: 0.6113\n",
      "Epoch 5/10\n",
      "14733/14733 [==============================] - 33s 2ms/step - loss: 0.5398 - acc: 0.8180 - val_loss: 0.9242 - val_acc: 0.6976\n",
      "Epoch 6/10\n",
      "14733/14733 [==============================] - 33s 2ms/step - loss: 0.4710 - acc: 0.8391 - val_loss: 1.1523 - val_acc: 0.6596\n",
      "Epoch 7/10\n",
      "14733/14733 [==============================] - 33s 2ms/step - loss: 0.4103 - acc: 0.8595 - val_loss: 0.8295 - val_acc: 0.7571\n",
      "Epoch 8/10\n",
      "14733/14733 [==============================] - 33s 2ms/step - loss: 0.3482 - acc: 0.8809 - val_loss: 1.0311 - val_acc: 0.7044\n",
      "Epoch 9/10\n",
      "14733/14733 [==============================] - 33s 2ms/step - loss: 0.2914 - acc: 0.8984 - val_loss: 1.1990 - val_acc: 0.6973\n",
      "Epoch 10/10\n",
      "14733/14733 [==============================] - 33s 2ms/step - loss: 0.2350 - acc: 0.9184 - val_loss: 0.9467 - val_acc: 0.7448\n"
     ]
    }
   ],
   "source": [
    "embedding_dim = 100\n",
    "\n",
    "embedding_layer = Embedding(max_words,\n",
    "                            embedding_dim,\n",
    "                            embeddings_initializer=Constant(embedding_matrix),\n",
    "                            input_length=max_padding,\n",
    "                            trainable=False)\n",
    "\n",
    "sequence_input = Input(shape=(max_padding,), dtype='int32')\n",
    "embedded_sequences = embedding_layer(sequence_input)\n",
    "x = Conv1D(128, 5, activation='relu')(embedded_sequences)\n",
    "x = MaxPooling1D(5)(x)\n",
    "x = Conv1D(128, 5, activation='relu')(x)\n",
    "x = MaxPooling1D(5)(x)\n",
    "x = Conv1D(128, 5, activation='relu')(x)\n",
    "x = GlobalMaxPooling1D()(x)\n",
    "x = Dense(128, activation='relu')(x)\n",
    "preds = Dense(10, activation='softmax')(x)\n",
    "\n",
    "model = Model(sequence_input, preds)\n",
    "\n",
    "model.compile(loss='categorical_crossentropy',\n",
    "              optimizer='rmsprop',\n",
    "                metrics=['acc'])\n",
    "\n",
    "history = model.fit(X_train_padded, y_train_categorical, batch_size=128, epochs=10, validation_split=0.2)"
   ]
  },
  {
   "cell_type": "code",
   "execution_count": 20,
   "metadata": {
    "colab": {
     "base_uri": "https://localhost:8080/",
     "height": 313
    },
    "colab_type": "code",
    "executionInfo": {
     "elapsed": 699,
     "status": "ok",
     "timestamp": 1536325458258,
     "user": {
      "displayName": "Zayed Shah",
      "photoUrl": "//lh6.googleusercontent.com/-mYvyylR9dn0/AAAAAAAAAAI/AAAAAAAAAQM/FR1Q5ai4Ipg/s50-c-k-no/photo.jpg",
      "userId": "103266496270214154227"
     },
     "user_tz": -60
    },
    "id": "Djm1QtYSFidQ",
    "outputId": "2bf795d7-7ee5-4767-b218-1e52e2c338e9"
   },
   "outputs": [
    {
     "data": {
      "text/plain": [
       "<matplotlib.legend.Legend at 0x7efcd0c23cf8>"
      ]
     },
     "execution_count": 20,
     "metadata": {
      "tags": []
     },
     "output_type": "execute_result"
    },
    {
     "data": {
      "image/png": "[encoded data removed]",
      "text/plain": [
       "<matplotlib.figure.Figure at 0x7efcd14ce5c0>"
      ]
     },
     "metadata": {
      "tags": []
     },
     "output_type": "display_data"
    }
   ],
   "source": [
    "history_dict = history.history\n",
    "\n",
    "acc = history.history['acc']\n",
    "val_acc = history.history['val_acc']\n",
    "loss = history.history['loss']\n",
    "val_loss = history.history['val_loss']\n",
    "\n",
    "epochs = range(1, len(acc) + 1)\n",
    "\n",
    "plt.plot(epochs, loss, 'bo', label='Training loss')\n",
    "plt.plot(epochs, val_loss, 'b', label='Validation loss')\n",
    "plt.title('Training and validation loss')\n",
    "plt.xlabel('Epochs')\n",
    "plt.ylabel('Loss')\n",
    "plt.legend()"
   ]
  },
  {
   "cell_type": "code",
   "execution_count": 21,
   "metadata": {
    "colab": {
     "base_uri": "https://localhost:8080/",
     "height": 313
    },
    "colab_type": "code",
    "executionInfo": {
     "elapsed": 827,
     "status": "ok",
     "timestamp": 1536325459377,
     "user": {
      "displayName": "Zayed Shah",
      "photoUrl": "//lh6.googleusercontent.com/-mYvyylR9dn0/AAAAAAAAAAI/AAAAAAAAAQM/FR1Q5ai4Ipg/s50-c-k-no/photo.jpg",
      "userId": "103266496270214154227"
     },
     "user_tz": -60
    },
    "id": "yqNwSgAZG7or",
    "outputId": "42347b20-091b-4ec6-e7ac-a5ceb9449f19"
   },
   "outputs": [
    {
     "data": {
      "text/plain": [
       "<matplotlib.legend.Legend at 0x7efcd0baaf60>"
      ]
     },
     "execution_count": 21,
     "metadata": {
      "tags": []
     },
     "output_type": "execute_result"
    },
    {
     "data": {
      "image/png": "[encoded data removed]",
      "text/plain": [
       "<matplotlib.figure.Figure at 0x7efcd14c1c50>"
      ]
     },
     "metadata": {
      "tags": []
     },
     "output_type": "display_data"
    }
   ],
   "source": [
    "plt.clf()\n",
    "acc_values = history_dict['acc']\n",
    "val_acc_values = history_dict['val_acc']\n",
    "\n",
    "plt.plot(epochs, acc, 'bo', label='Training acc')\n",
    "plt.plot(epochs, val_acc, 'b', label='Validation acc')\n",
    "plt.title('Training and validation accuracy')\n",
    "plt.xlabel('Epochs')\n",
    "plt.ylabel('Accuracy')\n",
    "plt.legend()"
   ]
  }
 ],
 "metadata": {
  "accelerator": "GPU",
  "colab": {
   "collapsed_sections": [],
   "name": "0907_1333_GloVe Part2.ipynb",
   "provenance": [],
   "version": "0.3.2"
  },
  "kernelspec": {
   "display_name": "Python [default]",
   "language": "python",
   "name": "python3"
  },
  "language_info": {
   "codemirror_mode": {
    "name": "ipython",
    "version": 3
   },
   "file_extension": ".py",
   "mimetype": "text/x-python",
   "name": "python",
   "nbconvert_exporter": "python",
   "pygments_lexer": "ipython3",
   "version": "3.6.6"
  }
 },
 "nbformat": 4,
 "nbformat_minor": 1
}
