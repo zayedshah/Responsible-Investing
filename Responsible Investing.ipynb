{
 "cells": [
  {
   "cell_type": "markdown",
   "metadata": {},
   "source": [
    "# Task - Machine Learning\n",
    "\n",
    "The objective is to predict company's Sector Name from Business Description. "
   ]
  },
  {
   "cell_type": "markdown",
   "metadata": {},
   "source": [
    "**Summary**: Naive Bayes gave accuracy of 76% while Logistic Regression gave accuracy of 80%."
   ]
  },
  {
   "cell_type": "markdown",
   "metadata": {},
   "source": [
    "## Loading Data\n",
    "\n",
    "Required modules and libraries are imported below. Data is in an excel file."
   ]
  },
  {
   "cell_type": "code",
   "execution_count": 1,
   "metadata": {
    "collapsed": true,
    "scrolled": false
   },
   "outputs": [],
   "source": [
    "import pandas as pd\n",
    "import numpy as np\n",
    "\n",
    "import matplotlib.pyplot as plt\n",
    "import seaborn as sns\n",
    "\n",
    "from sklearn.model_selection import train_test_split\n",
    "from sklearn.feature_extraction.text import CountVectorizer\n",
    "\n",
    "from sklearn.naive_bayes import MultinomialNB\n",
    "from sklearn.linear_model import LogisticRegression\n",
    "\n",
    "from sklearn import metrics\n",
    "\n",
    "import warnings\n",
    "warnings.filterwarnings('ignore')\n",
    "\n",
    "%matplotlib inline"
   ]
  },
  {
   "cell_type": "code",
   "execution_count": 2,
   "metadata": {},
   "outputs": [
    {
     "data": {
      "text/html": [
       "<div>\n",
       "<style scoped>\n",
       "    .dataframe tbody tr th:only-of-type {\n",
       "        vertical-align: middle;\n",
       "    }\n",
       "\n",
       "    .dataframe tbody tr th {\n",
       "        vertical-align: top;\n",
       "    }\n",
       "\n",
       "    .dataframe thead th {\n",
       "        text-align: right;\n",
       "    }\n",
       "</style>\n",
       "<table border=\"1\" class=\"dataframe\">\n",
       "  <thead>\n",
       "    <tr style=\"text-align: right;\">\n",
       "      <th></th>\n",
       "      <th>Identifier</th>\n",
       "      <th>Company Name</th>\n",
       "      <th>Business Description</th>\n",
       "      <th>TRBC Economic Sector Name</th>\n",
       "    </tr>\n",
       "  </thead>\n",
       "  <tbody>\n",
       "    <tr>\n",
       "      <th>0</th>\n",
       "      <td>CMI.N</td>\n",
       "      <td>Cummins Inc</td>\n",
       "      <td>Cummins Inc. designs, manufactures, distribute...</td>\n",
       "      <td>Consumer Cyclicals</td>\n",
       "    </tr>\n",
       "    <tr>\n",
       "      <th>1</th>\n",
       "      <td>RIO.L</td>\n",
       "      <td>Rio Tinto PLC</td>\n",
       "      <td>Rio Tinto plc is a mining and metals company. ...</td>\n",
       "      <td>Basic Materials</td>\n",
       "    </tr>\n",
       "    <tr>\n",
       "      <th>2</th>\n",
       "      <td>RIO.AX</td>\n",
       "      <td>Rio Tinto Ltd</td>\n",
       "      <td>Rio Tinto Limited (Rio Tinto) is a mining comp...</td>\n",
       "      <td>Basic Materials</td>\n",
       "    </tr>\n",
       "    <tr>\n",
       "      <th>3</th>\n",
       "      <td>RDSa.AS</td>\n",
       "      <td>Royal Dutch Shell PLC</td>\n",
       "      <td>The Royal Dutch Shell plc explores for crude o...</td>\n",
       "      <td>Energy</td>\n",
       "    </tr>\n",
       "    <tr>\n",
       "      <th>4</th>\n",
       "      <td>BLT.L</td>\n",
       "      <td>BHP Billiton PLC</td>\n",
       "      <td>BHP Billiton Plc is a global resources company...</td>\n",
       "      <td>Basic Materials</td>\n",
       "    </tr>\n",
       "  </tbody>\n",
       "</table>\n",
       "</div>"
      ],
      "text/plain": [
       "  Identifier           Company Name  \\\n",
       "0      CMI.N            Cummins Inc   \n",
       "1      RIO.L          Rio Tinto PLC   \n",
       "2     RIO.AX          Rio Tinto Ltd   \n",
       "3    RDSa.AS  Royal Dutch Shell PLC   \n",
       "4      BLT.L       BHP Billiton PLC   \n",
       "\n",
       "                                Business Description TRBC Economic Sector Name  \n",
       "0  Cummins Inc. designs, manufactures, distribute...        Consumer Cyclicals  \n",
       "1  Rio Tinto plc is a mining and metals company. ...           Basic Materials  \n",
       "2  Rio Tinto Limited (Rio Tinto) is a mining comp...           Basic Materials  \n",
       "3  The Royal Dutch Shell plc explores for crude o...                    Energy  \n",
       "4  BHP Billiton Plc is a global resources company...           Basic Materials  "
      ]
     },
     "execution_count": 2,
     "metadata": {},
     "output_type": "execute_result"
    }
   ],
   "source": [
    "df = pd.read_excel('../ML/Data_ML.xlsx')\n",
    "df.head()"
   ]
  },
  {
   "cell_type": "code",
   "execution_count": 3,
   "metadata": {},
   "outputs": [
    {
     "data": {
      "text/html": [
       "<div>\n",
       "<style scoped>\n",
       "    .dataframe tbody tr th:only-of-type {\n",
       "        vertical-align: middle;\n",
       "    }\n",
       "\n",
       "    .dataframe tbody tr th {\n",
       "        vertical-align: top;\n",
       "    }\n",
       "\n",
       "    .dataframe thead th {\n",
       "        text-align: right;\n",
       "    }\n",
       "</style>\n",
       "<table border=\"1\" class=\"dataframe\">\n",
       "  <thead>\n",
       "    <tr style=\"text-align: right;\">\n",
       "      <th></th>\n",
       "      <th>Identifier</th>\n",
       "      <th>Company Name</th>\n",
       "      <th>Business Description</th>\n",
       "      <th>TRBC Economic Sector Name</th>\n",
       "    </tr>\n",
       "  </thead>\n",
       "  <tbody>\n",
       "    <tr>\n",
       "      <th>23031</th>\n",
       "      <td>MUTG.F</td>\n",
       "      <td>Mineralbrunnen Ueberkingen-Teinach GmbH &amp; Co KGaA</td>\n",
       "      <td>Mineralbrunnen Ueberkingen-Teinach GmbH &amp; Co K...</td>\n",
       "      <td>Consumer Non-Cyclicals</td>\n",
       "    </tr>\n",
       "    <tr>\n",
       "      <th>23032</th>\n",
       "      <td>M0Y.DE</td>\n",
       "      <td>Mynaric AG</td>\n",
       "      <td>Mynaric AG is a Germany-based holding company ...</td>\n",
       "      <td>Technology</td>\n",
       "    </tr>\n",
       "    <tr>\n",
       "      <th>23033</th>\n",
       "      <td>CGDM.PA</td>\n",
       "      <td>Cegedim SA</td>\n",
       "      <td>Cegedim SA is a France-based company that prod...</td>\n",
       "      <td>Technology</td>\n",
       "    </tr>\n",
       "    <tr>\n",
       "      <th>23034</th>\n",
       "      <td>HEIO.AS</td>\n",
       "      <td>Heineken Holding NV</td>\n",
       "      <td>Heineken Holding NV is the Netherlands-based h...</td>\n",
       "      <td>Consumer Non-Cyclicals</td>\n",
       "    </tr>\n",
       "    <tr>\n",
       "      <th>23035</th>\n",
       "      <td>ECXn.DE</td>\n",
       "      <td>Epigenomics AG</td>\n",
       "      <td>Epigenomics AG is a Germany-based molecular di...</td>\n",
       "      <td>Healthcare</td>\n",
       "    </tr>\n",
       "  </tbody>\n",
       "</table>\n",
       "</div>"
      ],
      "text/plain": [
       "      Identifier                                       Company Name  \\\n",
       "23031     MUTG.F  Mineralbrunnen Ueberkingen-Teinach GmbH & Co KGaA   \n",
       "23032     M0Y.DE                                         Mynaric AG   \n",
       "23033    CGDM.PA                                         Cegedim SA   \n",
       "23034    HEIO.AS                                Heineken Holding NV   \n",
       "23035    ECXn.DE                                     Epigenomics AG   \n",
       "\n",
       "                                    Business Description  \\\n",
       "23031  Mineralbrunnen Ueberkingen-Teinach GmbH & Co K...   \n",
       "23032  Mynaric AG is a Germany-based holding company ...   \n",
       "23033  Cegedim SA is a France-based company that prod...   \n",
       "23034  Heineken Holding NV is the Netherlands-based h...   \n",
       "23035  Epigenomics AG is a Germany-based molecular di...   \n",
       "\n",
       "      TRBC Economic Sector Name  \n",
       "23031    Consumer Non-Cyclicals  \n",
       "23032                Technology  \n",
       "23033                Technology  \n",
       "23034    Consumer Non-Cyclicals  \n",
       "23035                Healthcare  "
      ]
     },
     "execution_count": 3,
     "metadata": {},
     "output_type": "execute_result"
    }
   ],
   "source": [
    "df.tail()"
   ]
  },
  {
   "cell_type": "markdown",
   "metadata": {},
   "source": [
    "Data has been loaded successfully. There are 4 columns and around 23000 rows."
   ]
  },
  {
   "cell_type": "markdown",
   "metadata": {},
   "source": [
    "## Data Exploration"
   ]
  },
  {
   "cell_type": "code",
   "execution_count": 4,
   "metadata": {},
   "outputs": [
    {
     "name": "stdout",
     "output_type": "stream",
     "text": [
      "<class 'pandas.core.frame.DataFrame'>\n",
      "RangeIndex: 23036 entries, 0 to 23035\n",
      "Data columns (total 4 columns):\n",
      "Identifier                   23036 non-null object\n",
      "Company Name                 23036 non-null object\n",
      "Business Description         23022 non-null object\n",
      "TRBC Economic Sector Name    23036 non-null object\n",
      "dtypes: object(4)\n",
      "memory usage: 720.0+ KB\n"
     ]
    }
   ],
   "source": [
    "df.info()"
   ]
  },
  {
   "cell_type": "markdown",
   "metadata": {},
   "source": [
    "We notice that there are some null values for Business Description."
   ]
  },
  {
   "cell_type": "code",
   "execution_count": 5,
   "metadata": {},
   "outputs": [
    {
     "data": {
      "text/html": [
       "<div>\n",
       "<style scoped>\n",
       "    .dataframe tbody tr th:only-of-type {\n",
       "        vertical-align: middle;\n",
       "    }\n",
       "\n",
       "    .dataframe tbody tr th {\n",
       "        vertical-align: top;\n",
       "    }\n",
       "\n",
       "    .dataframe thead th {\n",
       "        text-align: right;\n",
       "    }\n",
       "</style>\n",
       "<table border=\"1\" class=\"dataframe\">\n",
       "  <thead>\n",
       "    <tr style=\"text-align: right;\">\n",
       "      <th></th>\n",
       "      <th>Identifier</th>\n",
       "      <th>Company Name</th>\n",
       "      <th>Business Description</th>\n",
       "      <th>TRBC Economic Sector Name</th>\n",
       "    </tr>\n",
       "  </thead>\n",
       "  <tbody>\n",
       "    <tr>\n",
       "      <th>count</th>\n",
       "      <td>23036</td>\n",
       "      <td>23036</td>\n",
       "      <td>23022</td>\n",
       "      <td>23036</td>\n",
       "    </tr>\n",
       "    <tr>\n",
       "      <th>unique</th>\n",
       "      <td>23036</td>\n",
       "      <td>23029</td>\n",
       "      <td>23022</td>\n",
       "      <td>10</td>\n",
       "    </tr>\n",
       "    <tr>\n",
       "      <th>top</th>\n",
       "      <td>LOLF.CM</td>\n",
       "      <td>First Bancorp</td>\n",
       "      <td>SHANXI XINGHUACUN FEN WINE FACTORY CO., LTD is...</td>\n",
       "      <td>Financials</td>\n",
       "    </tr>\n",
       "    <tr>\n",
       "      <th>freq</th>\n",
       "      <td>1</td>\n",
       "      <td>2</td>\n",
       "      <td>1</td>\n",
       "      <td>4747</td>\n",
       "    </tr>\n",
       "  </tbody>\n",
       "</table>\n",
       "</div>"
      ],
      "text/plain": [
       "       Identifier   Company Name  \\\n",
       "count       23036          23036   \n",
       "unique      23036          23029   \n",
       "top       LOLF.CM  First Bancorp   \n",
       "freq            1              2   \n",
       "\n",
       "                                     Business Description  \\\n",
       "count                                               23022   \n",
       "unique                                              23022   \n",
       "top     SHANXI XINGHUACUN FEN WINE FACTORY CO., LTD is...   \n",
       "freq                                                    1   \n",
       "\n",
       "       TRBC Economic Sector Name  \n",
       "count                      23036  \n",
       "unique                        10  \n",
       "top                   Financials  \n",
       "freq                        4747  "
      ]
     },
     "execution_count": 5,
     "metadata": {},
     "output_type": "execute_result"
    }
   ],
   "source": [
    "df.describe()"
   ]
  },
  {
   "cell_type": "markdown",
   "metadata": {},
   "source": [
    "We notice that:\n",
    "\n",
    "- There are 10 Sectors, Financial Sector being the most frequently occuring.\n",
    "- Some Company Names are duplicated\n",
    "- Identifiers are all unique so even if a company name is duplicated they will have unique Identifier."
   ]
  },
  {
   "cell_type": "markdown",
   "metadata": {},
   "source": [
    "**Sector Names.**\n",
    "\n",
    "Below, we get the list of 10 Sector Names."
   ]
  },
  {
   "cell_type": "code",
   "execution_count": 6,
   "metadata": {},
   "outputs": [
    {
     "data": {
      "text/plain": [
       "['Basic Materials',\n",
       " 'Consumer Cyclicals',\n",
       " 'Consumer Non-Cyclicals',\n",
       " 'Energy',\n",
       " 'Financials',\n",
       " 'Healthcare',\n",
       " 'Industrials',\n",
       " 'Technology',\n",
       " 'Telecommunications Services',\n",
       " 'Utilities']"
      ]
     },
     "execution_count": 6,
     "metadata": {},
     "output_type": "execute_result"
    }
   ],
   "source": [
    "sectors = df['TRBC Economic Sector Name'].unique()\n",
    "sectors = sorted(list(sectors))\n",
    "sectors"
   ]
  },
  {
   "cell_type": "markdown",
   "metadata": {},
   "source": [
    "We had noticed that some company names were duplicated. Below is a list of them. 7 names were duplicated so there are 14 rows."
   ]
  },
  {
   "cell_type": "code",
   "execution_count": 7,
   "metadata": {},
   "outputs": [
    {
     "data": {
      "text/html": [
       "<div>\n",
       "<style scoped>\n",
       "    .dataframe tbody tr th:only-of-type {\n",
       "        vertical-align: middle;\n",
       "    }\n",
       "\n",
       "    .dataframe tbody tr th {\n",
       "        vertical-align: top;\n",
       "    }\n",
       "\n",
       "    .dataframe thead th {\n",
       "        text-align: right;\n",
       "    }\n",
       "</style>\n",
       "<table border=\"1\" class=\"dataframe\">\n",
       "  <thead>\n",
       "    <tr style=\"text-align: right;\">\n",
       "      <th></th>\n",
       "      <th>Identifier</th>\n",
       "      <th>Company Name</th>\n",
       "      <th>Business Description</th>\n",
       "      <th>TRBC Economic Sector Name</th>\n",
       "    </tr>\n",
       "  </thead>\n",
       "  <tbody>\n",
       "    <tr>\n",
       "      <th>2968</th>\n",
       "      <td>601628.SS</td>\n",
       "      <td>China Life Insurance Co Ltd</td>\n",
       "      <td>China Life Insurance Company Limited is a life...</td>\n",
       "      <td>Financials</td>\n",
       "    </tr>\n",
       "    <tr>\n",
       "      <th>6623</th>\n",
       "      <td>2823.TW</td>\n",
       "      <td>China Life Insurance Co Ltd</td>\n",
       "      <td>China Life Insurance Co., Ltd. is a Taiwan-bas...</td>\n",
       "      <td>Financials</td>\n",
       "    </tr>\n",
       "    <tr>\n",
       "      <th>1526</th>\n",
       "      <td>DLTA.ZI</td>\n",
       "      <td>Delta Corp Ltd</td>\n",
       "      <td>Delta Corporation Limited is a holding company...</td>\n",
       "      <td>Consumer Non-Cyclicals</td>\n",
       "    </tr>\n",
       "    <tr>\n",
       "      <th>17011</th>\n",
       "      <td>DELT.NS</td>\n",
       "      <td>Delta Corp Ltd</td>\n",
       "      <td>Delta Corp Limited is a holding company engage...</td>\n",
       "      <td>Consumer Cyclicals</td>\n",
       "    </tr>\n",
       "    <tr>\n",
       "      <th>18845</th>\n",
       "      <td>FBP.N</td>\n",
       "      <td>First Bancorp</td>\n",
       "      <td>First BanCorp. is a financial holding company....</td>\n",
       "      <td>Financials</td>\n",
       "    </tr>\n",
       "    <tr>\n",
       "      <th>19317</th>\n",
       "      <td>FBNC.OQ</td>\n",
       "      <td>First Bancorp</td>\n",
       "      <td>First Bancorp is the bank holding company for ...</td>\n",
       "      <td>Financials</td>\n",
       "    </tr>\n",
       "    <tr>\n",
       "      <th>18892</th>\n",
       "      <td>INDB.OQ</td>\n",
       "      <td>Independent Bank Corp</td>\n",
       "      <td>Independent Bank Corp. is a bank holding compa...</td>\n",
       "      <td>Financials</td>\n",
       "    </tr>\n",
       "    <tr>\n",
       "      <th>20369</th>\n",
       "      <td>IBCP.OQ</td>\n",
       "      <td>Independent Bank Corp</td>\n",
       "      <td>Independent Bank Corporation is a bank holding...</td>\n",
       "      <td>Financials</td>\n",
       "    </tr>\n",
       "    <tr>\n",
       "      <th>1104</th>\n",
       "      <td>SEED.ZI</td>\n",
       "      <td>Seed Co Ltd</td>\n",
       "      <td>Seed Co Limited is a holding company and is en...</td>\n",
       "      <td>Consumer Non-Cyclicals</td>\n",
       "    </tr>\n",
       "    <tr>\n",
       "      <th>10629</th>\n",
       "      <td>7743.T</td>\n",
       "      <td>Seed Co Ltd</td>\n",
       "      <td>SEED CO.,LTD. is mainly engaged in the researc...</td>\n",
       "      <td>Healthcare</td>\n",
       "    </tr>\n",
       "    <tr>\n",
       "      <th>1291</th>\n",
       "      <td>SBC.MV</td>\n",
       "      <td>Standard Bank Ltd</td>\n",
       "      <td>Standard Bank Limited is a Malawi-based bankin...</td>\n",
       "      <td>Financials</td>\n",
       "    </tr>\n",
       "    <tr>\n",
       "      <th>16097</th>\n",
       "      <td>STBL.DH</td>\n",
       "      <td>Standard Bank Ltd</td>\n",
       "      <td>Standard Bank Limited (SBL or the Bank) is a B...</td>\n",
       "      <td>Financials</td>\n",
       "    </tr>\n",
       "    <tr>\n",
       "      <th>9007</th>\n",
       "      <td>9602.T</td>\n",
       "      <td>Toho Co Ltd</td>\n",
       "      <td>TOHO CO., LTD. is mainly engaged in movie, the...</td>\n",
       "      <td>Consumer Cyclicals</td>\n",
       "    </tr>\n",
       "    <tr>\n",
       "      <th>9008</th>\n",
       "      <td>8142.T</td>\n",
       "      <td>Toho Co Ltd</td>\n",
       "      <td>TOHO Co., Ltd. is mainly engaged in the sale o...</td>\n",
       "      <td>Consumer Non-Cyclicals</td>\n",
       "    </tr>\n",
       "  </tbody>\n",
       "</table>\n",
       "</div>"
      ],
      "text/plain": [
       "      Identifier                 Company Name  \\\n",
       "2968   601628.SS  China Life Insurance Co Ltd   \n",
       "6623     2823.TW  China Life Insurance Co Ltd   \n",
       "1526     DLTA.ZI               Delta Corp Ltd   \n",
       "17011    DELT.NS               Delta Corp Ltd   \n",
       "18845      FBP.N                First Bancorp   \n",
       "19317    FBNC.OQ                First Bancorp   \n",
       "18892    INDB.OQ        Independent Bank Corp   \n",
       "20369    IBCP.OQ        Independent Bank Corp   \n",
       "1104     SEED.ZI                  Seed Co Ltd   \n",
       "10629     7743.T                  Seed Co Ltd   \n",
       "1291      SBC.MV            Standard Bank Ltd   \n",
       "16097    STBL.DH            Standard Bank Ltd   \n",
       "9007      9602.T                  Toho Co Ltd   \n",
       "9008      8142.T                  Toho Co Ltd   \n",
       "\n",
       "                                    Business Description  \\\n",
       "2968   China Life Insurance Company Limited is a life...   \n",
       "6623   China Life Insurance Co., Ltd. is a Taiwan-bas...   \n",
       "1526   Delta Corporation Limited is a holding company...   \n",
       "17011  Delta Corp Limited is a holding company engage...   \n",
       "18845  First BanCorp. is a financial holding company....   \n",
       "19317  First Bancorp is the bank holding company for ...   \n",
       "18892  Independent Bank Corp. is a bank holding compa...   \n",
       "20369  Independent Bank Corporation is a bank holding...   \n",
       "1104   Seed Co Limited is a holding company and is en...   \n",
       "10629  SEED CO.,LTD. is mainly engaged in the researc...   \n",
       "1291   Standard Bank Limited is a Malawi-based bankin...   \n",
       "16097  Standard Bank Limited (SBL or the Bank) is a B...   \n",
       "9007   TOHO CO., LTD. is mainly engaged in movie, the...   \n",
       "9008   TOHO Co., Ltd. is mainly engaged in the sale o...   \n",
       "\n",
       "      TRBC Economic Sector Name  \n",
       "2968                 Financials  \n",
       "6623                 Financials  \n",
       "1526     Consumer Non-Cyclicals  \n",
       "17011        Consumer Cyclicals  \n",
       "18845                Financials  \n",
       "19317                Financials  \n",
       "18892                Financials  \n",
       "20369                Financials  \n",
       "1104     Consumer Non-Cyclicals  \n",
       "10629                Healthcare  \n",
       "1291                 Financials  \n",
       "16097                Financials  \n",
       "9007         Consumer Cyclicals  \n",
       "9008     Consumer Non-Cyclicals  "
      ]
     },
     "execution_count": 7,
     "metadata": {},
     "output_type": "execute_result"
    }
   ],
   "source": [
    "duplicates = df[df['Company Name'].duplicated(keep=False)]\n",
    "duplicates.sort_values('Company Name')"
   ]
  },
  {
   "cell_type": "markdown",
   "metadata": {},
   "source": [
    "**Taking care of Null values.**\n",
    "\n",
    "Below we notice that it's only Business Description column that nas null values - 14 of them."
   ]
  },
  {
   "cell_type": "code",
   "execution_count": 8,
   "metadata": {},
   "outputs": [
    {
     "data": {
      "text/plain": [
       "Identifier                    0\n",
       "Company Name                  0\n",
       "Business Description         14\n",
       "TRBC Economic Sector Name     0\n",
       "dtype: int64"
      ]
     },
     "execution_count": 8,
     "metadata": {},
     "output_type": "execute_result"
    }
   ],
   "source": [
    "df.isnull().sum()"
   ]
  },
  {
   "cell_type": "markdown",
   "metadata": {},
   "source": [
    "Let's check the shape before we remove null rows."
   ]
  },
  {
   "cell_type": "code",
   "execution_count": 9,
   "metadata": {},
   "outputs": [
    {
     "data": {
      "text/plain": [
       "(23036, 4)"
      ]
     },
     "execution_count": 9,
     "metadata": {},
     "output_type": "execute_result"
    }
   ],
   "source": [
    "df.shape"
   ]
  },
  {
   "cell_type": "markdown",
   "metadata": {},
   "source": [
    "Removing null rows, and verifying by checking the shape."
   ]
  },
  {
   "cell_type": "code",
   "execution_count": 10,
   "metadata": {},
   "outputs": [
    {
     "data": {
      "text/plain": [
       "(23022, 4)"
      ]
     },
     "execution_count": 10,
     "metadata": {},
     "output_type": "execute_result"
    }
   ],
   "source": [
    "df = df[pd.notnull(df['Business Description'])]\n",
    "df.shape"
   ]
  },
  {
   "cell_type": "markdown",
   "metadata": {},
   "source": [
    "**Sector Counts.**\n",
    "\n",
    "Below is the counts of number of Companies in each Sector."
   ]
  },
  {
   "cell_type": "code",
   "execution_count": 11,
   "metadata": {},
   "outputs": [
    {
     "data": {
      "text/plain": [
       "Financials                     4743\n",
       "Industrials                    4049\n",
       "Consumer Cyclicals             3617\n",
       "Technology                     2592\n",
       "Basic Materials                2483\n",
       "Healthcare                     1770\n",
       "Consumer Non-Cyclicals         1735\n",
       "Energy                         1062\n",
       "Utilities                       664\n",
       "Telecommunications Services     307\n",
       "Name: TRBC Economic Sector Name, dtype: int64"
      ]
     },
     "execution_count": 11,
     "metadata": {},
     "output_type": "execute_result"
    }
   ],
   "source": [
    "sector_counts = df['TRBC Economic Sector Name'].value_counts()\n",
    "sector_counts"
   ]
  },
  {
   "cell_type": "markdown",
   "metadata": {},
   "source": [
    "Let's plot it."
   ]
  },
  {
   "cell_type": "code",
   "execution_count": 12,
   "metadata": {
    "scrolled": true
   },
   "outputs": [
    {
     "data": {
      "text/plain": [
       "Text(0.5,1,'Sector Counts')"
      ]
     },
     "execution_count": 12,
     "metadata": {},
     "output_type": "execute_result"
    },
    {
     "data": {
      "image/png": "[encoded data removed]",
      "text/plain": [
       "<Figure size 432x288 with 1 Axes>"
      ]
     },
     "metadata": {},
     "output_type": "display_data"
    }
   ],
   "source": [
    "plt.figure(figsize=(6, 4))\n",
    "sns.barplot(sector_counts.values, sector_counts.index, orient='h')\n",
    "plt.xlabel('Number of Companies')\n",
    "plt.title('Sector Counts')"
   ]
  },
  {
   "cell_type": "markdown",
   "metadata": {},
   "source": [
    "## Data Modelling"
   ]
  },
  {
   "cell_type": "markdown",
   "metadata": {},
   "source": [
    "We need to convert the Sector Names into Categories. Below takes care of that."
   ]
  },
  {
   "cell_type": "code",
   "execution_count": 13,
   "metadata": {},
   "outputs": [
    {
     "data": {
      "text/html": [
       "<div>\n",
       "<style scoped>\n",
       "    .dataframe tbody tr th:only-of-type {\n",
       "        vertical-align: middle;\n",
       "    }\n",
       "\n",
       "    .dataframe tbody tr th {\n",
       "        vertical-align: top;\n",
       "    }\n",
       "\n",
       "    .dataframe thead th {\n",
       "        text-align: right;\n",
       "    }\n",
       "</style>\n",
       "<table border=\"1\" class=\"dataframe\">\n",
       "  <thead>\n",
       "    <tr style=\"text-align: right;\">\n",
       "      <th></th>\n",
       "      <th>Identifier</th>\n",
       "      <th>Company Name</th>\n",
       "      <th>Business Description</th>\n",
       "      <th>TRBC Economic Sector Name</th>\n",
       "      <th>Sector ID</th>\n",
       "    </tr>\n",
       "  </thead>\n",
       "  <tbody>\n",
       "    <tr>\n",
       "      <th>0</th>\n",
       "      <td>CMI.N</td>\n",
       "      <td>Cummins Inc</td>\n",
       "      <td>Cummins Inc. designs, manufactures, distribute...</td>\n",
       "      <td>Consumer Cyclicals</td>\n",
       "      <td>1</td>\n",
       "    </tr>\n",
       "    <tr>\n",
       "      <th>1</th>\n",
       "      <td>RIO.L</td>\n",
       "      <td>Rio Tinto PLC</td>\n",
       "      <td>Rio Tinto plc is a mining and metals company. ...</td>\n",
       "      <td>Basic Materials</td>\n",
       "      <td>0</td>\n",
       "    </tr>\n",
       "    <tr>\n",
       "      <th>2</th>\n",
       "      <td>RIO.AX</td>\n",
       "      <td>Rio Tinto Ltd</td>\n",
       "      <td>Rio Tinto Limited (Rio Tinto) is a mining comp...</td>\n",
       "      <td>Basic Materials</td>\n",
       "      <td>0</td>\n",
       "    </tr>\n",
       "    <tr>\n",
       "      <th>3</th>\n",
       "      <td>RDSa.AS</td>\n",
       "      <td>Royal Dutch Shell PLC</td>\n",
       "      <td>The Royal Dutch Shell plc explores for crude o...</td>\n",
       "      <td>Energy</td>\n",
       "      <td>3</td>\n",
       "    </tr>\n",
       "    <tr>\n",
       "      <th>4</th>\n",
       "      <td>BLT.L</td>\n",
       "      <td>BHP Billiton PLC</td>\n",
       "      <td>BHP Billiton Plc is a global resources company...</td>\n",
       "      <td>Basic Materials</td>\n",
       "      <td>0</td>\n",
       "    </tr>\n",
       "  </tbody>\n",
       "</table>\n",
       "</div>"
      ],
      "text/plain": [
       "  Identifier           Company Name  \\\n",
       "0      CMI.N            Cummins Inc   \n",
       "1      RIO.L          Rio Tinto PLC   \n",
       "2     RIO.AX          Rio Tinto Ltd   \n",
       "3    RDSa.AS  Royal Dutch Shell PLC   \n",
       "4      BLT.L       BHP Billiton PLC   \n",
       "\n",
       "                                Business Description  \\\n",
       "0  Cummins Inc. designs, manufactures, distribute...   \n",
       "1  Rio Tinto plc is a mining and metals company. ...   \n",
       "2  Rio Tinto Limited (Rio Tinto) is a mining comp...   \n",
       "3  The Royal Dutch Shell plc explores for crude o...   \n",
       "4  BHP Billiton Plc is a global resources company...   \n",
       "\n",
       "  TRBC Economic Sector Name  Sector ID  \n",
       "0        Consumer Cyclicals          1  \n",
       "1           Basic Materials          0  \n",
       "2           Basic Materials          0  \n",
       "3                    Energy          3  \n",
       "4           Basic Materials          0  "
      ]
     },
     "execution_count": 13,
     "metadata": {},
     "output_type": "execute_result"
    }
   ],
   "source": [
    "df['Sector ID'] = df['TRBC Economic Sector Name'].factorize(sort=True)[0]\n",
    "df.head()"
   ]
  },
  {
   "cell_type": "markdown",
   "metadata": {},
   "source": [
    "Building dictionaries of sectors to ids and vice versa for future use. This would come in handy when we have got predictions."
   ]
  },
  {
   "cell_type": "code",
   "execution_count": 14,
   "metadata": {},
   "outputs": [
    {
     "data": {
      "text/plain": [
       "{'Basic Materials': 0,\n",
       " 'Consumer Cyclicals': 1,\n",
       " 'Consumer Non-Cyclicals': 2,\n",
       " 'Energy': 3,\n",
       " 'Financials': 4,\n",
       " 'Healthcare': 5,\n",
       " 'Industrials': 6,\n",
       " 'Technology': 7,\n",
       " 'Telecommunications Services': 8,\n",
       " 'Utilities': 9}"
      ]
     },
     "execution_count": 14,
     "metadata": {},
     "output_type": "execute_result"
    }
   ],
   "source": [
    "sector_to_id = dict(df[['TRBC Economic Sector Name','Sector ID']].values)\n",
    "sector_to_id"
   ]
  },
  {
   "cell_type": "code",
   "execution_count": 15,
   "metadata": {},
   "outputs": [
    {
     "data": {
      "text/plain": [
       "{0: 'Basic Materials',\n",
       " 1: 'Consumer Cyclicals',\n",
       " 2: 'Consumer Non-Cyclicals',\n",
       " 3: 'Energy',\n",
       " 4: 'Financials',\n",
       " 5: 'Healthcare',\n",
       " 6: 'Industrials',\n",
       " 7: 'Technology',\n",
       " 8: 'Telecommunications Services',\n",
       " 9: 'Utilities'}"
      ]
     },
     "execution_count": 15,
     "metadata": {},
     "output_type": "execute_result"
    }
   ],
   "source": [
    "id_to_sector = dict(df[['Sector ID','TRBC Economic Sector Name']].values)\n",
    "id_to_sector"
   ]
  },
  {
   "cell_type": "markdown",
   "metadata": {},
   "source": [
    "**Features and Targets.**\n",
    "\n",
    "X is feature inputs and y is target outputs."
   ]
  },
  {
   "cell_type": "code",
   "execution_count": 16,
   "metadata": {},
   "outputs": [
    {
     "data": {
      "text/plain": [
       "((23022,), (23022,))"
      ]
     },
     "execution_count": 16,
     "metadata": {},
     "output_type": "execute_result"
    }
   ],
   "source": [
    "X = df['Business Description']\n",
    "y = df['Sector ID']\n",
    "\n",
    "X.shape, y.shape"
   ]
  },
  {
   "cell_type": "markdown",
   "metadata": {},
   "source": [
    "Taking a look at first few inputs."
   ]
  },
  {
   "cell_type": "code",
   "execution_count": 17,
   "metadata": {},
   "outputs": [
    {
     "data": {
      "text/plain": [
       "0    Cummins Inc. designs, manufactures, distribute...\n",
       "1    Rio Tinto plc is a mining and metals company. ...\n",
       "2    Rio Tinto Limited (Rio Tinto) is a mining comp...\n",
       "3    The Royal Dutch Shell plc explores for crude o...\n",
       "4    BHP Billiton Plc is a global resources company...\n",
       "Name: Business Description, dtype: object"
      ]
     },
     "execution_count": 17,
     "metadata": {},
     "output_type": "execute_result"
    }
   ],
   "source": [
    "X.head()"
   ]
  },
  {
   "cell_type": "markdown",
   "metadata": {},
   "source": [
    "Same thing with the outputs."
   ]
  },
  {
   "cell_type": "code",
   "execution_count": 18,
   "metadata": {},
   "outputs": [
    {
     "data": {
      "text/plain": [
       "0    1\n",
       "1    0\n",
       "2    0\n",
       "3    3\n",
       "4    0\n",
       "Name: Sector ID, dtype: int64"
      ]
     },
     "execution_count": 18,
     "metadata": {},
     "output_type": "execute_result"
    }
   ],
   "source": [
    "y.head()"
   ]
  },
  {
   "cell_type": "markdown",
   "metadata": {},
   "source": [
    "Splitting into training and test sets."
   ]
  },
  {
   "cell_type": "code",
   "execution_count": 19,
   "metadata": {
    "collapsed": true
   },
   "outputs": [],
   "source": [
    "X_train, X_test, y_train, y_test = train_test_split(X, y, random_state=0)"
   ]
  },
  {
   "cell_type": "markdown",
   "metadata": {},
   "source": [
    "Checking the shapes of training and test sets. We notice that they have been split 75:25 ratio."
   ]
  },
  {
   "cell_type": "code",
   "execution_count": 20,
   "metadata": {},
   "outputs": [
    {
     "name": "stdout",
     "output_type": "stream",
     "text": [
      "(17266,)\n",
      "(5756,)\n",
      "(17266,)\n",
      "(5756,)\n"
     ]
    }
   ],
   "source": [
    "splits = [X_train, X_test, y_train, y_test]\n",
    "for _ in splits:\n",
    "    print(_.shape)"
   ]
  },
  {
   "cell_type": "markdown",
   "metadata": {},
   "source": [
    "## Vectorising Texts"
   ]
  },
  {
   "cell_type": "markdown",
   "metadata": {},
   "source": [
    "We would need to convert the sequence of words into sequence of numbers and vectorise them. Below takes cares of that."
   ]
  },
  {
   "cell_type": "code",
   "execution_count": 21,
   "metadata": {
    "collapsed": true
   },
   "outputs": [],
   "source": [
    "vect = CountVectorizer()"
   ]
  },
  {
   "cell_type": "markdown",
   "metadata": {},
   "source": [
    "Below gets all the unique words from the training set and builds a vocabulary."
   ]
  },
  {
   "cell_type": "code",
   "execution_count": 22,
   "metadata": {},
   "outputs": [
    {
     "name": "stdout",
     "output_type": "stream",
     "text": [
      "Wall time: 2.62 s\n"
     ]
    },
    {
     "data": {
      "text/plain": [
       "CountVectorizer(analyzer='word', binary=False, decode_error='strict',\n",
       "        dtype=<class 'numpy.int64'>, encoding='utf-8', input='content',\n",
       "        lowercase=True, max_df=1.0, max_features=None, min_df=1,\n",
       "        ngram_range=(1, 1), preprocessor=None, stop_words=None,\n",
       "        strip_accents=None, token_pattern='(?u)\\\\b\\\\w\\\\w+\\\\b',\n",
       "        tokenizer=None, vocabulary=None)"
      ]
     },
     "execution_count": 22,
     "metadata": {},
     "output_type": "execute_result"
    }
   ],
   "source": [
    "%time vect.fit(X_train)"
   ]
  },
  {
   "cell_type": "markdown",
   "metadata": {},
   "source": [
    "Notice the column dimension - 66679: this is the number of unique words from the training data. \n",
    "\n",
    "17266 is the number of training samples. \n",
    "\n",
    "dtm stands for document term matrix."
   ]
  },
  {
   "cell_type": "code",
   "execution_count": 23,
   "metadata": {},
   "outputs": [
    {
     "data": {
      "text/plain": [
       "<17266x66679 sparse matrix of type '<class 'numpy.int64'>'\n",
       "\twith 1138763 stored elements in Compressed Sparse Row format>"
      ]
     },
     "execution_count": 23,
     "metadata": {},
     "output_type": "execute_result"
    }
   ],
   "source": [
    "X_train_dtm = vect.transform(X_train)\n",
    "X_train_dtm"
   ]
  },
  {
   "cell_type": "markdown",
   "metadata": {},
   "source": [
    "We convert the test inputs (raw text) into matrices (numbers) as well.\n",
    "\n",
    "Notice the same number of column dimension - 66679.\n",
    "\n",
    "5756 is the number of test samples."
   ]
  },
  {
   "cell_type": "code",
   "execution_count": 24,
   "metadata": {},
   "outputs": [
    {
     "data": {
      "text/plain": [
       "<5756x66679 sparse matrix of type '<class 'numpy.int64'>'\n",
       "\twith 366707 stored elements in Compressed Sparse Row format>"
      ]
     },
     "execution_count": 24,
     "metadata": {},
     "output_type": "execute_result"
    }
   ],
   "source": [
    "X_test_dtm = vect.transform(X_test)\n",
    "X_test_dtm"
   ]
  },
  {
   "cell_type": "markdown",
   "metadata": {},
   "source": [
    "## Naive Bayes"
   ]
  },
  {
   "cell_type": "markdown",
   "metadata": {},
   "source": [
    "Initialising Naive Bayes classifier."
   ]
  },
  {
   "cell_type": "code",
   "execution_count": 25,
   "metadata": {
    "collapsed": true
   },
   "outputs": [],
   "source": [
    "nb = MultinomialNB()"
   ]
  },
  {
   "cell_type": "markdown",
   "metadata": {},
   "source": [
    "Notice we are passing in X_train_dtm, and not X_train."
   ]
  },
  {
   "cell_type": "code",
   "execution_count": 26,
   "metadata": {},
   "outputs": [
    {
     "name": "stdout",
     "output_type": "stream",
     "text": [
      "Wall time: 74 ms\n"
     ]
    },
    {
     "data": {
      "text/plain": [
       "MultinomialNB(alpha=1.0, class_prior=None, fit_prior=True)"
      ]
     },
     "execution_count": 26,
     "metadata": {},
     "output_type": "execute_result"
    }
   ],
   "source": [
    "%time nb.fit(X_train_dtm, y_train)"
   ]
  },
  {
   "cell_type": "markdown",
   "metadata": {},
   "source": [
    "Getting predictions."
   ]
  },
  {
   "cell_type": "code",
   "execution_count": 27,
   "metadata": {
    "collapsed": true
   },
   "outputs": [],
   "source": [
    "y_pred_nb = nb.predict(X_test_dtm)"
   ]
  },
  {
   "cell_type": "markdown",
   "metadata": {},
   "source": [
    "We get 77% accuracy with Naive Bayes."
   ]
  },
  {
   "cell_type": "code",
   "execution_count": 28,
   "metadata": {},
   "outputs": [
    {
     "data": {
      "text/plain": [
       "0.7720639332870048"
      ]
     },
     "execution_count": 28,
     "metadata": {},
     "output_type": "execute_result"
    }
   ],
   "source": [
    "metrics.accuracy_score(y_test, y_pred_nb)"
   ]
  },
  {
   "cell_type": "markdown",
   "metadata": {},
   "source": [
    "Below we take a look at the results from the first 10 samples from the test set."
   ]
  },
  {
   "cell_type": "code",
   "execution_count": 29,
   "metadata": {},
   "outputs": [
    {
     "data": {
      "text/html": [
       "<div>\n",
       "<style scoped>\n",
       "    .dataframe tbody tr th:only-of-type {\n",
       "        vertical-align: middle;\n",
       "    }\n",
       "\n",
       "    .dataframe tbody tr th {\n",
       "        vertical-align: top;\n",
       "    }\n",
       "\n",
       "    .dataframe thead th {\n",
       "        text-align: right;\n",
       "    }\n",
       "</style>\n",
       "<table border=\"1\" class=\"dataframe\">\n",
       "  <thead>\n",
       "    <tr style=\"text-align: right;\">\n",
       "      <th></th>\n",
       "      <th>Business Description</th>\n",
       "      <th>True Sector Name</th>\n",
       "      <th>Predicted Sector Names</th>\n",
       "    </tr>\n",
       "  </thead>\n",
       "  <tbody>\n",
       "    <tr>\n",
       "      <th>2479</th>\n",
       "      <td>Anhui Deli Housedhold Glass Co.,Ltd is a China...</td>\n",
       "      <td>Consumer Cyclicals</td>\n",
       "      <td>Consumer Cyclicals</td>\n",
       "    </tr>\n",
       "    <tr>\n",
       "      <th>16617</th>\n",
       "      <td>Tokyo Cement Company (Lanka) PLC is a holding ...</td>\n",
       "      <td>Basic Materials</td>\n",
       "      <td>Basic Materials</td>\n",
       "    </tr>\n",
       "    <tr>\n",
       "      <th>1515</th>\n",
       "      <td>Transcorp Hotels Plc is engaged in the renderi...</td>\n",
       "      <td>Consumer Cyclicals</td>\n",
       "      <td>Consumer Cyclicals</td>\n",
       "    </tr>\n",
       "    <tr>\n",
       "      <th>10506</th>\n",
       "      <td>HONEYS HOLDINGS CO., LTD., formerly HONEYS. CO...</td>\n",
       "      <td>Consumer Cyclicals</td>\n",
       "      <td>Consumer Cyclicals</td>\n",
       "    </tr>\n",
       "    <tr>\n",
       "      <th>22838</th>\n",
       "      <td>EnviTec Biogas AG is a Germany-based biogas pl...</td>\n",
       "      <td>Utilities</td>\n",
       "      <td>Industrials</td>\n",
       "    </tr>\n",
       "    <tr>\n",
       "      <th>11277</th>\n",
       "      <td>Inversiones Nacionales de Turismo SA (INTURSA)...</td>\n",
       "      <td>Consumer Cyclicals</td>\n",
       "      <td>Consumer Cyclicals</td>\n",
       "    </tr>\n",
       "    <tr>\n",
       "      <th>2335</th>\n",
       "      <td>YUEYANG XINGCHANG PETRO-CHEMICAL CO., LTD. is ...</td>\n",
       "      <td>Basic Materials</td>\n",
       "      <td>Basic Materials</td>\n",
       "    </tr>\n",
       "    <tr>\n",
       "      <th>16619</th>\n",
       "      <td>Solar Industries India Limited is an explosive...</td>\n",
       "      <td>Basic Materials</td>\n",
       "      <td>Basic Materials</td>\n",
       "    </tr>\n",
       "    <tr>\n",
       "      <th>5217</th>\n",
       "      <td>Shanghai Weihong Electronic Technology Co., Lt...</td>\n",
       "      <td>Industrials</td>\n",
       "      <td>Industrials</td>\n",
       "    </tr>\n",
       "    <tr>\n",
       "      <th>20221</th>\n",
       "      <td>Rosetta Stone Inc. (Rosetta Stone) offers pers...</td>\n",
       "      <td>Technology</td>\n",
       "      <td>Technology</td>\n",
       "    </tr>\n",
       "  </tbody>\n",
       "</table>\n",
       "</div>"
      ],
      "text/plain": [
       "                                    Business Description    True Sector Name  \\\n",
       "2479   Anhui Deli Housedhold Glass Co.,Ltd is a China...  Consumer Cyclicals   \n",
       "16617  Tokyo Cement Company (Lanka) PLC is a holding ...     Basic Materials   \n",
       "1515   Transcorp Hotels Plc is engaged in the renderi...  Consumer Cyclicals   \n",
       "10506  HONEYS HOLDINGS CO., LTD., formerly HONEYS. CO...  Consumer Cyclicals   \n",
       "22838  EnviTec Biogas AG is a Germany-based biogas pl...           Utilities   \n",
       "11277  Inversiones Nacionales de Turismo SA (INTURSA)...  Consumer Cyclicals   \n",
       "2335   YUEYANG XINGCHANG PETRO-CHEMICAL CO., LTD. is ...     Basic Materials   \n",
       "16619  Solar Industries India Limited is an explosive...     Basic Materials   \n",
       "5217   Shanghai Weihong Electronic Technology Co., Lt...         Industrials   \n",
       "20221  Rosetta Stone Inc. (Rosetta Stone) offers pers...          Technology   \n",
       "\n",
       "      Predicted Sector Names  \n",
       "2479      Consumer Cyclicals  \n",
       "16617        Basic Materials  \n",
       "1515      Consumer Cyclicals  \n",
       "10506     Consumer Cyclicals  \n",
       "22838            Industrials  \n",
       "11277     Consumer Cyclicals  \n",
       "2335         Basic Materials  \n",
       "16619        Basic Materials  \n",
       "5217             Industrials  \n",
       "20221             Technology  "
      ]
     },
     "execution_count": 29,
     "metadata": {},
     "output_type": "execute_result"
    }
   ],
   "source": [
    "trueSectorNames_10 = [id_to_sector[true_sector_id] for true_sector_id in y_test[:10]] \n",
    "predSectorNames_10_nb = [id_to_sector[pred_sector_id] for pred_sector_id in y_pred_nb[:10]] \n",
    "\n",
    "\n",
    "pd.DataFrame({'Business Description':X_test[:10],\n",
    "             'True Sector Name':trueSectorNames_10,\n",
    "             'Predicted Sector Names':predSectorNames_10_nb})"
   ]
  },
  {
   "cell_type": "markdown",
   "metadata": {},
   "source": [
    "One of them was wrongly predicted - ID 22838. True value is Utilities but it was predicted as Industrials."
   ]
  },
  {
   "cell_type": "code",
   "execution_count": 30,
   "metadata": {},
   "outputs": [
    {
     "data": {
      "text/plain": [
       "\"EnviTec Biogas AG is a Germany-based biogas plant construction company. It provides planning, construction, installation, and repair and maintenance services for biogas plants. The Company operates through four segments: Own Plant Operation, Plant Construction, Energy and Service. The Own Plant Operation segment comprises activities related to the generation of electricity from biogas plants owned by the Company. The Plant Construction segment includes biogas plant planning and construction services to third parties. The Energy segment offers direct feeding of upgraded biomethane produced in the Company's plants, as well as services related to the direct marketing of electricity produced in biogas plants. The Service segment provides services related to the operation of biogas plants, such as installation, controls and repair and maintenance.\""
      ]
     },
     "execution_count": 30,
     "metadata": {},
     "output_type": "execute_result"
    }
   ],
   "source": [
    "X_test[22838]"
   ]
  },
  {
   "cell_type": "markdown",
   "metadata": {},
   "source": [
    "Below we get the confusion matrix."
   ]
  },
  {
   "cell_type": "code",
   "execution_count": 31,
   "metadata": {},
   "outputs": [
    {
     "data": {
      "text/plain": [
       "array([[ 500,   17,    6,    3,   10,    3,   80,    6,    0,    0],\n",
       "       [  41,  627,   14,    0,   42,    2,  125,   63,    0,    0],\n",
       "       [  10,   50,  333,    0,    7,   15,   26,    3,    0,    0],\n",
       "       [  18,    4,    1,  152,    1,    1,   52,    2,    0,    1],\n",
       "       [   6,   20,    1,    1, 1084,    0,   48,    9,    0,    0],\n",
       "       [  10,    4,   15,    0,   13,  402,   24,    6,    0,    0],\n",
       "       [  29,   41,    6,    8,   58,    3,  773,  103,    0,    0],\n",
       "       [   5,   37,    1,    0,   11,    2,   83,  499,    0,    0],\n",
       "       [   0,    4,    0,    0,    5,    0,    6,   55,    6,    0],\n",
       "       [   1,    2,    0,   13,    3,    0,   75,    1,    0,   68]],\n",
       "      dtype=int64)"
      ]
     },
     "execution_count": 31,
     "metadata": {},
     "output_type": "execute_result"
    }
   ],
   "source": [
    "metrics.confusion_matrix(y_test, y_pred_nb)"
   ]
  },
  {
   "cell_type": "markdown",
   "metadata": {},
   "source": [
    "And below is classification report with f1 score."
   ]
  },
  {
   "cell_type": "code",
   "execution_count": 32,
   "metadata": {},
   "outputs": [
    {
     "name": "stdout",
     "output_type": "stream",
     "text": [
      "                             precision    recall  f1-score   support\n",
      "\n",
      "            Basic Materials       0.81      0.80      0.80       625\n",
      "         Consumer Cyclicals       0.78      0.69      0.73       914\n",
      "     Consumer Non-Cyclicals       0.88      0.75      0.81       444\n",
      "                     Energy       0.86      0.66      0.74       232\n",
      "                 Financials       0.88      0.93      0.90      1169\n",
      "                 Healthcare       0.94      0.85      0.89       474\n",
      "                Industrials       0.60      0.76      0.67      1021\n",
      "                 Technology       0.67      0.78      0.72       638\n",
      "Telecommunications Services       1.00      0.08      0.15        76\n",
      "                  Utilities       0.99      0.42      0.59       163\n",
      "\n",
      "                avg / total       0.79      0.77      0.77      5756\n",
      "\n"
     ]
    }
   ],
   "source": [
    "print(metrics.classification_report(y_test, y_pred_nb, target_names=sectors))"
   ]
  },
  {
   "cell_type": "markdown",
   "metadata": {},
   "source": [
    "## Logistic Regression"
   ]
  },
  {
   "cell_type": "markdown",
   "metadata": {},
   "source": [
    "Initialising Logistic Regression classifier."
   ]
  },
  {
   "cell_type": "code",
   "execution_count": 33,
   "metadata": {
    "collapsed": true
   },
   "outputs": [],
   "source": [
    "lr = LogisticRegression()"
   ]
  },
  {
   "cell_type": "markdown",
   "metadata": {},
   "source": [
    "Training. Notice that Logistic Regression takes longer time (31.2 s) than Naive Bayes (97 ms)."
   ]
  },
  {
   "cell_type": "code",
   "execution_count": 34,
   "metadata": {},
   "outputs": [
    {
     "name": "stdout",
     "output_type": "stream",
     "text": [
      "Wall time: 34.5 s\n"
     ]
    },
    {
     "data": {
      "text/plain": [
       "LogisticRegression(C=1.0, class_weight=None, dual=False, fit_intercept=True,\n",
       "          intercept_scaling=1, max_iter=100, multi_class='ovr', n_jobs=1,\n",
       "          penalty='l2', random_state=None, solver='liblinear', tol=0.0001,\n",
       "          verbose=0, warm_start=False)"
      ]
     },
     "execution_count": 34,
     "metadata": {},
     "output_type": "execute_result"
    }
   ],
   "source": [
    "%time lr.fit(X_train_dtm, y_train)"
   ]
  },
  {
   "cell_type": "markdown",
   "metadata": {},
   "source": [
    "Getting predictions."
   ]
  },
  {
   "cell_type": "code",
   "execution_count": 35,
   "metadata": {
    "collapsed": true
   },
   "outputs": [],
   "source": [
    "y_pred_lr = lr.predict(X_test_dtm)"
   ]
  },
  {
   "cell_type": "markdown",
   "metadata": {},
   "source": [
    "We get 80% accuracy with Logistic Regression."
   ]
  },
  {
   "cell_type": "code",
   "execution_count": 36,
   "metadata": {},
   "outputs": [
    {
     "data": {
      "text/plain": [
       "0.8080264072272412"
      ]
     },
     "execution_count": 36,
     "metadata": {},
     "output_type": "execute_result"
    }
   ],
   "source": [
    "metrics.accuracy_score(y_test, y_pred_lr)"
   ]
  },
  {
   "cell_type": "markdown",
   "metadata": {},
   "source": [
    "Below we take a look at the results from the first 10 samples from the test set."
   ]
  },
  {
   "cell_type": "code",
   "execution_count": 37,
   "metadata": {},
   "outputs": [
    {
     "data": {
      "text/html": [
       "<div>\n",
       "<style scoped>\n",
       "    .dataframe tbody tr th:only-of-type {\n",
       "        vertical-align: middle;\n",
       "    }\n",
       "\n",
       "    .dataframe tbody tr th {\n",
       "        vertical-align: top;\n",
       "    }\n",
       "\n",
       "    .dataframe thead th {\n",
       "        text-align: right;\n",
       "    }\n",
       "</style>\n",
       "<table border=\"1\" class=\"dataframe\">\n",
       "  <thead>\n",
       "    <tr style=\"text-align: right;\">\n",
       "      <th></th>\n",
       "      <th>Business Description</th>\n",
       "      <th>True Sector Name</th>\n",
       "      <th>Predicted Sector Names</th>\n",
       "    </tr>\n",
       "  </thead>\n",
       "  <tbody>\n",
       "    <tr>\n",
       "      <th>2479</th>\n",
       "      <td>Anhui Deli Housedhold Glass Co.,Ltd is a China...</td>\n",
       "      <td>Consumer Cyclicals</td>\n",
       "      <td>Consumer Cyclicals</td>\n",
       "    </tr>\n",
       "    <tr>\n",
       "      <th>16617</th>\n",
       "      <td>Tokyo Cement Company (Lanka) PLC is a holding ...</td>\n",
       "      <td>Basic Materials</td>\n",
       "      <td>Basic Materials</td>\n",
       "    </tr>\n",
       "    <tr>\n",
       "      <th>1515</th>\n",
       "      <td>Transcorp Hotels Plc is engaged in the renderi...</td>\n",
       "      <td>Consumer Cyclicals</td>\n",
       "      <td>Financials</td>\n",
       "    </tr>\n",
       "    <tr>\n",
       "      <th>10506</th>\n",
       "      <td>HONEYS HOLDINGS CO., LTD., formerly HONEYS. CO...</td>\n",
       "      <td>Consumer Cyclicals</td>\n",
       "      <td>Consumer Cyclicals</td>\n",
       "    </tr>\n",
       "    <tr>\n",
       "      <th>22838</th>\n",
       "      <td>EnviTec Biogas AG is a Germany-based biogas pl...</td>\n",
       "      <td>Utilities</td>\n",
       "      <td>Utilities</td>\n",
       "    </tr>\n",
       "    <tr>\n",
       "      <th>11277</th>\n",
       "      <td>Inversiones Nacionales de Turismo SA (INTURSA)...</td>\n",
       "      <td>Consumer Cyclicals</td>\n",
       "      <td>Consumer Cyclicals</td>\n",
       "    </tr>\n",
       "    <tr>\n",
       "      <th>2335</th>\n",
       "      <td>YUEYANG XINGCHANG PETRO-CHEMICAL CO., LTD. is ...</td>\n",
       "      <td>Basic Materials</td>\n",
       "      <td>Basic Materials</td>\n",
       "    </tr>\n",
       "    <tr>\n",
       "      <th>16619</th>\n",
       "      <td>Solar Industries India Limited is an explosive...</td>\n",
       "      <td>Basic Materials</td>\n",
       "      <td>Basic Materials</td>\n",
       "    </tr>\n",
       "    <tr>\n",
       "      <th>5217</th>\n",
       "      <td>Shanghai Weihong Electronic Technology Co., Lt...</td>\n",
       "      <td>Industrials</td>\n",
       "      <td>Industrials</td>\n",
       "    </tr>\n",
       "    <tr>\n",
       "      <th>20221</th>\n",
       "      <td>Rosetta Stone Inc. (Rosetta Stone) offers pers...</td>\n",
       "      <td>Technology</td>\n",
       "      <td>Technology</td>\n",
       "    </tr>\n",
       "  </tbody>\n",
       "</table>\n",
       "</div>"
      ],
      "text/plain": [
       "                                    Business Description    True Sector Name  \\\n",
       "2479   Anhui Deli Housedhold Glass Co.,Ltd is a China...  Consumer Cyclicals   \n",
       "16617  Tokyo Cement Company (Lanka) PLC is a holding ...     Basic Materials   \n",
       "1515   Transcorp Hotels Plc is engaged in the renderi...  Consumer Cyclicals   \n",
       "10506  HONEYS HOLDINGS CO., LTD., formerly HONEYS. CO...  Consumer Cyclicals   \n",
       "22838  EnviTec Biogas AG is a Germany-based biogas pl...           Utilities   \n",
       "11277  Inversiones Nacionales de Turismo SA (INTURSA)...  Consumer Cyclicals   \n",
       "2335   YUEYANG XINGCHANG PETRO-CHEMICAL CO., LTD. is ...     Basic Materials   \n",
       "16619  Solar Industries India Limited is an explosive...     Basic Materials   \n",
       "5217   Shanghai Weihong Electronic Technology Co., Lt...         Industrials   \n",
       "20221  Rosetta Stone Inc. (Rosetta Stone) offers pers...          Technology   \n",
       "\n",
       "      Predicted Sector Names  \n",
       "2479      Consumer Cyclicals  \n",
       "16617        Basic Materials  \n",
       "1515              Financials  \n",
       "10506     Consumer Cyclicals  \n",
       "22838              Utilities  \n",
       "11277     Consumer Cyclicals  \n",
       "2335         Basic Materials  \n",
       "16619        Basic Materials  \n",
       "5217             Industrials  \n",
       "20221             Technology  "
      ]
     },
     "execution_count": 37,
     "metadata": {},
     "output_type": "execute_result"
    }
   ],
   "source": [
    "predSectorNames_10_lr = [id_to_sector[pred_sector_id] for pred_sector_id in y_pred_lr[:10]] \n",
    "\n",
    "pd.DataFrame({'Business Description':X_test[:10],\n",
    "             'True Sector Name':trueSectorNames_10,\n",
    "             'Predicted Sector Names':predSectorNames_10_lr})"
   ]
  },
  {
   "cell_type": "markdown",
   "metadata": {},
   "source": [
    "One of them was wrongly predicted - ID 1515. True value is Consumer Cyclicals but it was predicted as Financials."
   ]
  },
  {
   "cell_type": "code",
   "execution_count": 38,
   "metadata": {},
   "outputs": [
    {
     "data": {
      "text/plain": [
       "\"Transcorp Hotels Plc is engaged in the rendering of hotel services. The Company is engaged in developing hospitality assets in Nigeria and West Africa regions. The Company's hotels include Transcorp Hilton Abuja and Transcorp Hotels Calabar. The Company's Transcorp Hilton Abuja hotel has approximately 670 rooms, and it provides cuisine and meeting rooms to business travelers and tourists. The Transcorp Hilton Abuja hotel offers a guest reward program, Hilton Honors, which awards points and miles to members staying at any of the Hilton Group's 3,700 hotels around the world, and airline miles in partnership with over 50 airlines. The 146-room Transcorp Hotels Calabar provides conferencing facilities, dining, round the clock room service, a fitness center, airport pick up and wireless fidelity (wi-fi) in all guest rooms. The Company is a subsidiary of Transnational Corporation of Nigeria Plc (Transcorp).\""
      ]
     },
     "execution_count": 38,
     "metadata": {},
     "output_type": "execute_result"
    }
   ],
   "source": [
    "X_test[1515]"
   ]
  },
  {
   "cell_type": "markdown",
   "metadata": {},
   "source": [
    "Confusion Matrix for Logistic Regression."
   ]
  },
  {
   "cell_type": "code",
   "execution_count": 39,
   "metadata": {},
   "outputs": [
    {
     "data": {
      "text/plain": [
       "array([[ 510,   15,    9,   12,   12,    3,   47,   15,    0,    2],\n",
       "       [  29,  700,   21,    2,   33,    3,   71,   51,    3,    1],\n",
       "       [  10,   31,  358,    1,    9,   16,   11,    6,    1,    1],\n",
       "       [  10,    2,    2,  186,    4,    1,   11,    5,    0,   11],\n",
       "       [   7,   29,    1,    4, 1073,    4,   36,   13,    0,    2],\n",
       "       [   4,    2,   13,    0,    5,  435,    5,   10,    0,    0],\n",
       "       [  35,   78,    9,   19,   47,    6,  711,  108,    0,    8],\n",
       "       [   7,   46,    1,    1,   10,    8,   85,  474,    6,    0],\n",
       "       [   0,    2,    0,    0,    1,    0,    6,    7,   60,    0],\n",
       "       [   2,    1,    0,    6,    1,    0,    9,    0,    0,  144]],\n",
       "      dtype=int64)"
      ]
     },
     "execution_count": 39,
     "metadata": {},
     "output_type": "execute_result"
    }
   ],
   "source": [
    "metrics.confusion_matrix(y_test, y_pred_lr)"
   ]
  },
  {
   "cell_type": "markdown",
   "metadata": {},
   "source": [
    "Classification report with f1 score for Logistic Regression."
   ]
  },
  {
   "cell_type": "code",
   "execution_count": 40,
   "metadata": {},
   "outputs": [
    {
     "name": "stdout",
     "output_type": "stream",
     "text": [
      "                             precision    recall  f1-score   support\n",
      "\n",
      "            Basic Materials       0.83      0.82      0.82       625\n",
      "         Consumer Cyclicals       0.77      0.77      0.77       914\n",
      "     Consumer Non-Cyclicals       0.86      0.81      0.83       444\n",
      "                     Energy       0.81      0.80      0.80       232\n",
      "                 Financials       0.90      0.92      0.91      1169\n",
      "                 Healthcare       0.91      0.92      0.92       474\n",
      "                Industrials       0.72      0.70      0.71      1021\n",
      "                 Technology       0.69      0.74      0.71       638\n",
      "Telecommunications Services       0.86      0.79      0.82        76\n",
      "                  Utilities       0.85      0.88      0.87       163\n",
      "\n",
      "                avg / total       0.81      0.81      0.81      5756\n",
      "\n"
     ]
    }
   ],
   "source": [
    "print(metrics.classification_report(y_test, y_pred_lr, target_names=sectors))"
   ]
  },
  {
   "cell_type": "markdown",
   "metadata": {},
   "source": [
    "## Average Result"
   ]
  },
  {
   "cell_type": "markdown",
   "metadata": {},
   "source": [
    "We have got results from one run. Let's run the above classifiers with 3 iterations (training and test sets will be sampled differently). And we will report the average result.\n",
    "\n",
    "Below function will take care of that -  it will return accuray and f1 scores."
   ]
  },
  {
   "cell_type": "code",
   "execution_count": 41,
   "metadata": {
    "collapsed": true
   },
   "outputs": [],
   "source": [
    "def mean_clf(X, y, clf):\n",
    "    \n",
    "    accuracyScores = []\n",
    "    f1Scores = []\n",
    "    \n",
    "    for iter in range(3):    \n",
    "        \n",
    "        X_train, X_test, y_train, y_test = train_test_split(X, y)\n",
    "        \n",
    "        vect = CountVectorizer()\n",
    "        vect.fit(X_train)\n",
    "        X_train_dtm = vect.transform(X_train)\n",
    "        X_test_dtm = vect.transform(X_test)\n",
    "\n",
    "        clf.fit(X_train_dtm, y_train)\n",
    "        y_pred = clf.predict(X_test_dtm)\n",
    "        accuracy = metrics.accuracy_score(y_test, y_pred)\n",
    "        f1 = metrics.f1_score(y_test, y_pred, average='weighted')\n",
    "        accuracyScores.append(accuracy)\n",
    "        f1Scores.append(f1)\n",
    "    \n",
    "    return accuracyScores, f1Scores"
   ]
  },
  {
   "cell_type": "markdown",
   "metadata": {},
   "source": [
    "Running 3 iterations for Naive Bayes."
   ]
  },
  {
   "cell_type": "code",
   "execution_count": 42,
   "metadata": {},
   "outputs": [
    {
     "name": "stdout",
     "output_type": "stream",
     "text": [
      "[0.7708478109798471, 0.7626824183460736, 0.764593467685893]\n",
      "[0.765255334952377, 0.7581986544142778, 0.7615409447044693]\n",
      "Wall time: 18.7 s\n"
     ]
    }
   ],
   "source": [
    "%%time\n",
    "nb = MultinomialNB()\n",
    "accuracy_nb, f1_nb = mean_clf(X, y, nb)\n",
    "print(accuracy_nb)\n",
    "print(f1_nb)"
   ]
  },
  {
   "cell_type": "markdown",
   "metadata": {},
   "source": [
    "Running 3 iterations for Logistic Regression."
   ]
  },
  {
   "cell_type": "code",
   "execution_count": 43,
   "metadata": {},
   "outputs": [
    {
     "name": "stdout",
     "output_type": "stream",
     "text": [
      "[0.8083738707435719, 0.8125434329395413, 0.8019457956914524]\n",
      "[0.8085858210955582, 0.8125738078717776, 0.8022087344588543]\n",
      "Wall time: 1min 52s\n"
     ]
    }
   ],
   "source": [
    "%%time\n",
    "lr = LogisticRegression()\n",
    "accuracy_lr, f1_lr = mean_clf(X, y, lr)\n",
    "print(accuracy_lr)\n",
    "print(f1_lr)"
   ]
  },
  {
   "cell_type": "markdown",
   "metadata": {},
   "source": [
    "Reporting the average result. Naive Bayes gave accuracy score of 76% while Logistic Regression gave 80% accuracy score."
   ]
  },
  {
   "cell_type": "code",
   "execution_count": 44,
   "metadata": {},
   "outputs": [
    {
     "data": {
      "text/html": [
       "<div>\n",
       "<style scoped>\n",
       "    .dataframe tbody tr th:only-of-type {\n",
       "        vertical-align: middle;\n",
       "    }\n",
       "\n",
       "    .dataframe tbody tr th {\n",
       "        vertical-align: top;\n",
       "    }\n",
       "\n",
       "    .dataframe thead th {\n",
       "        text-align: right;\n",
       "    }\n",
       "</style>\n",
       "<table border=\"1\" class=\"dataframe\">\n",
       "  <thead>\n",
       "    <tr style=\"text-align: right;\">\n",
       "      <th></th>\n",
       "      <th>Accuracy Score</th>\n",
       "      <th>F1 Score</th>\n",
       "    </tr>\n",
       "  </thead>\n",
       "  <tbody>\n",
       "    <tr>\n",
       "      <th>Naive Bayes</th>\n",
       "      <td>0.766041</td>\n",
       "      <td>0.761665</td>\n",
       "    </tr>\n",
       "    <tr>\n",
       "      <th>Logistic Regression</th>\n",
       "      <td>0.807621</td>\n",
       "      <td>0.807789</td>\n",
       "    </tr>\n",
       "  </tbody>\n",
       "</table>\n",
       "</div>"
      ],
      "text/plain": [
       "                     Accuracy Score  F1 Score\n",
       "Naive Bayes                0.766041  0.761665\n",
       "Logistic Regression        0.807621  0.807789"
      ]
     },
     "execution_count": 44,
     "metadata": {},
     "output_type": "execute_result"
    }
   ],
   "source": [
    "pd.DataFrame({'Accuracy Score':[np.array(accuracy_nb).mean(), np.array(accuracy_lr).mean()],\n",
    "             'F1 Score': [np.array(f1_nb).mean(), np.array(f1_lr).mean()]},\n",
    "             index=['Naive Bayes','Logistic Regression'])"
   ]
  }
 ],
 "metadata": {
  "kernelspec": {
   "display_name": "Python [conda root]",
   "language": "python",
   "name": "conda-root-py"
  },
  "language_info": {
   "codemirror_mode": {
    "name": "ipython",
    "version": 3
   },
   "file_extension": ".py",
   "mimetype": "text/x-python",
   "name": "python",
   "nbconvert_exporter": "python",
   "pygments_lexer": "ipython3",
   "version": "3.6.6"
  }
 },
 "nbformat": 4,
 "nbformat_minor": 2
}
